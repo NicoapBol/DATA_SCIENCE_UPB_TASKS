{
 "cells": [
  {
   "cell_type": "markdown",
   "metadata": {},
   "source": [
    "# <img style=\"float: left; padding-right: 20px; height: 70px\" src=\"https://i.imgur.com/cMzxwTN.jpg\"> Fundamentos del lenguaje Python\n",
    "\n",
    "## Actividad: Manejo de variables en python\n",
    "\n",
    "**Universidad Privada Boliviana**<br/>\n",
    "**CIENCIA DE DATOS CON PYTHON**<br/>\n",
    "**Julio 2023**<br/>"
   ]
  },
  {
   "cell_type": "markdown",
   "metadata": {},
   "source": [
    "## Ejercicio: Planificador Pizzas 🍕\n",
    "\n",
    "Estás organizando una fiesta y quieres calcular cuántas pizzas necesitas pedir en función del número de invitados, su apetito y los tamaños de pizza disponibles. Construyamos un programa en Python para ayudarte con esta tarea.\n",
    "\n",
    "## Instrucciones:\n",
    "\n",
    "1.  Define una variable `num_invitados` y asígnale un valor apropiado basado en el número de invitados que esperas. Utiliza un número entero para esta variable.\n"
   ]
  },
  {
   "cell_type": "code",
   "execution_count": 1,
   "metadata": {},
   "outputs": [],
   "source": [
    "# tu codigo aca...\n"
   ]
  },
  {
   "cell_type": "markdown",
   "metadata": {},
   "source": [
    "    \n",
    "2.  Define una variable `rebanadas_por_invitado` y asígnale un valor apropiado basado en la cantidad promedio de rebanadas que cada invitado podría consumir. Esto puede ser un número decimal o entero."
   ]
  },
  {
   "cell_type": "code",
   "execution_count": 2,
   "metadata": {},
   "outputs": [],
   "source": [
    "# Tu codigo aca"
   ]
  },
  {
   "cell_type": "markdown",
   "metadata": {},
   "source": [
    "3.  Calcula el total de rebanadas de pizza necesarias utilizando la fórmula:\n",
    "    \n",
    "    ```\n",
    "    total_rebanadas = num_invitados * rebanadas_por_invitado\n",
    "    \n",
    "    ```\n",
    "\n",
    "    \n"
   ]
  },
  {
   "cell_type": "code",
   "execution_count": 3,
   "metadata": {},
   "outputs": [],
   "source": [
    "# Tu codigo aca"
   ]
  },
  {
   "cell_type": "markdown",
   "metadata": {},
   "source": [
    "    \n",
    "4.  Ahora, necesitas determinar la cantidad de pizzas requeridas para satisfacer a todos. Cada pizza tiene un número fijo de rebanadas, que definirás en una variable `rebanadas_por_pizza`. Elige un valor adecuado para esta variable por ejemplo 12 rebanadas en un pizza."
   ]
  },
  {
   "cell_type": "code",
   "execution_count": 4,
   "metadata": {},
   "outputs": [],
   "source": [
    "# Tu codigo aca"
   ]
  },
  {
   "cell_type": "markdown",
   "metadata": {},
   "source": [
    "5.  Calcula la cantidad de pizzas necesarias utilizando la fórmula:\n",
    "    \n",
    "    ```\n",
    "    num_pizzas = total_rebanadas // rebanadas_por_pizza + 1\n",
    "    \n",
    "    ```\n",
    "    \n",
    "    Nota: El operador `//` realiza una división entera, descartando el residuo.\n",
    "    \n"
   ]
  },
  {
   "cell_type": "code",
   "execution_count": 5,
   "metadata": {},
   "outputs": [],
   "source": [
    "# Tu codigo aca"
   ]
  },
  {
   "cell_type": "markdown",
   "metadata": {},
   "source": [
    "6.  Para hacer la fiesta de pizza más interesante, decides ofrecer una variedad de sabores. Define tres variables `sabor1`, `sabor2` y `sabor3`, y asígnales tus tres sabores de pizza favoritos como cadenas de texto. Por ejemplo `sabor1 = 'pepperoni'`\n"
   ]
  },
  {
   "cell_type": "code",
   "execution_count": 6,
   "metadata": {},
   "outputs": [],
   "source": [
    "# tu codigo aca\n",
    "sabor1 = ...\n",
    "sabor2 = ...\n",
    "sabor3 = ...\n",
    "\n"
   ]
  },
  {
   "cell_type": "markdown",
   "metadata": {},
   "source": [
    "    \n",
    "7.  Crea otra variable `num_sabores` y asígnale el valor 3.\n"
   ]
  },
  {
   "cell_type": "code",
   "execution_count": 7,
   "metadata": {},
   "outputs": [],
   "source": [
    "# tu codigo aca"
   ]
  },
  {
   "cell_type": "markdown",
   "metadata": {},
   "source": [
    "\n",
    "    \n",
    "8.  Ahora, calcula el número promedio de pizzas por sabor dividiendo el total de pizzas entre la cantidad de sabores disponibles. Asigna este valor a la variable `pizzas_por_sabor` utilizando el operador `/`.\n"
   ]
  },
  {
   "cell_type": "code",
   "execution_count": 8,
   "metadata": {},
   "outputs": [],
   "source": [
    "# tu codigo aca"
   ]
  },
  {
   "cell_type": "markdown",
   "metadata": {},
   "source": [
    "\n",
    "    \n",
    "9.  Finalmente, imprime los resultados finales utilizando mensajes apropiados. Muestra los valores de `num_invitados`, `rebanadas_por_invitado`, `total_rebanadas`, `num_pizzas`, `sabor1`, `sabor2`, `sabor3`, `num_sabores` y `pizzas_por_sabor`.\n",
    "    \n"
   ]
  },
  {
   "cell_type": "code",
   "execution_count": 9,
   "metadata": {},
   "outputs": [],
   "source": [
    "# tu codigo aca"
   ]
  },
  {
   "cell_type": "markdown",
   "metadata": {},
   "source": [
    "\n",
    "## Sugerencias:\n",
    "\n",
    "-   Recuerda utilizar nombres de variables apropiados y proporcionar mensajes de salida claros.\n",
    "-   El número de invitados y la cantidad promedio de rebanadas por invitado pueden ser números enteros o decimales, según tu preferencia.\n",
    "\n",
    "Tu tarea es completar los espacios en blanco y finalizar el programa de acuerdo con las instrucciones. ¡Disfruta planificando tu fiesta ! 🎉🍕"
   ]
  }
 ],
 "metadata": {
  "kernelspec": {
   "display_name": "Python 3.10.4 64-bit",
   "language": "python",
   "name": "python3"
  },
  "language_info": {
   "codemirror_mode": {
    "name": "ipython",
    "version": 3
   },
   "file_extension": ".py",
   "mimetype": "text/x-python",
   "name": "python",
   "nbconvert_exporter": "python",
   "pygments_lexer": "ipython3",
   "version": "3.10.4"
  },
  "orig_nbformat": 4,
  "vscode": {
   "interpreter": {
    "hash": "f66e3edf856e3e4a3652763ddb6c2ab1c25665e5b9e1fed087bb1a040433f3bb"
   }
  }
 },
 "nbformat": 4,
 "nbformat_minor": 2
}
