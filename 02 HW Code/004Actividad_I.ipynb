{
    "cells": [
        {
            "cell_type": "markdown",
            "metadata": {},
            "source": [
                "# <img style=\"float: left; padding-right: 20px; height: 70px\" src=\"https://scontent.flpb2-1.fna.fbcdn.net/v/t39.30808-6/333037578_535368228681036_1718744419186811485_n.jpg?_nc_cat=101&ccb=1-7&_nc_sid=09cbfe&_nc_ohc=Y0wrgOHt3UIAX_CTUKQ&_nc_ht=scontent.flpb2-1.fna&oh=00_AfBfGzpo0-x8gU11VFnWwNRJ-1tOK9hv1D7JAHfZhFfzOw&oe=648C289F\"> Herramientas Básicas de Visualización de Datos\n",
                "\n",
                "## Actividad `I` 17 de Junio\n",
                "\n",
                "**Universidad Privada Boliviana**<br/>\n",
                "**Diplomado en Machine Learning y Ciencia de Datos 2-2023**<br/>\n",
                "**Junio 2023**<br/>\n"
            ]
        },
        {
            "attachments": {},
            "cell_type": "markdown",
            "metadata": {},
            "source": [
                "## Manipulación de listas usando bucles de python.\n",
                "> La indexación es muy útil para manipular listas. Sin embargo, las selecciones específicas de una lista necesitan que iteremos sobre cada elemento de la lista antes de hacer una selección."
            ]
        },
        {
            "cell_type": "code",
            "execution_count": 8,
            "metadata": {},
            "outputs": [],
            "source": [
                "# Funcion de ayuda. \n",
                "# Hacer correr este bloque sin modificar el codigo\n",
                "import random\n",
                "test_list = [i for i in range(2000)]\n",
                "test_list = random.sample(test_list,1000)\n",
                "\n",
                "chess_board = [8*['W'],8*['W'],8*[' '],8*[' '],8*[' '],8*[' '],8*['B'],8*['B']]"
            ]
        },
        {
            "cell_type": "code",
            "execution_count": 9,
            "metadata": {},
            "outputs": [
                {
                    "name": "stdout",
                    "output_type": "stream",
                    "text": [
                        "[491, 43, 1683, 1276, 636, 410, 1332, 1429, 765, 1787]\n"
                    ]
                }
            ],
            "source": [
                "# imprimir los primeros 10 elementos de `test_list`\n",
                "print(test_list[:10])"
            ]
        },
        {
            "cell_type": "code",
            "execution_count": 10,
            "metadata": {},
            "outputs": [
                {
                    "name": "stdout",
                    "output_type": "stream",
                    "text": [
                        "[2, 6, 7, 8, 10, 11, 15, 17, 18, 22]\n"
                    ]
                }
            ],
            "source": [
                "#Ordene el contenido de test list, llame esta variable sorted_list\n",
                "# verifique el contenido de `test_list` después de ordenarlo\n",
                "sorted_list = sorted(test_list)\n",
                "# Imprime los primeros diez elementos de sorted_list\n",
                "print(sorted_list[:10])"
            ]
        },
        {
            "attachments": {},
            "cell_type": "markdown",
            "metadata": {},
            "source": [
                "### ⏸ ¿Qué método de lista puede usar para agregar un solo elemento a la lista?\n",
                "\n",
                "#### A. `append()`\n",
                "#### B. `extend()`\n",
                "#### C. `add()`\n",
                "#### D. `pop()`\n"
            ]
        },
        {
            "cell_type": "code",
            "execution_count": 11,
            "metadata": {},
            "outputs": [],
            "source": [
                "\n",
                "# Envíe una opción de respuesta como una cadena a continuación (por ejemplo, si elige la opción A, escriba 'A')\n",
                "answer1 = 'C'"
            ]
        },
        {
            "cell_type": "code",
            "execution_count": 12,
            "metadata": {},
            "outputs": [
                {
                    "name": "stdout",
                    "output_type": "stream",
                    "text": [
                        "Sample list: [2, 10, 13, 15, 20, 28, 34, 44, 45, 48, 60, 85, 100, 115, 126, 132, 133, 152, 175, 187]\n",
                        "List even numbers only: [2, 10, 20, 28, 34, 44, 48, 60, 100, 126, 132, 152]\n"
                    ]
                }
            ],
            "source": [
                "# Esta vez, use un bucle for para encontrar todos los números pares y agréguelos a 'even_list'\n",
                "random_list = [i for i in range(200)]\n",
                "random_list = random.sample(random_list,20)\n",
                "print(f\"Sample list: {sorted(random_list)}\")\n",
                "\n",
                "even_list = []\n",
                "\n",
                "for even in random_list:\n",
                "    if even % 2 ==0:\n",
                "        even_list.append(even)\n",
                "        \n",
                "# Comprueba si la lista consta solo de números pares   \n",
                "print(f\"List even numbers only: {sorted(even_list)}\")        "
            ]
        },
        {
            "cell_type": "code",
            "execution_count": 13,
            "metadata": {},
            "outputs": [
                {
                    "name": "stdout",
                    "output_type": "stream",
                    "text": [
                        "Sample list: [2, 10, 13, 15, 20, 28, 34, 44, 45, 48, 60, 85, 100, 115, 126, 132, 133, 152, 175, 187]\n",
                        "List odd numbers only: [13, 15, 45, 85, 115, 133, 175, 187]\n"
                    ]
                }
            ],
            "source": [
                "# Nuevamente use un ciclo para encontrar todos los números impares y agréguelos a 'odd_list'\n",
                "print(f\"Sample list: {sorted(random_list)}\")\n",
                "odd_list = []\n",
                "\n",
                "for odd in random_list:\n",
                "    if odd % 2 !=0:\n",
                "        odd_list.append(odd)\n",
                "        \n",
                "# Comprueba si la lista consta solo de números pares   \n",
                "print(f\"List odd numbers only: {sorted(odd_list)}\")        "
            ]
        },
        {
            "attachments": {},
            "cell_type": "markdown",
            "metadata": {},
            "source": [
                "### 🍲 Para el siguiente código, ¿cuándo se imprimirá `¡Buena elección!`?\n",
                "\n",
                "```python\n",
                "while True:\n",
                "    name = input('Cual es tu color favorito?')\n",
                "    if name == 'rojo':\n",
                "        break\n",
                "print(\"¡Buena elección!\")\n",
                "```\n",
                "#### A. el usuario ingresa `rojo`\n",
                "#### B. el usuario usa `command/ctrl + C` para salir del bucle\n",
                "#### C. entradas de usuario `Rojo`\n",
                "#### Todo lo anterior"
            ]
        },
        {
            "cell_type": "code",
            "execution_count": 14,
            "metadata": {},
            "outputs": [],
            "source": [
                "# Envíe una opción de respuesta como un string (por ejemplo, si elige la opción A, escriba 'A')\n",
                "answer2 = 'A'"
            ]
        }
    ],
    "metadata": {
        "kernelspec": {
            "display_name": "Python 3.10.4 64-bit",
            "language": "python",
            "name": "python3"
        },
        "language_info": {
            "codemirror_mode": {
                "name": "ipython",
                "version": 3
            },
            "file_extension": ".py",
            "mimetype": "text/x-python",
            "name": "python",
            "nbconvert_exporter": "python",
            "pygments_lexer": "ipython3",
            "version": "3.10.11"
        },
        "vscode": {
            "interpreter": {
                "hash": "f66e3edf856e3e4a3652763ddb6c2ab1c25665e5b9e1fed087bb1a040433f3bb"
            }
        }
    },
    "nbformat": 4,
    "nbformat_minor": 4
}
