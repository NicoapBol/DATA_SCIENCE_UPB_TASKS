{
    "cells": [
        {
            "cell_type": "markdown",
            "metadata": {},
            "source": [
                "# <img style=\"float: left; padding-right: 20px; height: 70px\" src=\"https://scontent.flpb2-1.fna.fbcdn.net/v/t39.30808-6/333037578_535368228681036_1718744419186811485_n.jpg?_nc_cat=101&ccb=1-7&_nc_sid=09cbfe&_nc_ohc=Y0wrgOHt3UIAX_CTUKQ&_nc_ht=scontent.flpb2-1.fna&oh=00_AfBfGzpo0-x8gU11VFnWwNRJ-1tOK9hv1D7JAHfZhFfzOw&oe=648C289F\"> Herramientas Básicas de Visualización de Datos\n",
                "\n",
                "## Actividad `I` 17 de Junio\n",
                "\n",
                "**Universidad Privada Boliviana**<br/>\n",
                "**Diplomado en Machine Learning y Ciencia de Datos 2-2023**<br/>\n",
                "**Junio 2023**<br/>\n"
            ]
        },
        {
            "attachments": {},
            "cell_type": "markdown",
            "metadata": {},
            "source": [
                "## Manipulación de listas usando bucles de python.\n",
                "> La indexación es muy útil para manipular listas. Sin embargo, las selecciones específicas de una lista necesitan que iteremos sobre cada elemento de la lista antes de hacer una selección."
            ]
        },
        {
            "cell_type": "code",
            "execution_count": 2,
            "metadata": {},
            "outputs": [],
            "source": [
                "# Funcion de ayuda. \n",
                "# Hacer correr este bloque sin modificar el codigo\n",
                "import random\n",
                "test_list = [i for i in range(2000)]\n",
                "test_list = random.sample(test_list,1000)\n",
                "\n",
                "chess_board = [8*['W'],8*['W'],8*[' '],8*[' '],8*[' '],8*[' '],8*['B'],8*['B']]"
            ]
        },
        {
            "cell_type": "code",
            "execution_count": null,
            "metadata": {},
            "outputs": [],
            "source": [
                "# imprimir los primeros 10 elementos de `test_list`\n",
                "___"
            ]
        },
        {
            "cell_type": "code",
            "execution_count": 4,
            "metadata": {},
            "outputs": [
                {
                    "name": "stdout",
                    "output_type": "stream",
                    "text": [
                        "\n"
                    ]
                }
            ],
            "source": [
                "#Ordene el contenido de test list, llame esta variable sorted_list\n",
                "# verifique el contenido de `test_list` después de ordenarlo\n",
                "sorted_list = ___\n",
                "# Imprime los primeros diez elementos de sorted_list\n",
                "___"
            ]
        },
        {
            "attachments": {},
            "cell_type": "markdown",
            "metadata": {},
            "source": [
                "### ⏸ ¿Qué método de lista puede usar para agregar un solo elemento a la lista?\n",
                "\n",
                "#### A. `append()`\n",
                "#### B. `extend()`\n",
                "#### C. `add()`\n",
                "#### D. `pop()`\n"
            ]
        },
        {
            "cell_type": "code",
            "execution_count": 5,
            "metadata": {},
            "outputs": [],
            "source": [
                "\n",
                "# Envíe una opción de respuesta como una cadena a continuación (por ejemplo, si elige la opción A, escriba 'A')\n",
                "answer1 = '___'"
            ]
        },
        {
            "cell_type": "code",
            "execution_count": null,
            "metadata": {},
            "outputs": [],
            "source": [
                "# Esta vez, use un bucle for para encontrar todos los números pares y agréguelos a 'even_list'\n",
                "even_list = []\n",
                "for ___:\n",
                "    ___\n",
                "        \n",
                "# Comprueba si la lista consta solo de números pares   \n",
                "print(even_list[:10])        "
            ]
        },
        {
            "cell_type": "code",
            "execution_count": null,
            "metadata": {},
            "outputs": [],
            "source": [
                "# Nuevamente use un ciclo para encontrar todos los números impares y agréguelos a 'odd_list'\n",
                "odd_list = []\n",
                "for ___:\n",
                "        ___\n",
                "    \n",
                "# Comprueba si la lista consta solo de enteros impares\n",
                "print(odd_list[:10])        "
            ]
        },
        {
            "attachments": {},
            "cell_type": "markdown",
            "metadata": {},
            "source": [
                "### 🍲 Para el siguiente código, ¿cuándo se imprimirá `¡Buena elección!`?\n",
                "\n",
                "```python\n",
                "while True:\n",
                "    name = input('Cual es tu color favorito?')\n",
                "    if name == 'rojo':\n",
                "        break\n",
                "print(\"¡Buena elección!\")\n",
                "```\n",
                "#### A. el usuario ingresa `rojo`\n",
                "#### B. el usuario usa `command/ctrl + C` para salir del bucle\n",
                "#### C. entradas de usuario `Rojo`\n",
                "#### Todo lo anterior"
            ]
        },
        {
            "cell_type": "code",
            "execution_count": null,
            "metadata": {},
            "outputs": [],
            "source": [
                "# Envíe una opción de respuesta como un string (por ejemplo, si elige la opción A, escriba 'A')\n",
                "answer2 = '___'"
            ]
        }
    ],
    "metadata": {
        "kernelspec": {
            "display_name": "Python 3.10.4 64-bit",
            "language": "python",
            "name": "python3"
        },
        "language_info": {
            "codemirror_mode": {
                "name": "ipython",
                "version": 3
            },
            "file_extension": ".py",
            "mimetype": "text/x-python",
            "name": "python",
            "nbconvert_exporter": "python",
            "pygments_lexer": "ipython3",
            "version": "3.10.4"
        },
        "vscode": {
            "interpreter": {
                "hash": "f66e3edf856e3e4a3652763ddb6c2ab1c25665e5b9e1fed087bb1a040433f3bb"
            }
        }
    },
    "nbformat": 4,
    "nbformat_minor": 4
}
