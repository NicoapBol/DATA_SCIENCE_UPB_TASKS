{
  "cells": [
    {
      "cell_type": "markdown",
      "metadata": {
        "id": "HePMfY34eCDX"
      },
      "source": [
        "# UNIDAD 4 - CLASIFICADOR NAIVE BAYES\n",
        "## Docente: Ruth Rosario Chirinos Contreras\n",
        "## Fecha de Entrega: 13/Sept/2023 19:00 PM"
      ]
    },
    {
      "cell_type": "markdown",
      "metadata": {
        "_cell_guid": "f169d7cf-818b-4815-a5be-76265e99d139",
        "_uuid": "25f02ffdb0d53b9663f351fa0c0f415d2bce15b1",
        "id": "Wp_Uu_QIeWsq"
      },
      "source": [
        "# Clasificacion de SMS Spam con Naive Bayes"
      ]
    },
    {
      "cell_type": "code",
      "execution_count": 4,
      "metadata": {
        "_cell_guid": "77dbf249-4662-4faf-ae30-654f5f76f5b1",
        "_uuid": "5eb96b9e55cca9f7dbc74128cd5933856b39aa51",
        "id": "4TJy2RkqeWst"
      },
      "outputs": [],
      "source": [
        "import numpy as np\n",
        "import pandas as pd\n",
        "import matplotlib.pyplot as plt\n",
        "from collections import Counter\n",
        "from sklearn import feature_extraction, model_selection, naive_bayes, metrics\n",
        "\n",
        "import warnings\n",
        "warnings.filterwarnings(\"ignore\")\n",
        "%matplotlib inline"
      ]
    },
    {
      "cell_type": "markdown",
      "metadata": {
        "_cell_guid": "ab7471a7-9fda-4dc9-ba8b-6d4f0c1b92e1",
        "_uuid": "2a11f84b23cf786579a3beb1074c6e7375456b77",
        "id": "DYlMihUkeWsv"
      },
      "source": [
        "## Explorando el Dataset"
      ]
    },
    {
      "cell_type": "code",
      "execution_count": 5,
      "metadata": {
        "_cell_guid": "e8604809-62b9-47bd-84fa-92063d8ae5b3",
        "_uuid": "3a9038c1ea6026f8ae89cf052aa71c89bcb940dd",
        "colab": {
          "base_uri": "https://localhost:8080/",
          "height": 363
        },
        "id": "oXC72tCZeWsv",
        "outputId": "dafe4201-f690-4e57-d861-d1349390d47e",
        "scrolled": true
      },
      "outputs": [
        {
          "data": {
            "text/html": [
              "<div>\n",
              "<style scoped>\n",
              "    .dataframe tbody tr th:only-of-type {\n",
              "        vertical-align: middle;\n",
              "    }\n",
              "\n",
              "    .dataframe tbody tr th {\n",
              "        vertical-align: top;\n",
              "    }\n",
              "\n",
              "    .dataframe thead th {\n",
              "        text-align: right;\n",
              "    }\n",
              "</style>\n",
              "<table border=\"1\" class=\"dataframe\">\n",
              "  <thead>\n",
              "    <tr style=\"text-align: right;\">\n",
              "      <th></th>\n",
              "      <th>v1</th>\n",
              "      <th>v2</th>\n",
              "      <th>Unnamed: 2</th>\n",
              "      <th>Unnamed: 3</th>\n",
              "      <th>Unnamed: 4</th>\n",
              "    </tr>\n",
              "  </thead>\n",
              "  <tbody>\n",
              "    <tr>\n",
              "      <th>0</th>\n",
              "      <td>ham</td>\n",
              "      <td>Go until jurong point, crazy.. Available only ...</td>\n",
              "      <td>NaN</td>\n",
              "      <td>NaN</td>\n",
              "      <td>NaN</td>\n",
              "    </tr>\n",
              "    <tr>\n",
              "      <th>1</th>\n",
              "      <td>ham</td>\n",
              "      <td>Ok lar... Joking wif u oni...</td>\n",
              "      <td>NaN</td>\n",
              "      <td>NaN</td>\n",
              "      <td>NaN</td>\n",
              "    </tr>\n",
              "    <tr>\n",
              "      <th>2</th>\n",
              "      <td>spam</td>\n",
              "      <td>Free entry in 2 a wkly comp to win FA Cup fina...</td>\n",
              "      <td>NaN</td>\n",
              "      <td>NaN</td>\n",
              "      <td>NaN</td>\n",
              "    </tr>\n",
              "    <tr>\n",
              "      <th>3</th>\n",
              "      <td>ham</td>\n",
              "      <td>U dun say so early hor... U c already then say...</td>\n",
              "      <td>NaN</td>\n",
              "      <td>NaN</td>\n",
              "      <td>NaN</td>\n",
              "    </tr>\n",
              "    <tr>\n",
              "      <th>4</th>\n",
              "      <td>ham</td>\n",
              "      <td>Nah I don't think he goes to usf, he lives aro...</td>\n",
              "      <td>NaN</td>\n",
              "      <td>NaN</td>\n",
              "      <td>NaN</td>\n",
              "    </tr>\n",
              "    <tr>\n",
              "      <th>5</th>\n",
              "      <td>spam</td>\n",
              "      <td>FreeMsg Hey there darling it's been 3 week's n...</td>\n",
              "      <td>NaN</td>\n",
              "      <td>NaN</td>\n",
              "      <td>NaN</td>\n",
              "    </tr>\n",
              "    <tr>\n",
              "      <th>6</th>\n",
              "      <td>ham</td>\n",
              "      <td>Even my brother is not like to speak with me. ...</td>\n",
              "      <td>NaN</td>\n",
              "      <td>NaN</td>\n",
              "      <td>NaN</td>\n",
              "    </tr>\n",
              "    <tr>\n",
              "      <th>7</th>\n",
              "      <td>ham</td>\n",
              "      <td>As per your request 'Melle Melle (Oru Minnamin...</td>\n",
              "      <td>NaN</td>\n",
              "      <td>NaN</td>\n",
              "      <td>NaN</td>\n",
              "    </tr>\n",
              "    <tr>\n",
              "      <th>8</th>\n",
              "      <td>spam</td>\n",
              "      <td>WINNER!! As a valued network customer you have...</td>\n",
              "      <td>NaN</td>\n",
              "      <td>NaN</td>\n",
              "      <td>NaN</td>\n",
              "    </tr>\n",
              "    <tr>\n",
              "      <th>9</th>\n",
              "      <td>spam</td>\n",
              "      <td>Had your mobile 11 months or more? U R entitle...</td>\n",
              "      <td>NaN</td>\n",
              "      <td>NaN</td>\n",
              "      <td>NaN</td>\n",
              "    </tr>\n",
              "  </tbody>\n",
              "</table>\n",
              "</div>"
            ],
            "text/plain": [
              "     v1                                                 v2 Unnamed: 2  \\\n",
              "0   ham  Go until jurong point, crazy.. Available only ...        NaN   \n",
              "1   ham                      Ok lar... Joking wif u oni...        NaN   \n",
              "2  spam  Free entry in 2 a wkly comp to win FA Cup fina...        NaN   \n",
              "3   ham  U dun say so early hor... U c already then say...        NaN   \n",
              "4   ham  Nah I don't think he goes to usf, he lives aro...        NaN   \n",
              "5  spam  FreeMsg Hey there darling it's been 3 week's n...        NaN   \n",
              "6   ham  Even my brother is not like to speak with me. ...        NaN   \n",
              "7   ham  As per your request 'Melle Melle (Oru Minnamin...        NaN   \n",
              "8  spam  WINNER!! As a valued network customer you have...        NaN   \n",
              "9  spam  Had your mobile 11 months or more? U R entitle...        NaN   \n",
              "\n",
              "  Unnamed: 3 Unnamed: 4  \n",
              "0        NaN        NaN  \n",
              "1        NaN        NaN  \n",
              "2        NaN        NaN  \n",
              "3        NaN        NaN  \n",
              "4        NaN        NaN  \n",
              "5        NaN        NaN  \n",
              "6        NaN        NaN  \n",
              "7        NaN        NaN  \n",
              "8        NaN        NaN  \n",
              "9        NaN        NaN  "
            ]
          },
          "execution_count": 5,
          "metadata": {},
          "output_type": "execute_result"
        }
      ],
      "source": [
        "data = pd.read_csv(r'C:\\Users\\nicol\\Documents\\DATA_SCIENCE_UPB_TASKS\\00 Data\\01_datasets\\spam.csv', encoding='latin-1')\n",
        "data.head(n=10)\n",
        "# 'ham': es e-mail que no es Spam"
      ]
    },
    {
      "cell_type": "markdown",
      "metadata": {
        "_cell_guid": "2ed76eea-004a-42a0-a1c9-c45c092bbb4b",
        "_uuid": "d71ec916875461c07bdb1f9d53d9b0a7210de035",
        "id": "oYCT7OyneWsw"
      },
      "source": [
        "## Distribucion spam/non-spam plots"
      ]
    },
    {
      "cell_type": "code",
      "execution_count": 6,
      "metadata": {
        "_cell_guid": "74f9cf41-4793-4be5-a46e-bdb93067e973",
        "_uuid": "99a4b831313c23573b7972c65637d01dd497c6fe",
        "colab": {
          "base_uri": "https://localhost:8080/",
          "height": 476
        },
        "id": "C99zxjSZeWsx",
        "outputId": "4d69741b-b053-4035-8b7b-61fd1ae2350a",
        "scrolled": true
      },
      "outputs": [
        {
          "data": {
            "image/png": "[encoded data removed]",
            "text/plain": [
              "<Figure size 640x480 with 1 Axes>"
            ]
          },
          "metadata": {},
          "output_type": "display_data"
        }
      ],
      "source": [
        "count_Class=pd.value_counts(data[\"v1\"], sort= True)\n",
        "count_Class.plot(kind= 'bar', color= [\"blue\", \"orange\"])\n",
        "plt.title('Bar chart')\n",
        "plt.show()"
      ]
    },
    {
      "cell_type": "code",
      "execution_count": 7,
      "metadata": {
        "_cell_guid": "5596df63-7be7-4625-b952-c5508917a630",
        "_uuid": "f233eab105cb93e90ce37f9361616a5be6645751",
        "colab": {
          "base_uri": "https://localhost:8080/",
          "height": 428
        },
        "id": "3gbo0UlWeWsx",
        "outputId": "21f6da95-a4bc-4cde-e63e-a72885858574"
      },
      "outputs": [
        {
          "data": {
            "image/png": "[encoded data removed]",
            "text/plain": [
              "<Figure size 640x480 with 1 Axes>"
            ]
          },
          "metadata": {},
          "output_type": "display_data"
        }
      ],
      "source": [
        "count_Class.plot(kind = 'pie',  autopct='%1.0f%%')\n",
        "plt.title('Pie chart')\n",
        "plt.ylabel('')\n",
        "plt.show()"
      ]
    },
    {
      "cell_type": "markdown",
      "metadata": {
        "_cell_guid": "ff53e1a6-a37b-4a31-9b41-c959296156de",
        "_uuid": "9ec51be1879d2987eef26632bc411a3577b42ae8",
        "id": "gQ_u1SVieWsy"
      },
      "source": [
        "## Analisis de Texto"
      ]
    },
    {
      "cell_type": "markdown",
      "metadata": {
        "_cell_guid": "ba58d2e5-63a4-4443-ab05-7810decb5eb7",
        "_uuid": "b3c395e8534efc8a402df3b6ac1b699b48fa09f3",
        "id": "6Sigl8mfeWsy"
      },
      "source": [
        "Queremos encontrar las frecuencias de las palabras en los mensajes spam y no spam. Las palabras de los mensajes serán características del modelo.<p>\n",
        "Usamos la función Contador."
      ]
    },
    {
      "cell_type": "code",
      "execution_count": 8,
      "metadata": {
        "_cell_guid": "8c750858-87e9-498c-86f5-4df7310f9e63",
        "_uuid": "03677f8369b4bb3450ffe8a9cd3de9c0b01e681d",
        "id": "Rp3jnVApeWsz"
      },
      "outputs": [],
      "source": [
        "#data[   data['v1']=='ham'    ]\n",
        "\n",
        "# SMS normales\n",
        "count1 = Counter(\" \".join(data[data['v1']=='ham'][\"v2\"]).split()).most_common(20)\n",
        "df1 = pd.DataFrame.from_dict(count1)\n",
        "df1 = df1.rename(columns={0: \"words in non-spam\", 1 : \"count\"})\n",
        "\n",
        "# SMS con spam\n",
        "count2 = Counter(\" \".join(data[data['v1']=='spam'][\"v2\"]).split()).most_common(20)\n",
        "df2 = pd.DataFrame.from_dict(count2)\n",
        "df2 = df2.rename(columns={0: \"words in spam\", 1 : \"count_\"})"
      ]
    },
    {
      "cell_type": "code",
      "execution_count": 9,
      "metadata": {
        "_cell_guid": "b8850226-0043-4a37-9e65-a8409efe7026",
        "_uuid": "d18e09f35264ea374ffce57eae07c9335439a2ef",
        "colab": {
          "base_uri": "https://localhost:8080/",
          "height": 492
        },
        "id": "kfKOoeyVeWsz",
        "outputId": "47ed020e-7af5-41bd-e28f-8e04892b7722",
        "scrolled": true
      },
      "outputs": [
        {
          "data": {
            "image/png": "[encoded data removed]",
            "text/plain": [
              "<Figure size 640x480 with 1 Axes>"
            ]
          },
          "metadata": {},
          "output_type": "display_data"
        }
      ],
      "source": [
        "df1.plot.bar(legend = False)\n",
        "y_pos = np.arange(len(df1[\"words in non-spam\"]))\n",
        "plt.xticks(y_pos, df1[\"words in non-spam\"])\n",
        "plt.title('Palabras mas frequentes en mensajes que no son spam')\n",
        "plt.xlabel('words')\n",
        "plt.ylabel('number')\n",
        "plt.show()"
      ]
    },
    {
      "cell_type": "code",
      "execution_count": 10,
      "metadata": {
        "_cell_guid": "9637faec-7114-4365-aceb-a2d74787a205",
        "_uuid": "bf9b59581db68038824724344fe937e65f5f8661",
        "colab": {
          "base_uri": "https://localhost:8080/",
          "height": 492
        },
        "id": "dmC_w7v1eWs0",
        "outputId": "eed8bfd4-5c65-4cb7-eda7-8cac54b1d073"
      },
      "outputs": [
        {
          "data": {
            "image/png": "[encoded data removed]",
            "text/plain": [
              "<Figure size 640x480 with 1 Axes>"
            ]
          },
          "metadata": {},
          "output_type": "display_data"
        }
      ],
      "source": [
        "df2.plot.bar(legend = False, color = 'orange')\n",
        "y_pos = np.arange(len(df2[\"words in spam\"]))\n",
        "plt.xticks(y_pos, df2[\"words in spam\"])\n",
        "plt.title('Palabras mas frequentes en mensajes que son spam')\n",
        "plt.xlabel('words')\n",
        "plt.ylabel('number')\n",
        "plt.show()"
      ]
    },
    {
      "cell_type": "markdown",
      "metadata": {
        "_cell_guid": "40db40e9-aeb2-487f-9ab7-d6debf26d611",
        "_uuid": "c971edae5a8be1bfd0719e777ba92322ad897abe",
        "id": "ZOvOvlyTeWs0"
      },
      "source": [
        "Podemos ver que la mayoría de las palabras frecuentes en ambas clases son palabras vacías como 'a', 'a', 'o', etc. <p>\n",
        "Con palabras vacías nos referimos a las palabras más comunes de un idioma, no existe una lista única y universal de palabras vacías. <p>"
      ]
    },
    {
      "cell_type": "markdown",
      "metadata": {
        "_cell_guid": "6887a2a9-6c4c-42f1-92df-fdec4ae3f9f0",
        "_uuid": "47d3122a6fe0ed51dbe5775c7549695cce2a8470",
        "id": "XntUjjbeeWs0"
      },
      "source": [
        "## Ingenieria de Caracteristicas (Feature engineering)"
      ]
    },
    {
      "cell_type": "markdown",
      "metadata": {
        "_cell_guid": "238e6b23-de89-4334-80d9-1662dfc1a211",
        "_uuid": "93273550c383144e9ddec84b179475ea7d9cb85c",
        "id": "m9a2GO6FeWs0"
      },
      "source": [
        "El preprocesamiento de texto, la tokenización y el filtrado de palabras vacías se incluyen en un componente de alto nivel que es capaz de crear un diccionario de características y transformar documentos en vectores de características.<p>\n",
        "**Eliminamos las palabras vacías para mejorar los análisis**"
      ]
    },
    {
      "cell_type": "code",
      "execution_count": 11,
      "metadata": {
        "_cell_guid": "653bfeae-e298-44e3-b92c-78c0f747b8ef",
        "_uuid": "67b9147f254e720b0641d9a171333942ef529aba",
        "colab": {
          "base_uri": "https://localhost:8080/"
        },
        "id": "70VKHUsUeWs0",
        "outputId": "550171fc-be55-477a-b1f0-212cd019bd15"
      },
      "outputs": [
        {
          "data": {
            "text/plain": [
              "(5572, 8404)"
            ]
          },
          "execution_count": 11,
          "metadata": {},
          "output_type": "execute_result"
        }
      ],
      "source": [
        "f = feature_extraction.text.CountVectorizer(stop_words = 'english')\n",
        "X = f.fit_transform(data[\"v2\"])\n",
        "np.shape(X)"
      ]
    },
    {
      "cell_type": "markdown",
      "metadata": {
        "_cell_guid": "205a78b4-b452-4a1a-8912-de897a798097",
        "_uuid": "35e5277996ce60e9e8725e20805b2a0d7d118764",
        "id": "XuKKLVOneWs1"
      },
      "source": [
        "Hemos creado más de 8400 funciones nuevas. La nueva característica $j$ en la fila $i$ es igual a 1 si la palabra $w_{j}$ aparece en el ejemplo de texto $i$. Si no aparece sera 0."
      ]
    },
    {
      "cell_type": "markdown",
      "metadata": {
        "_cell_guid": "448eda90-2493-46f0-a588-8e6e73b7e2d3",
        "_uuid": "1f0489faa50638217e4754ff0a8f26e5298752df",
        "id": "7vY5yxZEeWs1"
      },
      "source": [
        "## Analisis Predictivo (Predictive Analysis)"
      ]
    },
    {
      "cell_type": "markdown",
      "metadata": {
        "_cell_guid": "e19c8da3-73b0-4ed8-ac08-04e45a4309da",
        "_uuid": "da31f2e8dd19f4ff0a6c1f6dbf29b34a2c28391a",
        "id": "8CuTI-QTeWs1"
      },
      "source": [
        "**Mi objetivo es predecir si un nuevo SMS es spam o no. Supongo que es mucho peor clasificar erróneamente lo que no es spam que clasificar erróneamente un spam. (No quiero tener falsos positivos)**\n",
        "<p>\n",
        "La razón es que normalmente no reviso los mensajes de spam.<p> Las dos situaciones posibles son:<p>\n",
        "1. Nuevos SMS spam en mi bandeja de entrada. (Falso negativo).<p>\n",
        "RESULTADO: Lo borro.<p>\n",
        "2. Nuevos SMS que no son spam en mi carpeta de spam (falso positivo).<p> RESULTADO: Probablemente no lo leo. <p>\n",
        "¡¡¡Prefiero la primera opción!!!"
      ]
    },
    {
      "cell_type": "markdown",
      "metadata": {
        "_cell_guid": "d1e8c9ef-588e-4708-8275-bfafe82c5cd8",
        "_uuid": "83edda58f114f466bf6cf6d1a278a1e5af08e651",
        "id": "765Rb7MleWs1"
      },
      "source": [
        "Primero transformamos la variable spam/no spam en una variable binaria, luego dividimos nuestro conjunto de datos en un conjunto de entrenamiento y un conjunto de prueba."
      ]
    },
    {
      "cell_type": "code",
      "execution_count": 12,
      "metadata": {
        "_cell_guid": "e5e2bee3-cdad-4ee6-9c59-f3a536195ed7",
        "_uuid": "ab65abc5fe63168bfea503db8e58e5ab03383a22",
        "colab": {
          "base_uri": "https://localhost:8080/"
        },
        "id": "baAkCXMqeWs1",
        "outputId": "824ff971-6368-4e74-8d44-d762ed3de367"
      },
      "outputs": [
        {
          "name": "stdout",
          "output_type": "stream",
          "text": [
            "[(3733, 8404), (1839, 8404)]\n"
          ]
        }
      ],
      "source": [
        "data[\"v1\"]=data[\"v1\"].map({'spam':1,'ham':0})\n",
        "X_train, X_test, y_train, y_test = model_selection.train_test_split(X, data['v1'], test_size=0.33, random_state=42)\n",
        "print([np.shape(X_train), np.shape(X_test)])"
      ]
    },
    {
      "cell_type": "markdown",
      "metadata": {
        "_cell_guid": "76cc3deb-7b7c-4511-ae4e-ef5cd2f7592b",
        "_uuid": "0463069f7287a20571ab90885b85dad8d9a64368",
        "id": "sypJ6naJeWs1"
      },
      "source": [
        "### Clasificador Multinomial naive bayes"
      ]
    },
    {
      "cell_type": "markdown",
      "metadata": {
        "_cell_guid": "691fa70e-6aa0-4743-b948-650e90f61e40",
        "_uuid": "7146dbec1c30fd6f2c39454834281e7b74648f39",
        "id": "KgSue1nAeWs2"
      },
      "source": [
        "Entrenamos diferentes modelos bayes cambiando el parámetro de regularización $\\alpha$. <p>\n",
        "Evaluamos la exactitud, recuperación y precisión del modelo con el conjunto de prueba."
      ]
    },
    {
      "cell_type": "code",
      "execution_count": 13,
      "metadata": {
        "_cell_guid": "e7b5bbc6-23cb-49f8-8ea3-83f71c9f6d97",
        "_uuid": "4bf729b41f966730729d72d6b61e287ab426bd39",
        "id": "DQm4jbKveWs2"
      },
      "outputs": [],
      "source": [
        "list_alpha = np.arange(1/100000, 20, 0.11)\n",
        "score_train = np.zeros(len(list_alpha))\n",
        "score_test = np.zeros(len(list_alpha))\n",
        "recall_test = np.zeros(len(list_alpha))\n",
        "precision_test= np.zeros(len(list_alpha))\n",
        "count = 0\n",
        "for alpha in list_alpha:\n",
        "    #Definimos el modelo\n",
        "    bayes = naive_bayes.MultinomialNB(alpha=alpha)\n",
        "    #Entrenamos el modelo\n",
        "    bayes.fit(X_train, y_train)\n",
        "    #Obtenemos los scores\n",
        "    score_train[count] = bayes.score(X_train, y_train)\n",
        "    score_test[count]= bayes.score(X_test, y_test)\n",
        "    recall_test[count] = metrics.recall_score(y_test, bayes.predict(X_test))\n",
        "    precision_test[count] = metrics.precision_score(y_test, bayes.predict(X_test))\n",
        "    count = count + 1"
      ]
    },
    {
      "cell_type": "markdown",
      "metadata": {
        "_cell_guid": "4390a64a-41a8-46a6-b6bb-a204e769a617",
        "_uuid": "2c9003728118d2729d284b1712b85f0d2a4df3d5",
        "id": "wcDVdlDTeWs2"
      },
      "source": [
        "¡Veamos los primeros 10 modelos de aprendizaje y sus métricas!"
      ]
    },
    {
      "cell_type": "code",
      "execution_count": 14,
      "metadata": {
        "_cell_guid": "9bb5c44b-9d9b-4f79-8462-324eb3addcad",
        "_uuid": "b38a2e021e3b5898e0883ee95165457af85f954b",
        "colab": {
          "base_uri": "https://localhost:8080/",
          "height": 363
        },
        "id": "rsH1HCgAeWs2",
        "outputId": "0256ac6f-0372-4956-fad6-08e7b52b2cf8"
      },
      "outputs": [
        {
          "data": {
            "text/html": [
              "<div>\n",
              "<style scoped>\n",
              "    .dataframe tbody tr th:only-of-type {\n",
              "        vertical-align: middle;\n",
              "    }\n",
              "\n",
              "    .dataframe tbody tr th {\n",
              "        vertical-align: top;\n",
              "    }\n",
              "\n",
              "    .dataframe thead th {\n",
              "        text-align: right;\n",
              "    }\n",
              "</style>\n",
              "<table border=\"1\" class=\"dataframe\">\n",
              "  <thead>\n",
              "    <tr style=\"text-align: right;\">\n",
              "      <th></th>\n",
              "      <th>alpha</th>\n",
              "      <th>Train Accuracy</th>\n",
              "      <th>Test Accuracy</th>\n",
              "      <th>Test Recall</th>\n",
              "      <th>Test Precision</th>\n",
              "    </tr>\n",
              "  </thead>\n",
              "  <tbody>\n",
              "    <tr>\n",
              "      <th>0</th>\n",
              "      <td>0.00001</td>\n",
              "      <td>0.998661</td>\n",
              "      <td>0.974443</td>\n",
              "      <td>0.920635</td>\n",
              "      <td>0.895753</td>\n",
              "    </tr>\n",
              "    <tr>\n",
              "      <th>1</th>\n",
              "      <td>0.11001</td>\n",
              "      <td>0.997857</td>\n",
              "      <td>0.976074</td>\n",
              "      <td>0.936508</td>\n",
              "      <td>0.893939</td>\n",
              "    </tr>\n",
              "    <tr>\n",
              "      <th>2</th>\n",
              "      <td>0.22001</td>\n",
              "      <td>0.997857</td>\n",
              "      <td>0.977162</td>\n",
              "      <td>0.936508</td>\n",
              "      <td>0.900763</td>\n",
              "    </tr>\n",
              "    <tr>\n",
              "      <th>3</th>\n",
              "      <td>0.33001</td>\n",
              "      <td>0.997589</td>\n",
              "      <td>0.977162</td>\n",
              "      <td>0.936508</td>\n",
              "      <td>0.900763</td>\n",
              "    </tr>\n",
              "    <tr>\n",
              "      <th>4</th>\n",
              "      <td>0.44001</td>\n",
              "      <td>0.997053</td>\n",
              "      <td>0.977162</td>\n",
              "      <td>0.936508</td>\n",
              "      <td>0.900763</td>\n",
              "    </tr>\n",
              "    <tr>\n",
              "      <th>5</th>\n",
              "      <td>0.55001</td>\n",
              "      <td>0.996250</td>\n",
              "      <td>0.976618</td>\n",
              "      <td>0.936508</td>\n",
              "      <td>0.897338</td>\n",
              "    </tr>\n",
              "    <tr>\n",
              "      <th>6</th>\n",
              "      <td>0.66001</td>\n",
              "      <td>0.996518</td>\n",
              "      <td>0.976074</td>\n",
              "      <td>0.932540</td>\n",
              "      <td>0.896947</td>\n",
              "    </tr>\n",
              "    <tr>\n",
              "      <th>7</th>\n",
              "      <td>0.77001</td>\n",
              "      <td>0.996518</td>\n",
              "      <td>0.976074</td>\n",
              "      <td>0.924603</td>\n",
              "      <td>0.903101</td>\n",
              "    </tr>\n",
              "    <tr>\n",
              "      <th>8</th>\n",
              "      <td>0.88001</td>\n",
              "      <td>0.996250</td>\n",
              "      <td>0.976074</td>\n",
              "      <td>0.924603</td>\n",
              "      <td>0.903101</td>\n",
              "    </tr>\n",
              "    <tr>\n",
              "      <th>9</th>\n",
              "      <td>0.99001</td>\n",
              "      <td>0.995982</td>\n",
              "      <td>0.976074</td>\n",
              "      <td>0.920635</td>\n",
              "      <td>0.906250</td>\n",
              "    </tr>\n",
              "  </tbody>\n",
              "</table>\n",
              "</div>"
            ],
            "text/plain": [
              "     alpha  Train Accuracy  Test Accuracy  Test Recall  Test Precision\n",
              "0  0.00001        0.998661       0.974443     0.920635        0.895753\n",
              "1  0.11001        0.997857       0.976074     0.936508        0.893939\n",
              "2  0.22001        0.997857       0.977162     0.936508        0.900763\n",
              "3  0.33001        0.997589       0.977162     0.936508        0.900763\n",
              "4  0.44001        0.997053       0.977162     0.936508        0.900763\n",
              "5  0.55001        0.996250       0.976618     0.936508        0.897338\n",
              "6  0.66001        0.996518       0.976074     0.932540        0.896947\n",
              "7  0.77001        0.996518       0.976074     0.924603        0.903101\n",
              "8  0.88001        0.996250       0.976074     0.924603        0.903101\n",
              "9  0.99001        0.995982       0.976074     0.920635        0.906250"
            ]
          },
          "execution_count": 14,
          "metadata": {},
          "output_type": "execute_result"
        }
      ],
      "source": [
        "matrix = np.matrix(np.c_[list_alpha, score_train, score_test, recall_test, precision_test])\n",
        "models = pd.DataFrame(data = matrix, columns =\n",
        "             ['alpha', 'Train Accuracy', 'Test Accuracy', 'Test Recall', 'Test Precision'])\n",
        "models.head(n=10)"
      ]
    },
    {
      "cell_type": "markdown",
      "metadata": {
        "_cell_guid": "072aeed4-d578-4917-b32e-ca54380dd5e2",
        "_uuid": "7a3bfc6ad5f9e5d05187c61074b1b47b50516772",
        "id": "l-QDzymMeWs2"
      },
      "source": [
        "Selecciono el modelo con mayor precisión de prueba."
      ]
    },
    {
      "cell_type": "code",
      "execution_count": 15,
      "metadata": {
        "_cell_guid": "6f285b74-00bc-45cd-af8c-ac3c846b92e7",
        "_uuid": "4d87a52c2e11585c970314171d943bcb45f596c8",
        "colab": {
          "base_uri": "https://localhost:8080/"
        },
        "id": "m162Y24beWs3",
        "outputId": "d72fd36d-c687-42e9-b6b9-93807b5bd957"
      },
      "outputs": [
        {
          "data": {
            "text/plain": [
              "alpha             15.730010\n",
              "Train Accuracy     0.979641\n",
              "Test Accuracy      0.969549\n",
              "Test Recall        0.777778\n",
              "Test Precision     1.000000\n",
              "Name: 143, dtype: float64"
            ]
          },
          "execution_count": 15,
          "metadata": {},
          "output_type": "execute_result"
        }
      ],
      "source": [
        "best_index = models['Test Precision'].idxmax()\n",
        "models.iloc[best_index, :]"
      ]
    },
    {
      "cell_type": "markdown",
      "metadata": {
        "_cell_guid": "060f159b-e0d9-4d49-8d1b-108db0683551",
        "_uuid": "da73a1525d323708933ea89fbe4e77027c0a50db",
        "id": "aoi66UH8eWs3"
      },
      "source": [
        "**Mi mejor modelo no produce ningún falso positivo, que es nuestro objetivo.** <p>\n",
        "¡Veamos si hay más de un modelo con 100% de precisión!"
      ]
    },
    {
      "cell_type": "code",
      "execution_count": 16,
      "metadata": {
        "_cell_guid": "258125aa-b60f-448a-ab78-e6bb54871837",
        "_uuid": "a493d149424ca65839847ff534cbd7630011bf09",
        "colab": {
          "base_uri": "https://localhost:8080/",
          "height": 206
        },
        "id": "hmW6vY3beWs3",
        "outputId": "556f242b-99a1-40b5-bbe7-e1386b4c7d29"
      },
      "outputs": [
        {
          "data": {
            "text/html": [
              "<div>\n",
              "<style scoped>\n",
              "    .dataframe tbody tr th:only-of-type {\n",
              "        vertical-align: middle;\n",
              "    }\n",
              "\n",
              "    .dataframe tbody tr th {\n",
              "        vertical-align: top;\n",
              "    }\n",
              "\n",
              "    .dataframe thead th {\n",
              "        text-align: right;\n",
              "    }\n",
              "</style>\n",
              "<table border=\"1\" class=\"dataframe\">\n",
              "  <thead>\n",
              "    <tr style=\"text-align: right;\">\n",
              "      <th></th>\n",
              "      <th>alpha</th>\n",
              "      <th>Train Accuracy</th>\n",
              "      <th>Test Accuracy</th>\n",
              "      <th>Test Recall</th>\n",
              "      <th>Test Precision</th>\n",
              "    </tr>\n",
              "  </thead>\n",
              "  <tbody>\n",
              "    <tr>\n",
              "      <th>143</th>\n",
              "      <td>15.73001</td>\n",
              "      <td>0.979641</td>\n",
              "      <td>0.969549</td>\n",
              "      <td>0.777778</td>\n",
              "      <td>1.0</td>\n",
              "    </tr>\n",
              "    <tr>\n",
              "      <th>144</th>\n",
              "      <td>15.84001</td>\n",
              "      <td>0.979641</td>\n",
              "      <td>0.969549</td>\n",
              "      <td>0.777778</td>\n",
              "      <td>1.0</td>\n",
              "    </tr>\n",
              "    <tr>\n",
              "      <th>145</th>\n",
              "      <td>15.95001</td>\n",
              "      <td>0.979641</td>\n",
              "      <td>0.969549</td>\n",
              "      <td>0.777778</td>\n",
              "      <td>1.0</td>\n",
              "    </tr>\n",
              "    <tr>\n",
              "      <th>146</th>\n",
              "      <td>16.06001</td>\n",
              "      <td>0.979373</td>\n",
              "      <td>0.969549</td>\n",
              "      <td>0.777778</td>\n",
              "      <td>1.0</td>\n",
              "    </tr>\n",
              "    <tr>\n",
              "      <th>147</th>\n",
              "      <td>16.17001</td>\n",
              "      <td>0.979373</td>\n",
              "      <td>0.969549</td>\n",
              "      <td>0.777778</td>\n",
              "      <td>1.0</td>\n",
              "    </tr>\n",
              "  </tbody>\n",
              "</table>\n",
              "</div>"
            ],
            "text/plain": [
              "        alpha  Train Accuracy  Test Accuracy  Test Recall  Test Precision\n",
              "143  15.73001        0.979641       0.969549     0.777778             1.0\n",
              "144  15.84001        0.979641       0.969549     0.777778             1.0\n",
              "145  15.95001        0.979641       0.969549     0.777778             1.0\n",
              "146  16.06001        0.979373       0.969549     0.777778             1.0\n",
              "147  16.17001        0.979373       0.969549     0.777778             1.0"
            ]
          },
          "execution_count": 16,
          "metadata": {},
          "output_type": "execute_result"
        }
      ],
      "source": [
        "models[models['Test Precision']==1].head(n=5)"
      ]
    },
    {
      "cell_type": "markdown",
      "metadata": {
        "_cell_guid": "8c77ed68-bd03-41cd-9293-f8c7777df06d",
        "_uuid": "8d9107309dfcd3c0b77bb9be6f09ac07d0d860f4",
        "id": "yvWGrez6eWs3"
      },
      "source": [
        "Entre estos modelos con mayor precisión posible vamos a seleccionar cuál tiene mayor precisión de prueba."
      ]
    },
    {
      "cell_type": "code",
      "execution_count": 17,
      "metadata": {
        "_cell_guid": "1dd94a26-7252-4fcd-ad18-7d755ab20ab7",
        "_uuid": "d74e1e4cebee52716b5bf9e9aa72efa147f43f93",
        "colab": {
          "base_uri": "https://localhost:8080/"
        },
        "id": "4klYyE2seWs3",
        "outputId": "e54ecf00-c8a8-4b3f-bcb7-a89e3bb2b6da"
      },
      "outputs": [
        {
          "data": {
            "text/plain": [
              "alpha             15.730010\n",
              "Train Accuracy     0.979641\n",
              "Test Accuracy      0.969549\n",
              "Test Recall        0.777778\n",
              "Test Precision     1.000000\n",
              "Name: 143, dtype: float64"
            ]
          },
          "execution_count": 17,
          "metadata": {},
          "output_type": "execute_result"
        }
      ],
      "source": [
        "best_index = models[models['Test Precision']==1]['Test Accuracy'].idxmax()\n",
        "bayes = naive_bayes.MultinomialNB(alpha=list_alpha[best_index])\n",
        "bayes.fit(X_train, y_train)\n",
        "models.iloc[best_index, :]"
      ]
    },
    {
      "cell_type": "markdown",
      "metadata": {
        "_cell_guid": "67ca2aef-56b9-4701-9590-387eb64c13a8",
        "_uuid": "606304507b731dd866ad9b97daa654a0c32a544a",
        "id": "OCLBZupkeWs3"
      },
      "source": [
        "#### Matriz de Confusion (Confusion matrix) con el clasificador naive bayes"
      ]
    },
    {
      "cell_type": "code",
      "execution_count": 18,
      "metadata": {
        "_cell_guid": "076b7447-5c33-4671-8b25-7000e0c3a28f",
        "_uuid": "a700b298131b18e8ec21a67959df4a71c1177a54",
        "colab": {
          "base_uri": "https://localhost:8080/",
          "height": 112
        },
        "id": "uL8SRB-VeWs4",
        "outputId": "036c35ae-1c78-47fd-b8c6-8f505fc23c04"
      },
      "outputs": [
        {
          "data": {
            "text/html": [
              "<div>\n",
              "<style scoped>\n",
              "    .dataframe tbody tr th:only-of-type {\n",
              "        vertical-align: middle;\n",
              "    }\n",
              "\n",
              "    .dataframe tbody tr th {\n",
              "        vertical-align: top;\n",
              "    }\n",
              "\n",
              "    .dataframe thead th {\n",
              "        text-align: right;\n",
              "    }\n",
              "</style>\n",
              "<table border=\"1\" class=\"dataframe\">\n",
              "  <thead>\n",
              "    <tr style=\"text-align: right;\">\n",
              "      <th></th>\n",
              "      <th>Predicted 0</th>\n",
              "      <th>Predicted 1</th>\n",
              "    </tr>\n",
              "  </thead>\n",
              "  <tbody>\n",
              "    <tr>\n",
              "      <th>Actual 0</th>\n",
              "      <td>1587</td>\n",
              "      <td>0</td>\n",
              "    </tr>\n",
              "    <tr>\n",
              "      <th>Actual 1</th>\n",
              "      <td>56</td>\n",
              "      <td>196</td>\n",
              "    </tr>\n",
              "  </tbody>\n",
              "</table>\n",
              "</div>"
            ],
            "text/plain": [
              "          Predicted 0  Predicted 1\n",
              "Actual 0         1587            0\n",
              "Actual 1           56          196"
            ]
          },
          "execution_count": 18,
          "metadata": {},
          "output_type": "execute_result"
        }
      ],
      "source": [
        "m_confusion_test = metrics.confusion_matrix(y_test, bayes.predict(X_test))\n",
        "pd.DataFrame(data = m_confusion_test, columns = ['Predicted 0', 'Predicted 1'],\n",
        "            index = ['Actual 0', 'Actual 1'])"
      ]
    },
    {
      "cell_type": "markdown",
      "metadata": {
        "id": "JstUTbfDeWs4"
      },
      "source": [
        "Hemos clasificado erróneamente 56 correos electrónicos no deseados como spam y **0 spam como spam** (que es lo que queríamos)"
      ]
    },
    {
      "cell_type": "markdown",
      "metadata": {
        "id": "LO6QkuQPeSbW"
      },
      "source": [
        "### **Ejercicios**"
      ]
    },
    {
      "cell_type": "markdown",
      "metadata": {
        "id": "2MUQRrJrfFLb"
      },
      "source": [
        "Entrenamos diferentes modelos bayes cambiando el parámetro de regularización $\\alpha$. <p>\n",
        "Evaluamos la exactitud, recuperación y precisión del modelo con el conjunto de prueba."
      ]
    },
    {
      "cell_type": "code",
      "execution_count": 22,
      "metadata": {
        "id": "Wx6fzUdxeRbi"
      },
      "outputs": [],
      "source": [
        "#valor= <----modifique el valor, por ejemplo: 100000---->\n",
        "valor = 1\n",
        "list_alpha = np.arange(1/valor, 20, 0.11)\n",
        "score_train = np.zeros(len(list_alpha))\n",
        "score_test = np.zeros(len(list_alpha))\n",
        "recall_test = np.zeros(len(list_alpha))\n",
        "precision_test= np.zeros(len(list_alpha))\n",
        "count = 0\n",
        "for alpha in list_alpha:\n",
        "    #Definimos el modelo\n",
        "    bayes = naive_bayes.MultinomialNB(alpha=alpha)\n",
        "    #Entrenamos el modelo\n",
        "    bayes.fit(X_train, y_train)\n",
        "    #Obtenemos los scores\n",
        "    score_train[count] = bayes.score(X_train, y_train)\n",
        "    score_test[count]= bayes.score(X_test, y_test)\n",
        "    recall_test[count] = metrics.recall_score(y_test, bayes.predict(X_test))\n",
        "    precision_test[count] = metrics.precision_score(y_test, bayes.predict(X_test))\n",
        "    count = count + 1"
      ]
    },
    {
      "cell_type": "markdown",
      "metadata": {
        "id": "ZZOR99VxfrkD"
      },
      "source": [
        "¡Veamos los primeros 10 modelos de aprendizaje y sus métricas, y los ultimos 10 modelos de aprendizaje y sus métricas!"
      ]
    },
    {
      "cell_type": "code",
      "execution_count": 23,
      "metadata": {
        "id": "v4ReALZcgUUC"
      },
      "outputs": [
        {
          "data": {
            "text/html": [
              "<div>\n",
              "<style scoped>\n",
              "    .dataframe tbody tr th:only-of-type {\n",
              "        vertical-align: middle;\n",
              "    }\n",
              "\n",
              "    .dataframe tbody tr th {\n",
              "        vertical-align: top;\n",
              "    }\n",
              "\n",
              "    .dataframe thead th {\n",
              "        text-align: right;\n",
              "    }\n",
              "</style>\n",
              "<table border=\"1\" class=\"dataframe\">\n",
              "  <thead>\n",
              "    <tr style=\"text-align: right;\">\n",
              "      <th></th>\n",
              "      <th>alpha</th>\n",
              "      <th>Train Accuracy</th>\n",
              "      <th>Test Accuracy</th>\n",
              "      <th>Test Recall</th>\n",
              "      <th>Test Precision</th>\n",
              "    </tr>\n",
              "  </thead>\n",
              "  <tbody>\n",
              "    <tr>\n",
              "      <th>0</th>\n",
              "      <td>1.00</td>\n",
              "      <td>0.995982</td>\n",
              "      <td>0.976074</td>\n",
              "      <td>0.920635</td>\n",
              "      <td>0.906250</td>\n",
              "    </tr>\n",
              "    <tr>\n",
              "      <th>1</th>\n",
              "      <td>1.11</td>\n",
              "      <td>0.995446</td>\n",
              "      <td>0.977705</td>\n",
              "      <td>0.920635</td>\n",
              "      <td>0.916996</td>\n",
              "    </tr>\n",
              "    <tr>\n",
              "      <th>2</th>\n",
              "      <td>1.22</td>\n",
              "      <td>0.995446</td>\n",
              "      <td>0.978249</td>\n",
              "      <td>0.920635</td>\n",
              "      <td>0.920635</td>\n",
              "    </tr>\n",
              "    <tr>\n",
              "      <th>3</th>\n",
              "      <td>1.33</td>\n",
              "      <td>0.995178</td>\n",
              "      <td>0.978793</td>\n",
              "      <td>0.920635</td>\n",
              "      <td>0.924303</td>\n",
              "    </tr>\n",
              "    <tr>\n",
              "      <th>4</th>\n",
              "      <td>1.44</td>\n",
              "      <td>0.995178</td>\n",
              "      <td>0.980968</td>\n",
              "      <td>0.920635</td>\n",
              "      <td>0.939271</td>\n",
              "    </tr>\n",
              "    <tr>\n",
              "      <th>5</th>\n",
              "      <td>1.55</td>\n",
              "      <td>0.994910</td>\n",
              "      <td>0.980968</td>\n",
              "      <td>0.920635</td>\n",
              "      <td>0.939271</td>\n",
              "    </tr>\n",
              "    <tr>\n",
              "      <th>6</th>\n",
              "      <td>1.66</td>\n",
              "      <td>0.994910</td>\n",
              "      <td>0.981512</td>\n",
              "      <td>0.920635</td>\n",
              "      <td>0.943089</td>\n",
              "    </tr>\n",
              "    <tr>\n",
              "      <th>7</th>\n",
              "      <td>1.77</td>\n",
              "      <td>0.994374</td>\n",
              "      <td>0.981512</td>\n",
              "      <td>0.920635</td>\n",
              "      <td>0.943089</td>\n",
              "    </tr>\n",
              "    <tr>\n",
              "      <th>8</th>\n",
              "      <td>1.88</td>\n",
              "      <td>0.994107</td>\n",
              "      <td>0.981512</td>\n",
              "      <td>0.920635</td>\n",
              "      <td>0.943089</td>\n",
              "    </tr>\n",
              "    <tr>\n",
              "      <th>9</th>\n",
              "      <td>1.99</td>\n",
              "      <td>0.994107</td>\n",
              "      <td>0.981512</td>\n",
              "      <td>0.916667</td>\n",
              "      <td>0.946721</td>\n",
              "    </tr>\n",
              "  </tbody>\n",
              "</table>\n",
              "</div>"
            ],
            "text/plain": [
              "   alpha  Train Accuracy  Test Accuracy  Test Recall  Test Precision\n",
              "0   1.00        0.995982       0.976074     0.920635        0.906250\n",
              "1   1.11        0.995446       0.977705     0.920635        0.916996\n",
              "2   1.22        0.995446       0.978249     0.920635        0.920635\n",
              "3   1.33        0.995178       0.978793     0.920635        0.924303\n",
              "4   1.44        0.995178       0.980968     0.920635        0.939271\n",
              "5   1.55        0.994910       0.980968     0.920635        0.939271\n",
              "6   1.66        0.994910       0.981512     0.920635        0.943089\n",
              "7   1.77        0.994374       0.981512     0.920635        0.943089\n",
              "8   1.88        0.994107       0.981512     0.920635        0.943089\n",
              "9   1.99        0.994107       0.981512     0.916667        0.946721"
            ]
          },
          "execution_count": 23,
          "metadata": {},
          "output_type": "execute_result"
        }
      ],
      "source": [
        "# Aqui tu codigo\n",
        "matrix = np.matrix(np.c_[list_alpha, score_train, score_test, recall_test, precision_test])\n",
        "models = pd.DataFrame(data = matrix, columns =\n",
        "             ['alpha', 'Train Accuracy', 'Test Accuracy', 'Test Recall', 'Test Precision'])\n",
        "models.head(n=10)"
      ]
    },
    {
      "cell_type": "code",
      "execution_count": 24,
      "metadata": {},
      "outputs": [
        {
          "data": {
            "text/html": [
              "<div>\n",
              "<style scoped>\n",
              "    .dataframe tbody tr th:only-of-type {\n",
              "        vertical-align: middle;\n",
              "    }\n",
              "\n",
              "    .dataframe tbody tr th {\n",
              "        vertical-align: top;\n",
              "    }\n",
              "\n",
              "    .dataframe thead th {\n",
              "        text-align: right;\n",
              "    }\n",
              "</style>\n",
              "<table border=\"1\" class=\"dataframe\">\n",
              "  <thead>\n",
              "    <tr style=\"text-align: right;\">\n",
              "      <th></th>\n",
              "      <th>alpha</th>\n",
              "      <th>Train Accuracy</th>\n",
              "      <th>Test Accuracy</th>\n",
              "      <th>Test Recall</th>\n",
              "      <th>Test Precision</th>\n",
              "    </tr>\n",
              "  </thead>\n",
              "  <tbody>\n",
              "    <tr>\n",
              "      <th>163</th>\n",
              "      <td>18.93</td>\n",
              "      <td>0.977498</td>\n",
              "      <td>0.966830</td>\n",
              "      <td>0.757937</td>\n",
              "      <td>1.0</td>\n",
              "    </tr>\n",
              "    <tr>\n",
              "      <th>164</th>\n",
              "      <td>19.04</td>\n",
              "      <td>0.977498</td>\n",
              "      <td>0.966830</td>\n",
              "      <td>0.757937</td>\n",
              "      <td>1.0</td>\n",
              "    </tr>\n",
              "    <tr>\n",
              "      <th>165</th>\n",
              "      <td>19.15</td>\n",
              "      <td>0.977498</td>\n",
              "      <td>0.966830</td>\n",
              "      <td>0.757937</td>\n",
              "      <td>1.0</td>\n",
              "    </tr>\n",
              "    <tr>\n",
              "      <th>166</th>\n",
              "      <td>19.26</td>\n",
              "      <td>0.976694</td>\n",
              "      <td>0.966830</td>\n",
              "      <td>0.757937</td>\n",
              "      <td>1.0</td>\n",
              "    </tr>\n",
              "    <tr>\n",
              "      <th>167</th>\n",
              "      <td>19.37</td>\n",
              "      <td>0.976694</td>\n",
              "      <td>0.966830</td>\n",
              "      <td>0.757937</td>\n",
              "      <td>1.0</td>\n",
              "    </tr>\n",
              "    <tr>\n",
              "      <th>168</th>\n",
              "      <td>19.48</td>\n",
              "      <td>0.976426</td>\n",
              "      <td>0.966286</td>\n",
              "      <td>0.753968</td>\n",
              "      <td>1.0</td>\n",
              "    </tr>\n",
              "    <tr>\n",
              "      <th>169</th>\n",
              "      <td>19.59</td>\n",
              "      <td>0.975891</td>\n",
              "      <td>0.966286</td>\n",
              "      <td>0.753968</td>\n",
              "      <td>1.0</td>\n",
              "    </tr>\n",
              "    <tr>\n",
              "      <th>170</th>\n",
              "      <td>19.70</td>\n",
              "      <td>0.975891</td>\n",
              "      <td>0.966286</td>\n",
              "      <td>0.753968</td>\n",
              "      <td>1.0</td>\n",
              "    </tr>\n",
              "    <tr>\n",
              "      <th>171</th>\n",
              "      <td>19.81</td>\n",
              "      <td>0.975355</td>\n",
              "      <td>0.966286</td>\n",
              "      <td>0.753968</td>\n",
              "      <td>1.0</td>\n",
              "    </tr>\n",
              "    <tr>\n",
              "      <th>172</th>\n",
              "      <td>19.92</td>\n",
              "      <td>0.975087</td>\n",
              "      <td>0.966286</td>\n",
              "      <td>0.753968</td>\n",
              "      <td>1.0</td>\n",
              "    </tr>\n",
              "  </tbody>\n",
              "</table>\n",
              "</div>"
            ],
            "text/plain": [
              "     alpha  Train Accuracy  Test Accuracy  Test Recall  Test Precision\n",
              "163  18.93        0.977498       0.966830     0.757937             1.0\n",
              "164  19.04        0.977498       0.966830     0.757937             1.0\n",
              "165  19.15        0.977498       0.966830     0.757937             1.0\n",
              "166  19.26        0.976694       0.966830     0.757937             1.0\n",
              "167  19.37        0.976694       0.966830     0.757937             1.0\n",
              "168  19.48        0.976426       0.966286     0.753968             1.0\n",
              "169  19.59        0.975891       0.966286     0.753968             1.0\n",
              "170  19.70        0.975891       0.966286     0.753968             1.0\n",
              "171  19.81        0.975355       0.966286     0.753968             1.0\n",
              "172  19.92        0.975087       0.966286     0.753968             1.0"
            ]
          },
          "execution_count": 24,
          "metadata": {},
          "output_type": "execute_result"
        }
      ],
      "source": [
        "models.tail(n=10)"
      ]
    },
    {
      "cell_type": "markdown",
      "metadata": {
        "id": "U4-W7nAQfn1g"
      },
      "source": [
        "### Evaluando el modelo con mayor presicion\n",
        "1.   Selecciona el modelo con mayor precisión de prueba\n",
        "2.   Muestra sus metricas: Train Accuracy , Test Accuracy , Test Recall , Test Precision\n",
        "3.   Elabora su matriz de confusion\n",
        "\n"
      ]
    },
    {
      "cell_type": "code",
      "execution_count": 25,
      "metadata": {
        "id": "_TwW9Uk8gXcC"
      },
      "outputs": [
        {
          "data": {
            "text/plain": [
              "alpha             15.740000\n",
              "Train Accuracy     0.979641\n",
              "Test Accuracy      0.969549\n",
              "Test Recall        0.777778\n",
              "Test Precision     1.000000\n",
              "Name: 134, dtype: float64"
            ]
          },
          "execution_count": 25,
          "metadata": {},
          "output_type": "execute_result"
        }
      ],
      "source": [
        "# Aqui tu codigo\n",
        "best_index = models['Test Precision'].idxmax()\n",
        "models.iloc[best_index, :]"
      ]
    },
    {
      "cell_type": "code",
      "execution_count": 26,
      "metadata": {},
      "outputs": [
        {
          "data": {
            "text/html": [
              "<div>\n",
              "<style scoped>\n",
              "    .dataframe tbody tr th:only-of-type {\n",
              "        vertical-align: middle;\n",
              "    }\n",
              "\n",
              "    .dataframe tbody tr th {\n",
              "        vertical-align: top;\n",
              "    }\n",
              "\n",
              "    .dataframe thead th {\n",
              "        text-align: right;\n",
              "    }\n",
              "</style>\n",
              "<table border=\"1\" class=\"dataframe\">\n",
              "  <thead>\n",
              "    <tr style=\"text-align: right;\">\n",
              "      <th></th>\n",
              "      <th>Predicted 0</th>\n",
              "      <th>Predicted 1</th>\n",
              "    </tr>\n",
              "  </thead>\n",
              "  <tbody>\n",
              "    <tr>\n",
              "      <th>Actual 0</th>\n",
              "      <td>1587</td>\n",
              "      <td>0</td>\n",
              "    </tr>\n",
              "    <tr>\n",
              "      <th>Actual 1</th>\n",
              "      <td>62</td>\n",
              "      <td>190</td>\n",
              "    </tr>\n",
              "  </tbody>\n",
              "</table>\n",
              "</div>"
            ],
            "text/plain": [
              "          Predicted 0  Predicted 1\n",
              "Actual 0         1587            0\n",
              "Actual 1           62          190"
            ]
          },
          "execution_count": 26,
          "metadata": {},
          "output_type": "execute_result"
        }
      ],
      "source": [
        "m_confusion_test = metrics.confusion_matrix(y_test, bayes.predict(X_test))\n",
        "pd.DataFrame(data = m_confusion_test, columns = ['Predicted 0', 'Predicted 1'],\n",
        "            index = ['Actual 0', 'Actual 1'])"
      ]
    },
    {
      "cell_type": "markdown",
      "metadata": {
        "id": "PMVD3lMbgZIn"
      },
      "source": [
        "### Evaluando el modelo con menor presicion\n",
        "1.   Selecciona el modelo con menor precisión de prueba\n",
        "2.   Muestra sus metricas: Train Accuracy , Test Accuracy , Test Recall , Test Precision\n",
        "3.   Elabora su matriz de confusion"
      ]
    },
    {
      "cell_type": "code",
      "execution_count": 28,
      "metadata": {
        "id": "xo3j59BUghOX"
      },
      "outputs": [
        {
          "data": {
            "text/plain": [
              "alpha             1.000000\n",
              "Train Accuracy    0.995982\n",
              "Test Accuracy     0.976074\n",
              "Test Recall       0.920635\n",
              "Test Precision    0.906250\n",
              "Name: 0, dtype: float64"
            ]
          },
          "execution_count": 28,
          "metadata": {},
          "output_type": "execute_result"
        }
      ],
      "source": [
        "# Aqui tu codigo\n",
        "worst_index = models['Test Precision'].idxmin()\n",
        "models.iloc[worst_index, :]"
      ]
    },
    {
      "cell_type": "code",
      "execution_count": 29,
      "metadata": {},
      "outputs": [
        {
          "data": {
            "text/html": [
              "<div>\n",
              "<style scoped>\n",
              "    .dataframe tbody tr th:only-of-type {\n",
              "        vertical-align: middle;\n",
              "    }\n",
              "\n",
              "    .dataframe tbody tr th {\n",
              "        vertical-align: top;\n",
              "    }\n",
              "\n",
              "    .dataframe thead th {\n",
              "        text-align: right;\n",
              "    }\n",
              "</style>\n",
              "<table border=\"1\" class=\"dataframe\">\n",
              "  <thead>\n",
              "    <tr style=\"text-align: right;\">\n",
              "      <th></th>\n",
              "      <th>Predicted 0</th>\n",
              "      <th>Predicted 1</th>\n",
              "    </tr>\n",
              "  </thead>\n",
              "  <tbody>\n",
              "    <tr>\n",
              "      <th>Actual 0</th>\n",
              "      <td>1587</td>\n",
              "      <td>0</td>\n",
              "    </tr>\n",
              "    <tr>\n",
              "      <th>Actual 1</th>\n",
              "      <td>62</td>\n",
              "      <td>190</td>\n",
              "    </tr>\n",
              "  </tbody>\n",
              "</table>\n",
              "</div>"
            ],
            "text/plain": [
              "          Predicted 0  Predicted 1\n",
              "Actual 0         1587            0\n",
              "Actual 1           62          190"
            ]
          },
          "execution_count": 29,
          "metadata": {},
          "output_type": "execute_result"
        }
      ],
      "source": [
        "m_confusion_test = metrics.confusion_matrix(y_test, bayes.predict(X_test))\n",
        "pd.DataFrame(data = m_confusion_test, columns = ['Predicted 0', 'Predicted 1'],\n",
        "            index = ['Actual 0', 'Actual 1'])"
      ]
    }
  ],
  "metadata": {
    "anaconda-cloud": {},
    "colab": {
      "provenance": []
    },
    "kernelspec": {
      "display_name": "Python 3",
      "language": "python",
      "name": "python3"
    },
    "language_info": {
      "codemirror_mode": {
        "name": "ipython",
        "version": 3
      },
      "file_extension": ".py",
      "mimetype": "text/x-python",
      "name": "python",
      "nbconvert_exporter": "python",
      "pygments_lexer": "ipython3",
      "version": "3.10.11"
    }
  },
  "nbformat": 4,
  "nbformat_minor": 0
}
