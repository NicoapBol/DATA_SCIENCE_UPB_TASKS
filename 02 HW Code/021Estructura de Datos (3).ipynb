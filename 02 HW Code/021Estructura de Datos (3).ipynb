{
 "cells": [
  {
   "cell_type": "markdown",
   "metadata": {},
   "source": [
    "## Arrays"
   ]
  },
  {
   "cell_type": "code",
   "execution_count": 1,
   "metadata": {},
   "outputs": [
    {
     "name": "stdout",
     "output_type": "stream",
     "text": [
      "[1, 2, 3, 4, 5]\n"
     ]
    }
   ],
   "source": [
    "# Crear un array de números enteros\n",
    "numeros = [1, 2, 3, 4, 5]\n",
    "\n",
    "# Imprimir el array completo\n",
    "print(numeros)\n"
   ]
  },
  {
   "cell_type": "code",
   "execution_count": 2,
   "metadata": {},
   "outputs": [
    {
     "name": "stdout",
     "output_type": "stream",
     "text": [
      "4\n"
     ]
    }
   ],
   "source": [
    "# Acceder a un elemento específico del array\n",
    "print(numeros[3])   # Imprime el primer elemento (1)\n"
   ]
  },
  {
   "cell_type": "code",
   "execution_count": 3,
   "metadata": {},
   "outputs": [],
   "source": [
    "#print(numeros[5])   # Imprime el quinto elemento (5), saldra error porque no existe\n"
   ]
  },
  {
   "cell_type": "code",
   "execution_count": 4,
   "metadata": {},
   "outputs": [
    {
     "name": "stdout",
     "output_type": "stream",
     "text": [
      "[1, 10, 3, 4, 5]\n"
     ]
    }
   ],
   "source": [
    "# Modificar el segundo elemento del array\n",
    "numeros[1] = 10\n",
    "print(numeros) \n"
   ]
  },
  {
   "cell_type": "code",
   "execution_count": 5,
   "metadata": {},
   "outputs": [
    {
     "data": {
      "text/plain": [
       "[1, 10, 3, 4, 5]"
      ]
     },
     "execution_count": 5,
     "metadata": {},
     "output_type": "execute_result"
    }
   ],
   "source": [
    "numeros"
   ]
  },
  {
   "cell_type": "code",
   "execution_count": 6,
   "metadata": {},
   "outputs": [],
   "source": [
    "numeros1 = [2, 2, 3, 4, 5]"
   ]
  },
  {
   "cell_type": "code",
   "execution_count": 7,
   "metadata": {},
   "outputs": [],
   "source": [
    "#numeros * numeros1 #aqui observamos que conocer la estructura de los datos es necesario para no tener\n",
    "#errores en las transformaciones"
   ]
  },
  {
   "cell_type": "code",
   "execution_count": 8,
   "metadata": {},
   "outputs": [],
   "source": [
    "import numpy as np"
   ]
  },
  {
   "cell_type": "code",
   "execution_count": 9,
   "metadata": {},
   "outputs": [
    {
     "data": {
      "text/plain": [
       "array([ 2, 20,  9, 16, 25])"
      ]
     },
     "execution_count": 9,
     "metadata": {},
     "output_type": "execute_result"
    }
   ],
   "source": [
    "np.multiply(numeros,numeros1)"
   ]
  },
  {
   "cell_type": "markdown",
   "metadata": {},
   "source": [
    "## Pilas "
   ]
  },
  {
   "cell_type": "code",
   "execution_count": 10,
   "metadata": {},
   "outputs": [
    {
     "name": "stdout",
     "output_type": "stream",
     "text": [
      "['a']\n"
     ]
    }
   ],
   "source": [
    "# Se usarán las listas en Python para mostrar su implementación\n",
    " \n",
    "pila = []\n",
    " \n",
    "# usamos la función append() para añadir elementos, como  * push * \n",
    "pila.append('a')\n",
    "print(pila)"
   ]
  },
  {
   "cell_type": "code",
   "execution_count": 11,
   "metadata": {},
   "outputs": [
    {
     "name": "stdout",
     "output_type": "stream",
     "text": [
      "['a', 'b', 'c']\n"
     ]
    }
   ],
   "source": [
    "pila.append('b')\n",
    "pila.append('c')\n",
    "print(pila)"
   ]
  },
  {
   "cell_type": "code",
   "execution_count": 12,
   "metadata": {},
   "outputs": [
    {
     "name": "stdout",
     "output_type": "stream",
     "text": [
      "\n",
      "Elementos quitados de la pila:\n",
      "c\n"
     ]
    }
   ],
   "source": [
    "# usamos la función pop() para quitar elementos en el orden LIFO \"last in first out\"\n",
    "print('\\nElementos quitados de la pila:')\n",
    "print(pila.pop())\n"
   ]
  },
  {
   "cell_type": "code",
   "execution_count": 13,
   "metadata": {},
   "outputs": [
    {
     "name": "stdout",
     "output_type": "stream",
     "text": [
      "\n",
      "Elementos que quedaron en la pila:\n",
      "['a', 'b']\n"
     ]
    }
   ],
   "source": [
    "print('\\nElementos que quedaron en la pila:')\n",
    "print(pila)"
   ]
  },
  {
   "cell_type": "markdown",
   "metadata": {},
   "source": [
    "## Colas"
   ]
  },
  {
   "cell_type": "code",
   "execution_count": 14,
   "metadata": {},
   "outputs": [],
   "source": [
    "import queue"
   ]
  },
  {
   "cell_type": "code",
   "execution_count": 15,
   "metadata": {},
   "outputs": [],
   "source": [
    "# crear una cola\n",
    "micola = queue.Queue()\n"
   ]
  },
  {
   "cell_type": "code",
   "execution_count": 16,
   "metadata": {},
   "outputs": [],
   "source": [
    "#añadimos elementos\n",
    "micola.put(\"Andes\")\n",
    "micola.put(2)\n",
    "micola.put(3)\n",
    "micola.put(\"Maria\")\n"
   ]
  },
  {
   "cell_type": "code",
   "execution_count": 17,
   "metadata": {},
   "outputs": [
    {
     "name": "stdout",
     "output_type": "stream",
     "text": [
      "Andes\n"
     ]
    }
   ],
   "source": [
    "# obtener el primer elemento de la cola\n",
    "primerelemento = micola.get()\n",
    "print(primerelemento) \n"
   ]
  },
  {
   "cell_type": "code",
   "execution_count": 18,
   "metadata": {},
   "outputs": [],
   "source": [
    "micola.put(\"Esteban\")\n"
   ]
  },
  {
   "cell_type": "code",
   "execution_count": 19,
   "metadata": {},
   "outputs": [
    {
     "name": "stdout",
     "output_type": "stream",
     "text": [
      "2\n"
     ]
    }
   ],
   "source": [
    "# obtener el primer elemento de la cola\n",
    "primerelemento = micola.get()\n",
    "print(primerelemento) "
   ]
  },
  {
   "cell_type": "code",
   "execution_count": 20,
   "metadata": {},
   "outputs": [
    {
     "name": "stdout",
     "output_type": "stream",
     "text": [
      "3\n"
     ]
    }
   ],
   "source": [
    "#  obtener el siguiente elemento de la cola\n",
    "segundoelemento = micola.get()\n",
    "print(segundoelemento) \n",
    "#note que cada que corremos get, se muestra el siguiente en la línea \n"
   ]
  },
  {
   "cell_type": "code",
   "execution_count": 21,
   "metadata": {},
   "outputs": [
    {
     "name": "stdout",
     "output_type": "stream",
     "text": [
      "False\n"
     ]
    }
   ],
   "source": [
    "# verificar si la cola está vacía\n",
    "estavacia = micola.empty()\n",
    "print(estavacia)\n"
   ]
  },
  {
   "cell_type": "code",
   "execution_count": 22,
   "metadata": {},
   "outputs": [
    {
     "name": "stdout",
     "output_type": "stream",
     "text": [
      "2\n"
     ]
    }
   ],
   "source": [
    "# obtener el tamaño\n",
    "medidacola = micola.qsize()\n",
    "print(medidacola) "
   ]
  },
  {
   "cell_type": "markdown",
   "metadata": {},
   "source": [
    "## Arboles\n",
    "\n",
    "Siguiendo el ejemplo del material de curso: creamos los nodos del abuelo, hijos y el nieto Mateo"
   ]
  },
  {
   "cell_type": "code",
   "execution_count": 49,
   "metadata": {},
   "outputs": [],
   "source": [
    "class Nodo:\n",
    "    def __init__(self, valor, nombre):\n",
    "        self.valor = valor\n",
    "        self.hijos = []\n",
    "        self.nombre = nombre\n",
    "\n",
    "    def agregar_hijo(self, hijo):\n",
    "        self.hijos.append(hijo)"
   ]
  },
  {
   "cell_type": "code",
   "execution_count": 50,
   "metadata": {},
   "outputs": [],
   "source": [
    "# creamos los nodos del árbol con sus respectivos nombres\n",
    "raiz = Nodo(1, \"Martin\")\n",
    "hijo1 = Nodo(2, \"Andrés\")\n",
    "hijo2 = Nodo(3, \"Christian\")\n",
    "hijo3 = Nodo(4, \"Estefany\")\n",
    "nieto1 = Nodo(5, \"Mateo\")\n",
    "nieto2 = Nodo(6,\"Jose\")\n",
    "nieto3 = Nodo(7,\"Melanie\")\n",
    "nieto4 = Nodo(8,\"Andrea\")\n"
   ]
  },
  {
   "cell_type": "code",
   "execution_count": 51,
   "metadata": {},
   "outputs": [],
   "source": [
    "# establecemos las relaciones padre-hijo\n",
    "raiz.agregar_hijo(hijo1)\n",
    "raiz.agregar_hijo(hijo2)\n",
    "raiz.agregar_hijo(hijo3)\n",
    "hijo1.agregar_hijo(nieto1)\n",
    "hijo2.agregar_hijo(nieto2)\n",
    "hijo2.agregar_hijo(nieto3)\n",
    "hijo3.agregar_hijo(nieto4)"
   ]
  },
  {
   "cell_type": "markdown",
   "metadata": {},
   "source": [
    "## Tablas Hash"
   ]
  },
  {
   "cell_type": "code",
   "execution_count": 26,
   "metadata": {},
   "outputs": [],
   "source": [
    "\n",
    "# Imaginemos que queremos guardar hasta 10 contraseñas\n",
    "tabla_hash = [[] for _ in range(10)]\n",
    "\n",
    "# Función hash sencilla que retorna un índice basado en la longitud de la cadena de la llave\n",
    "def funcion_hash(llave):\n",
    "    return len(llave) % len(tabla_hash)\n",
    "\n",
    "# Función para agregar un par clave-valor a la tabla hash\n",
    "def agregar_a_tabla(llave, valor):\n",
    "    indice = funcion_hash(llave)\n",
    "    tabla_hash[indice].append((llave, valor))\n",
    "\n",
    "# Función para buscar un valor en la tabla hash a partir de su llave\n",
    "def buscar_en_tabla(llave):\n",
    "    indice = funcion_hash(llave)\n",
    "    lista_valores = tabla_hash[indice]\n",
    "    for par in lista_valores:\n",
    "        if par[0] == llave:\n",
    "            return par[1]\n",
    "    return None\n"
   ]
  },
  {
   "cell_type": "code",
   "execution_count": 27,
   "metadata": {},
   "outputs": [],
   "source": [
    "# Agregamos algunos elementos a la tabla hash\n",
    "agregar_a_tabla(\"facebook\", \"micontraseña123\")\n",
    "agregar_a_tabla(\"instagram\", \"password321\")\n",
    "agregar_a_tabla(\"snapchat\", \"nietita321\")\n"
   ]
  },
  {
   "cell_type": "code",
   "execution_count": 28,
   "metadata": {},
   "outputs": [],
   "source": [
    "agregar_a_tabla(\"meta\", \"micontraseña123\")\n"
   ]
  },
  {
   "cell_type": "code",
   "execution_count": 29,
   "metadata": {},
   "outputs": [
    {
     "data": {
      "text/plain": [
       "8"
      ]
     },
     "execution_count": 29,
     "metadata": {},
     "output_type": "execute_result"
    }
   ],
   "source": [
    "\n",
    "funcion_hash(\"facebook\")  #aqui podemos ver en qué índice se almacenará la clave, en función al número de caracteres que contiene"
   ]
  },
  {
   "cell_type": "code",
   "execution_count": 30,
   "metadata": {},
   "outputs": [
    {
     "data": {
      "text/plain": [
       "[[],\n",
       " [],\n",
       " [],\n",
       " [],\n",
       " [('meta', 'micontraseña123')],\n",
       " [],\n",
       " [],\n",
       " [],\n",
       " [('facebook', 'micontraseña123'), ('snapchat', 'nietita321')],\n",
       " [('instagram', 'password321')]]"
      ]
     },
     "execution_count": 30,
     "metadata": {},
     "output_type": "execute_result"
    }
   ],
   "source": [
    "tabla_hash  #como podemos observar, se almacenaron las contraseñas en los índices 4, 8 y 9 de la tabla hash"
   ]
  },
  {
   "cell_type": "code",
   "execution_count": 31,
   "metadata": {},
   "outputs": [
    {
     "name": "stdout",
     "output_type": "stream",
     "text": [
      "nietita321\n"
     ]
    }
   ],
   "source": [
    "# Buscamos el valor correspondiente a una llave\n",
    "print(buscar_en_tabla(\"snapchat\"))  # Resultado: 1"
   ]
  },
  {
   "cell_type": "markdown",
   "metadata": {},
   "source": [
    "## Grafos"
   ]
  },
  {
   "cell_type": "code",
   "execution_count": 33,
   "metadata": {},
   "outputs": [],
   "source": [
    "import networkx as nx\n",
    "import pandas as pd\n",
    "import warnings\n",
    "import matplotlib.pyplot as plt\n",
    "#fuente> https://www.cienciadedatos.net/documentos/pygml01-introduccion-grafos-redes-python.html"
   ]
  },
  {
   "cell_type": "code",
   "execution_count": 34,
   "metadata": {},
   "outputs": [
    {
     "name": "stdout",
     "output_type": "stream",
     "text": [
      "Graph with 0 nodes and 0 edges\n"
     ]
    }
   ],
   "source": [
    "# Creación de una instancia de tipo \"Grafo\"\n",
    "G = nx.Graph()\n",
    "print(G)"
   ]
  },
  {
   "cell_type": "code",
   "execution_count": 35,
   "metadata": {},
   "outputs": [
    {
     "name": "stdout",
     "output_type": "stream",
     "text": [
      "Graph with 1 nodes and 0 edges\n"
     ]
    },
    {
     "data": {
      "image/png": "[encoded data removed]",
      "text/plain": [
       "<Figure size 200x100 with 1 Axes>"
      ]
     },
     "metadata": {},
     "output_type": "display_data"
    }
   ],
   "source": [
    "# Añadimos el nodo de Toluca según el ejemplo del material del modulo\n",
    "fig, ax = plt.subplots(figsize=(2,1))\n",
    "G.add_node(\"Toluca\")\n",
    "nx.draw(G, with_labels=True, ax=ax)\n",
    "print(G)"
   ]
  },
  {
   "cell_type": "code",
   "execution_count": 36,
   "metadata": {},
   "outputs": [
    {
     "name": "stdout",
     "output_type": "stream",
     "text": [
      "Graph with 3 nodes and 0 edges\n"
     ]
    },
    {
     "data": {
      "image/png": "[encoded data removed]",
      "text/plain": [
       "<Figure size 300x200 with 1 Axes>"
      ]
     },
     "metadata": {},
     "output_type": "display_data"
    }
   ],
   "source": [
    "# Añadir multiples otros nodos, representando a las ciudades\n",
    "G.add_nodes_from([\"Cuernavaca\", \"Tlaxcala\"])\n",
    "\n",
    "fig, ax = plt.subplots(figsize=(3, 2))\n",
    "nx.draw(G, with_labels=True, ax=ax)\n",
    "ax.set_xlim([1.2*x for x in ax.get_xlim()])\n",
    "ax.set_ylim([1.2*y for y in ax.get_ylim()])\n",
    "print(G)"
   ]
  },
  {
   "cell_type": "code",
   "execution_count": 37,
   "metadata": {},
   "outputs": [],
   "source": [
    "# Add edges to connect nodes\n",
    "G.add_edge(\"Cuernava\", \"Toluca\")\n",
    "G.add_edge(\"Toluca\", \"Tlaxcala\")"
   ]
  },
  {
   "cell_type": "markdown",
   "metadata": {},
   "source": [
    "Visualizar con la libreria Pyvis"
   ]
  },
  {
   "cell_type": "code",
   "execution_count": 39,
   "metadata": {},
   "outputs": [
    {
     "name": "stdout",
     "output_type": "stream",
     "text": [
      "Collecting pyvis\n",
      "  Downloading pyvis-0.3.2-py3-none-any.whl (756 kB)\n",
      "     ---------------------------------------- 0.0/756.0 kB ? eta -:--:--\n",
      "     -- ---------------------------------- 51.2/756.0 kB 871.5 kB/s eta 0:00:01\n",
      "     ------ ------------------------------- 133.1/756.0 kB 1.3 MB/s eta 0:00:01\n",
      "     ----------- -------------------------- 225.3/756.0 kB 1.5 MB/s eta 0:00:01\n",
      "     ---------------- --------------------- 337.9/756.0 kB 1.9 MB/s eta 0:00:01\n",
      "     ----------------------- -------------- 471.0/756.0 kB 2.1 MB/s eta 0:00:01\n",
      "     ----------------------------- -------- 583.7/756.0 kB 2.2 MB/s eta 0:00:01\n",
      "     ----------------------------------- -- 706.6/756.0 kB 2.2 MB/s eta 0:00:01\n",
      "     -------------------------------------- 756.0/756.0 kB 2.2 MB/s eta 0:00:00\n",
      "Requirement already satisfied: ipython>=5.3.0 in c:\\users\\nicol\\appdata\\local\\packages\\pythonsoftwarefoundation.python.3.10_qbz5n2kfra8p0\\localcache\\local-packages\\python310\\site-packages (from pyvis) (8.14.0)\n",
      "Requirement already satisfied: jinja2>=2.9.6 in c:\\users\\nicol\\appdata\\local\\packages\\pythonsoftwarefoundation.python.3.10_qbz5n2kfra8p0\\localcache\\local-packages\\python310\\site-packages (from pyvis) (3.1.2)\n",
      "Collecting jsonpickle>=1.4.1 (from pyvis)\n",
      "  Obtaining dependency information for jsonpickle>=1.4.1 from https://files.pythonhosted.org/packages/d3/25/6e0a450430b7aa194b0f515f64820fc619314faa289458b7dfca4a026114/jsonpickle-3.0.2-py3-none-any.whl.metadata\n",
      "  Downloading jsonpickle-3.0.2-py3-none-any.whl.metadata (7.5 kB)\n",
      "Requirement already satisfied: networkx>=1.11 in c:\\users\\nicol\\appdata\\local\\packages\\pythonsoftwarefoundation.python.3.10_qbz5n2kfra8p0\\localcache\\local-packages\\python310\\site-packages (from pyvis) (3.1)\n",
      "Requirement already satisfied: backcall in c:\\users\\nicol\\appdata\\local\\packages\\pythonsoftwarefoundation.python.3.10_qbz5n2kfra8p0\\localcache\\local-packages\\python310\\site-packages (from ipython>=5.3.0->pyvis) (0.2.0)\n",
      "Requirement already satisfied: decorator in c:\\users\\nicol\\appdata\\local\\packages\\pythonsoftwarefoundation.python.3.10_qbz5n2kfra8p0\\localcache\\local-packages\\python310\\site-packages (from ipython>=5.3.0->pyvis) (5.1.1)\n",
      "Requirement already satisfied: jedi>=0.16 in c:\\users\\nicol\\appdata\\local\\packages\\pythonsoftwarefoundation.python.3.10_qbz5n2kfra8p0\\localcache\\local-packages\\python310\\site-packages (from ipython>=5.3.0->pyvis) (0.19.0)\n",
      "Requirement already satisfied: matplotlib-inline in c:\\users\\nicol\\appdata\\local\\packages\\pythonsoftwarefoundation.python.3.10_qbz5n2kfra8p0\\localcache\\local-packages\\python310\\site-packages (from ipython>=5.3.0->pyvis) (0.1.6)\n",
      "Requirement already satisfied: pickleshare in c:\\users\\nicol\\appdata\\local\\packages\\pythonsoftwarefoundation.python.3.10_qbz5n2kfra8p0\\localcache\\local-packages\\python310\\site-packages (from ipython>=5.3.0->pyvis) (0.7.5)\n",
      "Requirement already satisfied: prompt-toolkit!=3.0.37,<3.1.0,>=3.0.30 in c:\\users\\nicol\\appdata\\local\\packages\\pythonsoftwarefoundation.python.3.10_qbz5n2kfra8p0\\localcache\\local-packages\\python310\\site-packages (from ipython>=5.3.0->pyvis) (3.0.39)\n",
      "Requirement already satisfied: pygments>=2.4.0 in c:\\users\\nicol\\appdata\\local\\packages\\pythonsoftwarefoundation.python.3.10_qbz5n2kfra8p0\\localcache\\local-packages\\python310\\site-packages (from ipython>=5.3.0->pyvis) (2.15.1)\n",
      "Requirement already satisfied: stack-data in c:\\users\\nicol\\appdata\\local\\packages\\pythonsoftwarefoundation.python.3.10_qbz5n2kfra8p0\\localcache\\local-packages\\python310\\site-packages (from ipython>=5.3.0->pyvis) (0.6.2)\n",
      "Requirement already satisfied: traitlets>=5 in c:\\users\\nicol\\appdata\\local\\packages\\pythonsoftwarefoundation.python.3.10_qbz5n2kfra8p0\\localcache\\local-packages\\python310\\site-packages (from ipython>=5.3.0->pyvis) (5.9.0)\n",
      "Requirement already satisfied: colorama in c:\\users\\nicol\\appdata\\local\\packages\\pythonsoftwarefoundation.python.3.10_qbz5n2kfra8p0\\localcache\\local-packages\\python310\\site-packages (from ipython>=5.3.0->pyvis) (0.4.6)\n",
      "Requirement already satisfied: MarkupSafe>=2.0 in c:\\users\\nicol\\appdata\\local\\packages\\pythonsoftwarefoundation.python.3.10_qbz5n2kfra8p0\\localcache\\local-packages\\python310\\site-packages (from jinja2>=2.9.6->pyvis) (2.1.3)\n",
      "Requirement already satisfied: parso<0.9.0,>=0.8.3 in c:\\users\\nicol\\appdata\\local\\packages\\pythonsoftwarefoundation.python.3.10_qbz5n2kfra8p0\\localcache\\local-packages\\python310\\site-packages (from jedi>=0.16->ipython>=5.3.0->pyvis) (0.8.3)\n",
      "Requirement already satisfied: wcwidth in c:\\users\\nicol\\appdata\\local\\packages\\pythonsoftwarefoundation.python.3.10_qbz5n2kfra8p0\\localcache\\local-packages\\python310\\site-packages (from prompt-toolkit!=3.0.37,<3.1.0,>=3.0.30->ipython>=5.3.0->pyvis) (0.2.6)\n",
      "Requirement already satisfied: executing>=1.2.0 in c:\\users\\nicol\\appdata\\local\\packages\\pythonsoftwarefoundation.python.3.10_qbz5n2kfra8p0\\localcache\\local-packages\\python310\\site-packages (from stack-data->ipython>=5.3.0->pyvis) (1.2.0)\n",
      "Requirement already satisfied: asttokens>=2.1.0 in c:\\users\\nicol\\appdata\\local\\packages\\pythonsoftwarefoundation.python.3.10_qbz5n2kfra8p0\\localcache\\local-packages\\python310\\site-packages (from stack-data->ipython>=5.3.0->pyvis) (2.2.1)\n",
      "Requirement already satisfied: pure-eval in c:\\users\\nicol\\appdata\\local\\packages\\pythonsoftwarefoundation.python.3.10_qbz5n2kfra8p0\\localcache\\local-packages\\python310\\site-packages (from stack-data->ipython>=5.3.0->pyvis) (0.2.2)\n",
      "Requirement already satisfied: six in c:\\users\\nicol\\appdata\\local\\packages\\pythonsoftwarefoundation.python.3.10_qbz5n2kfra8p0\\localcache\\local-packages\\python310\\site-packages (from asttokens>=2.1.0->stack-data->ipython>=5.3.0->pyvis) (1.16.0)\n",
      "Downloading jsonpickle-3.0.2-py3-none-any.whl (40 kB)\n",
      "   ---------------------------------------- 0.0/40.7 kB ? eta -:--:--\n",
      "   ---------------------------------------- 40.7/40.7 kB ? eta 0:00:00\n",
      "Installing collected packages: jsonpickle, pyvis\n",
      "Successfully installed jsonpickle-3.0.2 pyvis-0.3.2\n",
      "Note: you may need to restart the kernel to use updated packages.\n"
     ]
    }
   ],
   "source": [
    "#pip install pyvis"
   ]
  },
  {
   "cell_type": "code",
   "execution_count": 47,
   "metadata": {},
   "outputs": [
    {
     "name": "stdout",
     "output_type": "stream",
     "text": [
      "Warning: When  cdn_resources is 'local' jupyter notebook has issues displaying graphics on chrome/safari. Use cdn_resources='in_line' or cdn_resources='remote' if you have issues viewing graphics in a notebook.\n",
      "network.html\n"
     ]
    },
    {
     "data": {
      "text/html": [
       "\n",
       "        <iframe\n",
       "            width=\"100%\"\n",
       "            height=\"600px\"\n",
       "            src=\"network.html\"\n",
       "            frameborder=\"0\"\n",
       "            allowfullscreen\n",
       "            \n",
       "        ></iframe>\n",
       "        "
      ],
      "text/plain": [
       "<IPython.lib.display.IFrame at 0x22b8d01ce80>"
      ]
     },
     "execution_count": 47,
     "metadata": {},
     "output_type": "execute_result"
    }
   ],
   "source": [
    "from pyvis.network import Network\n",
    "\n",
    "# Create an empty graph\n",
    "G = nx.Graph()\n",
    "\n",
    "# Add multiple nodes\n",
    "G.add_nodes_from([\"Mexico City\", \"Toluca\", \"Puebla\", \"Cuernavaca\", \"Tlaxcala\"])\n",
    "\n",
    "# Add edges to connect nodes\n",
    "G.add_edge(\"Mexico City\", \"Toluca\")\n",
    "G.add_edge(\"Mexico City\", \"Puebla\")\n",
    "G.add_edge(\"Toluca\", \"Cuernavaca\")  # New edge\n",
    "G.add_edge(\"Toluca\", \"Tlaxcala\")    # New edge\n",
    "\n",
    "# Create a pyvis network instance\n",
    "nt = Network(notebook=True)\n",
    "\n",
    "# Add nodes and edges to the network\n",
    "for node in G.nodes:\n",
    "    nt.add_node(node)\n",
    "for edge in G.edges:\n",
    "    nt.add_edge(edge[0], edge[1])\n",
    "\n",
    "# Show the network\n",
    "nt.show(\"network.html\")"
   ]
  },
  {
   "cell_type": "markdown",
   "metadata": {},
   "source": [
    "## Conjuntos"
   ]
  },
  {
   "cell_type": "code",
   "execution_count": null,
   "metadata": {},
   "outputs": [],
   "source": [
    "#Si tenemos dos listas de números y deseamos encontrar los números que aparecen en ambas listas\n",
    "#creamos dos conjuntos y utilizamos el método de intersección intersection() para encontrar los elementos comunes."
   ]
  },
  {
   "cell_type": "code",
   "execution_count": 44,
   "metadata": {},
   "outputs": [
    {
     "name": "stdout",
     "output_type": "stream",
     "text": [
      "{3, 4, 5}\n"
     ]
    }
   ],
   "source": [
    "lista1 = [1, 2, 3, 4, 5]\n",
    "lista2 = [3, 4, 5, 6, 7]\n",
    "conjunto1 = set(lista1)\n",
    "conjunto2 = set(lista2)\n",
    "interseccion = conjunto1.intersection(conjunto2)\n",
    "print(interseccion)\n",
    "#el output son los elementos que se tienen en común"
   ]
  },
  {
   "cell_type": "markdown",
   "metadata": {},
   "source": [
    "## Mapas \n",
    "##### Mapeo"
   ]
  },
  {
   "cell_type": "code",
   "execution_count": 45,
   "metadata": {},
   "outputs": [
    {
     "name": "stdout",
     "output_type": "stream",
     "text": [
      "Madrid está en España\n",
      "Barcelona está en España\n",
      "Londres está en Reino Unido\n",
      "París está en Francia\n"
     ]
    }
   ],
   "source": [
    "ciudades = [\"Madrid\", \"Barcelona\", \"Londres\", \"París\"]\n",
    "paises = {\"Madrid\": \"España\", \"Barcelona\": \"España\", \"Londres\": \"Reino Unido\", \"París\": \"Francia\"}\n",
    "\n",
    "for ciudad in ciudades:\n",
    "    print(ciudad + \" está en \" + paises[ciudad])"
   ]
  },
  {
   "cell_type": "code",
   "execution_count": null,
   "metadata": {},
   "outputs": [],
   "source": []
  }
 ],
 "metadata": {
  "kernelspec": {
   "display_name": "Python 3",
   "language": "python",
   "name": "python3"
  },
  "language_info": {
   "codemirror_mode": {
    "name": "ipython",
    "version": 3
   },
   "file_extension": ".py",
   "mimetype": "text/x-python",
   "name": "python",
   "nbconvert_exporter": "python",
   "pygments_lexer": "ipython3",
   "version": "3.10.11"
  }
 },
 "nbformat": 4,
 "nbformat_minor": 2
}
