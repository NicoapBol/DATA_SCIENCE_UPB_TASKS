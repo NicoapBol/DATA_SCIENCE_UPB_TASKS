{
 "cells": [
  {
   "cell_type": "markdown",
   "id": "7dc2e8fd",
   "metadata": {},
   "source": [
    "# Sesión 4 - Implementación de agrupaciones"
   ]
  },
  {
   "cell_type": "markdown",
   "id": "095068be",
   "metadata": {},
   "source": [
    "## Agrupaciones"
   ]
  },
  {
   "cell_type": "code",
   "execution_count": null,
   "id": "911049ed",
   "metadata": {},
   "outputs": [],
   "source": [
    "#Empezamos instalando el paquete\n",
    "#pip install scikit-learn"
   ]
  },
  {
   "cell_type": "code",
   "execution_count": null,
   "id": "1911eb16",
   "metadata": {},
   "outputs": [],
   "source": [
    "#Importamos el paquete\n",
    "import sklearn"
   ]
  },
  {
   "cell_type": "code",
   "execution_count": null,
   "id": "3c30c2b1",
   "metadata": {},
   "outputs": [],
   "source": [
    "# Creamos una base de datos artificial\n",
    "\n",
    "# Importamos algunos paquetes\n",
    "from numpy import where\n",
    "from sklearn.datasets import make_classification\n",
    "from matplotlib import pyplot\n",
    "\n",
    "# Definimos la base\n",
    "X, y = make_classification(n_samples=1000, n_features=2, n_informative=2,\n",
    "                           n_redundant=0, n_clusters_per_class=1, random_state=42)\n",
    "\n",
    "# Creamos el gráfico para cada clase\n",
    "for class_value in range(2):\n",
    " # Pedimos los valores\n",
    " row_ix = where(y == class_value)\n",
    " # Realizamos el gráfico de dispersión\n",
    " pyplot.scatter(X[row_ix, 0], X[row_ix, 1])\n",
    "# Llamamos al gráfico\n",
    "pyplot.show()"
   ]
  },
  {
   "cell_type": "markdown",
   "id": "19855a82",
   "metadata": {},
   "source": [
    "## K-Medias"
   ]
  },
  {
   "cell_type": "code",
   "execution_count": null,
   "id": "0b7f8c49",
   "metadata": {},
   "outputs": [],
   "source": [
    "# Agrupaciones por K-Medias\n",
    "from numpy import unique\n",
    "from sklearn.datasets import make_classification\n",
    "from sklearn.cluster import KMeans\n",
    "from matplotlib import pyplot\n",
    "\n",
    "# Definimos la base de datos\n",
    "X, _ = make_classification(n_samples=1000, n_features=2, n_informative=2, \n",
    "                           n_redundant=0, n_clusters_per_class=1, random_state=42)\n",
    "\n",
    "# Definimos el modelo con 2 agrupaciones\n",
    "modelo = KMeans(n_clusters=2, random_state = 42)\n",
    "\n",
    "# Ajustamos el modelo\n",
    "modelo.fit(X)\n",
    "\n",
    "# Asignamos un grupo a cada agrupación\n",
    "yhat = modelo.predict(X)\n",
    "\n",
    "# Obtenemos las agrupaciones únicas\n",
    "clusters = unique(yhat)\n",
    "\n",
    "# Creamos un gráfico para cada uno de los grupos\n",
    "for cluster in clusters:\n",
    " row_ix = where(yhat == cluster)\n",
    " pyplot.scatter(X[row_ix, 0], X[row_ix, 1])\n",
    "pyplot.show()"
   ]
  },
  {
   "cell_type": "code",
   "execution_count": null,
   "id": "4e5ab238",
   "metadata": {},
   "outputs": [],
   "source": [
    "# Definimos el modelo con 3 agrupaciones\n",
    "modelo_3 = KMeans(n_clusters=3, random_state = 42)\n",
    "\n",
    "# Ajustamos el modelo\n",
    "modelo_3.fit(X)\n",
    "\n",
    "# Asignamos un grupo a cada agrupación\n",
    "yhat = modelo_3.predict(X)\n",
    "\n",
    "# Obtenemos las agrupaciones únicas\n",
    "clusters = unique(yhat)\n",
    "\n",
    "# Creamos un gráfico para cada uno de los grupos\n",
    "for cluster in clusters:\n",
    " row_ix = where(yhat == cluster)\n",
    " pyplot.scatter(X[row_ix, 0], X[row_ix, 1])\n",
    "pyplot.show()"
   ]
  },
  {
   "cell_type": "code",
   "execution_count": null,
   "id": "8718e46f",
   "metadata": {},
   "outputs": [],
   "source": [
    "# Definimos el modelo con 4 agrupaciones\n",
    "modelo_4 = KMeans(n_clusters=4, random_state = 42)\n",
    "\n",
    "# Ajustamos el modelo\n",
    "modelo_4.fit(X)\n",
    "\n",
    "# Asignamos un grupo a cada agrupación\n",
    "yhat = modelo_4.predict(X)\n",
    "\n",
    "# Obtenemos las agrupaciones únicas\n",
    "clusters = unique(yhat)\n",
    "\n",
    "# Creamos un gráfico para cada uno de los grupos\n",
    "for cluster in clusters:\n",
    " row_ix = where(yhat == cluster)\n",
    " pyplot.scatter(X[row_ix, 0], X[row_ix, 1])\n",
    "pyplot.show()"
   ]
  },
  {
   "cell_type": "markdown",
   "id": "c61dbbc4",
   "metadata": {},
   "source": [
    "## Agrupación espectral "
   ]
  },
  {
   "cell_type": "code",
   "execution_count": null,
   "id": "15453082",
   "metadata": {},
   "outputs": [],
   "source": [
    "# Importamos el paquete\n",
    "from sklearn.cluster import SpectralClustering\n",
    "\n",
    "# Definimos un modelo con 2 agrupaciones\n",
    "modelo = SpectralClustering(n_clusters=2, random_state = 42)\n",
    "\n",
    "# Ajustamos el modelo\n",
    "yhat = modelo.fit_predict(X)\n",
    "\n",
    "# Obtenemos las agrupaciones unicas\n",
    "clusters = unique(yhat)\n",
    "\n",
    "# Realizamos un gráfico de dispersión para cada agrupación\n",
    "for cluster in clusters:\n",
    " row_ix = where(yhat == cluster)\n",
    " pyplot.scatter(X[row_ix, 0], X[row_ix, 1])\n",
    "pyplot.show()"
   ]
  },
  {
   "cell_type": "code",
   "execution_count": null,
   "id": "a038de9f",
   "metadata": {},
   "outputs": [],
   "source": [
    "# Definimos un modelo con 3 agrupaciones\n",
    "modelo_3 = SpectralClustering(n_clusters=3, random_state = 42)\n",
    "\n",
    "# Ajustamos el modelo\n",
    "yhat = modelo_3.fit_predict(X)\n",
    "\n",
    "# Obtenemos las agrupaciones unicas\n",
    "clusters = unique(yhat)\n",
    "\n",
    "# Realizamos un gráfico de dispersión para cada agrupación\n",
    "for cluster in clusters:\n",
    " row_ix = where(yhat == cluster)\n",
    " pyplot.scatter(X[row_ix, 0], X[row_ix, 1])\n",
    "pyplot.show()"
   ]
  },
  {
   "cell_type": "code",
   "execution_count": null,
   "id": "40ea79f5",
   "metadata": {},
   "outputs": [],
   "source": [
    "# Definimos un modelo con 4 agrupaciones\n",
    "modelo_3 = SpectralClustering(n_clusters=4, random_state = 42)\n",
    "\n",
    "# Ajustamos el modelo\n",
    "yhat = modelo_4.fit_predict(X)\n",
    "\n",
    "# Obtenemos las agrupaciones unicas\n",
    "clusters = unique(yhat)\n",
    "\n",
    "# Realizamos un gráfico de dispersión para cada agrupación\n",
    "for cluster in clusters:\n",
    " row_ix = where(yhat == cluster)\n",
    " pyplot.scatter(X[row_ix, 0], X[row_ix, 1])\n",
    "pyplot.show()"
   ]
  },
  {
   "cell_type": "markdown",
   "id": "9d3a32b2",
   "metadata": {},
   "source": [
    "## Modelo mixto Gaussiano "
   ]
  },
  {
   "cell_type": "code",
   "execution_count": null,
   "id": "44ba75a9",
   "metadata": {},
   "outputs": [],
   "source": [
    "# Importamos el paquete\n",
    "from sklearn.mixture import GaussianMixture\n",
    "\n",
    "# Definimos el modelo\n",
    "modelo = GaussianMixture(n_components=2, random_state = 42)\n",
    "\n",
    "# Lo ajustamos\n",
    "modelo.fit(X)\n",
    "\n",
    "# Asignamos una agrupación a cada grupo\n",
    "yhat = modelo.predict(X)\n",
    "\n",
    "# Obtenemos las agrupaciones unicas\n",
    "clusters = unique(yhat)\n",
    "\n",
    "# Realizamos el gráfico\n",
    "for cluster in clusters:\n",
    " row_ix = where(yhat == cluster)\n",
    " pyplot.scatter(X[row_ix, 0], X[row_ix, 1])\n",
    "pyplot.show()"
   ]
  },
  {
   "cell_type": "code",
   "execution_count": null,
   "id": "0be4b63a",
   "metadata": {},
   "outputs": [],
   "source": [
    "# Definimos el modelo con 3 agrupaciones\n",
    "modelo_3 = GaussianMixture(n_components=3, random_state = 42)\n",
    "\n",
    "# Lo ajustamos\n",
    "modelo_3.fit(X)\n",
    "\n",
    "# Asignamos una agrupación a cada grupo\n",
    "yhat = modelo_3.predict(X)\n",
    "\n",
    "# Obtenemos las agrupaciones unicas\n",
    "clusters = unique(yhat)\n",
    "\n",
    "# Realizamos el gráfico\n",
    "for cluster in clusters:\n",
    " row_ix = where(yhat == cluster)\n",
    " pyplot.scatter(X[row_ix, 0], X[row_ix, 1])\n",
    "pyplot.show()"
   ]
  },
  {
   "cell_type": "code",
   "execution_count": null,
   "id": "90af256f",
   "metadata": {},
   "outputs": [],
   "source": [
    "# Definimos el modelo con 4 agrupaciones\n",
    "modelo_4 = GaussianMixture(n_components=4, random_state = 42)\n",
    "\n",
    "# Lo ajustamos\n",
    "modelo_4.fit(X)\n",
    "\n",
    "# Asignamos una agrupación a cada grupo\n",
    "yhat = modelo_4.predict(X)\n",
    "\n",
    "# Obtenemos las agrupaciones unicas\n",
    "clusters = unique(yhat)\n",
    "\n",
    "# Realizamos el gráfico\n",
    "for cluster in clusters:\n",
    " row_ix = where(yhat == cluster)\n",
    " pyplot.scatter(X[row_ix, 0], X[row_ix, 1])\n",
    "pyplot.show()"
   ]
  },
  {
   "cell_type": "markdown",
   "id": "290aedbe",
   "metadata": {},
   "source": [
    "## Evaluación de agrupaciones"
   ]
  },
  {
   "cell_type": "markdown",
   "id": "44a0ead9",
   "metadata": {},
   "source": [
    "### Método de la silueta "
   ]
  },
  {
   "cell_type": "code",
   "execution_count": null,
   "id": "bad0fe87",
   "metadata": {},
   "outputs": [],
   "source": [
    "# Importamos el paquete\n",
    "from sklearn.metrics import silhouette_score\n",
    "\n",
    "#Creamos la evaluación\n",
    "sil_avg = []\n",
    "range_n_clusters = [2, 3, 4, 5, 6, 7, 8]\n",
    "\n",
    "#Se define el método de evaluación\n",
    "for k in range_n_clusters:\n",
    " kmeans = KMeans(n_clusters = k, random_state = 42).fit(X)\n",
    " labels = kmeans.labels_\n",
    " sil_avg.append(silhouette_score(X, labels, metric = 'euclidean'))"
   ]
  },
  {
   "cell_type": "code",
   "execution_count": null,
   "id": "b7af24b9",
   "metadata": {},
   "outputs": [],
   "source": [
    "#Importamos un paquete\n",
    "import matplotlib.pyplot as plt\n",
    "\n",
    "#Graficamos el método de silueta\n",
    "plt.plot(range_n_clusters,sil_avg,'bx-')\n",
    "plt.xlabel('Valores de k')\n",
    "plt.ylabel('Puntaje de silueta')\n",
    "plt.title('Análisis de silueta para encontrar el óptimo')\n",
    "plt.show()"
   ]
  },
  {
   "cell_type": "markdown",
   "id": "40a56165",
   "metadata": {},
   "source": [
    "### Método del codo (Elbow Method) "
   ]
  },
  {
   "cell_type": "code",
   "execution_count": null,
   "id": "00c73f3e",
   "metadata": {},
   "outputs": [],
   "source": [
    "#Importamos diferentes paquetes\n",
    "from sklearn import metrics\n",
    "from scipy.spatial.distance import cdist\n",
    "import numpy as np\n",
    "\n",
    "# Ajustamos el modelo\n",
    "distortions = []\n",
    "K = range(1,8)\n",
    "for k in K:\n",
    "   kmeanModel = KMeans(n_clusters=k, random_state = 42).fit(X)\n",
    "   kmeanModel.fit(X)\n",
    "   distortions.append(sum(np.min(cdist(X, kmeanModel.cluster_centers_, 'euclidean'), axis=1)) / X.shape[0])"
   ]
  },
  {
   "cell_type": "code",
   "execution_count": null,
   "id": "980afe76",
   "metadata": {},
   "outputs": [],
   "source": [
    "# Graficamos el codo\n",
    "plt.plot(K, distortions, 'bx-')\n",
    "plt.xlabel('k')\n",
    "plt.ylabel('Distorción')\n",
    "plt.title('El método del codo para obtener el óptimo valor de k')\n",
    "plt.show()"
   ]
  },
  {
   "cell_type": "markdown",
   "id": "a8817c38",
   "metadata": {},
   "source": [
    "# Jerárquico"
   ]
  },
  {
   "cell_type": "code",
   "execution_count": null,
   "id": "c00e5f03",
   "metadata": {},
   "outputs": [],
   "source": [
    "#Creamos una base de datos ficticia\n",
    "x = [4, 5, 10, 4, 3, 11, 14 , 6, 10, 12, 7, 10, 11, 12, 6]\n",
    "y = [21, 19, 24, 17, 16, 25, 24, 22, 21, 21, 20, 23, 18, 23, 21]\n",
    "\n",
    "#La graficamos\n",
    "plt.scatter(x, y)\n",
    "plt.show()"
   ]
  },
  {
   "cell_type": "code",
   "execution_count": null,
   "id": "10d30300",
   "metadata": {},
   "outputs": [],
   "source": [
    "#Importamos el paquete\n",
    "from scipy.cluster.hierarchy import dendrogram, linkage\n",
    "\n",
    "#Unimos los datos\n",
    "data = list(zip(x, y))\n",
    "\n",
    "#Realizamos el modelo\n",
    "linkage_data = linkage(data, method='ward', metric='euclidean')\n",
    "dendrogram(linkage_data)\n",
    "\n",
    "#Lo mostramos\n",
    "plt.show()"
   ]
  },
  {
   "cell_type": "code",
   "execution_count": null,
   "id": "7bb830fd",
   "metadata": {},
   "outputs": [],
   "source": [
    "#Unimos los datos\n",
    "data = list(zip(x, y))\n",
    "\n",
    "#Realizamos el modelo\n",
    "linkage_data_1 = linkage(X, method='ward', metric='euclidean')\n",
    "dendrogram(linkage_data_1)\n",
    "\n",
    "#Lo mostramos\n",
    "plt.show()"
   ]
  },
  {
   "cell_type": "markdown",
   "id": "fc80c548",
   "metadata": {},
   "source": [
    "## Base de datos"
   ]
  },
  {
   "cell_type": "code",
   "execution_count": null,
   "id": "a501893f",
   "metadata": {},
   "outputs": [],
   "source": [
    "#Abrimos Pandas\n",
    "import pandas as pd\n",
    "\n",
    "#Importamos la base\n",
    "nombres = ['cod_id', 'sexo', 'edad', 'ingreso', 'puntaje']\n",
    "datos = pd.read_csv(\"C:\\\\Users\\\\Bryan\\\\OneDrive\\\\Documents\\\\Trabajo\\\\UPB\\\\Postgrado\\\\Analisis empresarial de datos\\\\Base de datos\\\\Mall_Customers.csv\",\n",
    "                   header = 0, names = nombres)\n",
    "datos.head()"
   ]
  },
  {
   "cell_type": "code",
   "execution_count": null,
   "id": "20ae80b2",
   "metadata": {},
   "outputs": [],
   "source": [
    "#Graficamos\n",
    "plt.scatter(datos['ingreso'], datos['puntaje'])\n",
    "plt.xlabel('Ingreso anual en miles de USD')\n",
    "plt.ylabel('Puntaje de gasto')\n",
    "plt.show()"
   ]
  },
  {
   "cell_type": "code",
   "execution_count": null,
   "id": "b34af573",
   "metadata": {},
   "outputs": [],
   "source": [
    "# Definimos el modelo con 2 agrupaciones\n",
    "modelo = KMeans(n_clusters=2, random_state = 42)\n",
    "\n",
    "#Creamos las variables para predecir\n",
    "X = datos[['ingreso','puntaje']]\n",
    "\n",
    "# Ajustamos el modelo\n",
    "modelo.fit(X)\n",
    "\n",
    "#Importamos otra libreria para graficar\n",
    "import seaborn as sns\n",
    "\n",
    "#Graficamos\n",
    "cate_modelo = modelo.labels_\n",
    "datos['Grupo'] = cate_modelo\n",
    "sns.scatterplot(datos['ingreso'],\n",
    "                datos['puntaje'],\n",
    "                hue = datos['Grupo'],\n",
    "                palette='Set1')\n"
   ]
  },
  {
   "cell_type": "markdown",
   "id": "4dfe0ab5",
   "metadata": {},
   "source": [
    "# Tarea"
   ]
  },
  {
   "cell_type": "markdown",
   "id": "f9a417b5",
   "metadata": {},
   "source": [
    "### Usen la base de datos llamada 'datos' para los siguientes ejercicios "
   ]
  },
  {
   "cell_type": "code",
   "execution_count": null,
   "id": "722615f5",
   "metadata": {},
   "outputs": [],
   "source": [
    "#1.a) Realicemos el análisis con 3 agrupaciones\n",
    "\n",
    "# Definimos el modelo con 3 agrupaciones\n",
    "modelo = KMeans(XXXXX=3, random_state = 42)\n",
    "\n",
    "# Ajustamos el modelo\n",
    "modelo.fit(X)\n",
    "\n",
    "#Graficamos\n",
    "cate_modelo = modelo.labels_\n",
    "datos['Grupo'] = cate_modelo\n",
    "sns.scatterplot(XXXXX['ingreso'],\n",
    "                XXXXX['puntaje'],\n",
    "                XXXXX = datos['Grupo'],\n",
    "                palette='Set1')"
   ]
  },
  {
   "cell_type": "code",
   "execution_count": null,
   "id": "db63d3a2",
   "metadata": {},
   "outputs": [],
   "source": [
    "#1.b) Encontremos el óptimo bajo el método de la silueta\n",
    "\n",
    "#Creamos la evaluación\n",
    "sil_avg = []\n",
    "range_n_clusters = [2, 3, 4, 5, 6, 7, 8, 9, 10]\n",
    "\n",
    "#Se define el método de evaluación\n",
    "for k in range_n_clusters:\n",
    " kmeans = KMeans(n_clusters = k, XXXXX = 42).fit(X)\n",
    " labels = kmeans.labels_\n",
    " sil_avg.append(silhouette_score(X, labels, XXXXX = 'euclidean'))\n",
    "\n",
    "#Graficamos el método de silueta\n",
    "plt.plot(range_n_clusters,sil_avg,'bx-')\n",
    "plt.xlabel('Valores de k')\n",
    "plt.ylabel('Puntaje de silueta')\n",
    "plt.title('Análisis de silueta para encontrar el óptimo')\n",
    "plt.show()"
   ]
  },
  {
   "cell_type": "code",
   "execution_count": null,
   "id": "888103e7",
   "metadata": {},
   "outputs": [],
   "source": [
    "#1.c) Encontremos el óptimo bajo el método del codo\n",
    "\n",
    "# Ajustamos el modelo\n",
    "distortions = []\n",
    "K = range(1,10)\n",
    "for k in K:\n",
    "   kmeanModel = KMeans(XXXXX=k, XXXXX = 42).fit(X)\n",
    "   kmeanModel.fit(X)\n",
    "   distortions.append(sum(np.min(cdist(X, kmeanModel.cluster_centers_, 'euclidean'), axis=1)) / X.shape[0])\n",
    "\n",
    "# Graficamos el codo\n",
    "plt.plot(K, distortions, 'bx-')\n",
    "plt.xlabel('k')\n",
    "plt.ylabel('Distorción')\n",
    "plt.title('El método del codo para obtener el óptimo valor de k')\n",
    "plt.show()"
   ]
  },
  {
   "cell_type": "code",
   "execution_count": null,
   "id": "995bb00b",
   "metadata": {},
   "outputs": [],
   "source": [
    "#1.d) Realicemos el análisis con 5 agrupaciones\n",
    "\n",
    "# Definimos el modelo con 5 agrupaciones\n",
    "modelo = KMeans(XXXXX=5, XXXXX = 42)\n",
    "\n",
    "# Ajustamos el modelo\n",
    "modelo.fit(X)\n",
    "\n",
    "#Graficamos\n",
    "cate_modelo = modelo.labels_\n",
    "datos['Grupo'] = cate_modelo\n",
    "sns.scatterplot(XXXXX['ingreso'],\n",
    "                XXXXX['puntaje'],\n",
    "                XXXXX = datos['Grupo'],\n",
    "                palette='Set1')"
   ]
  },
  {
   "cell_type": "code",
   "execution_count": null,
   "id": "d15d7136",
   "metadata": {},
   "outputs": [],
   "source": [
    "#1.e) Realicemos el análisis de manera jerárquica\n",
    "\n",
    "#Realizamos el modelo\n",
    "linkage_data_2 = linkage(X, XXXXX='ward', XXXXX='euclidean')\n",
    "dendrogram(linkage_data_2)\n",
    "\n",
    "#Lo mostramos\n",
    "plt.show()"
   ]
  },
  {
   "cell_type": "code",
   "execution_count": null,
   "id": "afca09f9",
   "metadata": {},
   "outputs": [],
   "source": []
  }
 ],
 "metadata": {
  "kernelspec": {
   "display_name": "Python 3 (ipykernel)",
   "language": "python",
   "name": "python3"
  },
  "language_info": {
   "codemirror_mode": {
    "name": "ipython",
    "version": 3
   },
   "file_extension": ".py",
   "mimetype": "text/x-python",
   "name": "python",
   "nbconvert_exporter": "python",
   "pygments_lexer": "ipython3",
   "version": "3.9.7"
  }
 },
 "nbformat": 4,
 "nbformat_minor": 5
}
