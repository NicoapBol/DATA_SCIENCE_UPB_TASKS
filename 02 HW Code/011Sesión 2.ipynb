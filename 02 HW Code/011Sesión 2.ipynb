{
 "cells": [
  {
   "cell_type": "markdown",
   "id": "9200f08b",
   "metadata": {},
   "source": [
    "# Sesión 2 - Aplicación de MCO"
   ]
  },
  {
   "cell_type": "markdown",
   "id": "a440437b",
   "metadata": {},
   "source": [
    "## Regresión simple "
   ]
  },
  {
   "cell_type": "code",
   "execution_count": 20,
   "id": "d57ea6ca",
   "metadata": {},
   "outputs": [
    {
     "ename": "SyntaxError",
     "evalue": "invalid syntax (2706408410.py, line 3)",
     "output_type": "error",
     "traceback": [
      "\u001b[1;36m  Cell \u001b[1;32mIn[20], line 3\u001b[1;36m\u001b[0m\n\u001b[1;33m    pip install seaborn\u001b[0m\n\u001b[1;37m        ^\u001b[0m\n\u001b[1;31mSyntaxError\u001b[0m\u001b[1;31m:\u001b[0m invalid syntax\n"
     ]
    }
   ],
   "source": [
    "#Instalacion del paquete\n",
    "#pip install statsmodels"
   ]
  },
  {
   "cell_type": "code",
   "execution_count": 9,
   "id": "9c434ead",
   "metadata": {},
   "outputs": [],
   "source": [
    "#Importacion del paquete\n",
    "import statsmodels.api as sm"
   ]
  },
  {
   "cell_type": "code",
   "execution_count": 10,
   "id": "81d6c514",
   "metadata": {},
   "outputs": [
    {
     "name": "stdout",
     "output_type": "stream",
     "text": [
      "    horas  puntaje\n",
      "0       0       90\n",
      "1       0       50\n",
      "2       1       60\n",
      "3       1       64\n",
      "4       2       66\n",
      "5       4       76\n",
      "6       5       73\n",
      "7       5       74\n",
      "8       6       81\n",
      "9       6       83\n",
      "10      7       82\n",
      "11      8       80\n",
      "12     10       88\n",
      "13     11       84\n",
      "14     11       82\n",
      "15     12       91\n",
      "16     12       93\n",
      "17     14       89\n",
      "18     14      100\n",
      "19     14       80\n"
     ]
    }
   ],
   "source": [
    "#Importamos Pandas\n",
    "import pandas as pd\n",
    "\n",
    "#Creamos el DataFrame\n",
    "ejemplo = pd.DataFrame({'horas': [0, 0, 1, 1, 2, 4, 5, 5, 6, 6, 7, 8, 10, 11, 11, 12, 12, 14, 14, 14],\n",
    "                   'puntaje': [90, 50, 60, 64, 66, 76, 73, 74, 81, 83, 82, 80, 88, 84, 82, 91, 93, 89, 100, 80]})\n",
    "\n",
    "#view DataFrame\n",
    "print(ejemplo)"
   ]
  },
  {
   "cell_type": "code",
   "execution_count": 11,
   "id": "8f3dc227",
   "metadata": {},
   "outputs": [
    {
     "data": {
      "text/html": [
       "<div>\n",
       "<style scoped>\n",
       "    .dataframe tbody tr th:only-of-type {\n",
       "        vertical-align: middle;\n",
       "    }\n",
       "\n",
       "    .dataframe tbody tr th {\n",
       "        vertical-align: top;\n",
       "    }\n",
       "\n",
       "    .dataframe thead th {\n",
       "        text-align: right;\n",
       "    }\n",
       "</style>\n",
       "<table border=\"1\" class=\"dataframe\">\n",
       "  <thead>\n",
       "    <tr style=\"text-align: right;\">\n",
       "      <th></th>\n",
       "      <th>horas</th>\n",
       "      <th>puntaje</th>\n",
       "    </tr>\n",
       "  </thead>\n",
       "  <tbody>\n",
       "    <tr>\n",
       "      <th>horas</th>\n",
       "      <td>1.000000</td>\n",
       "      <td>0.738483</td>\n",
       "    </tr>\n",
       "    <tr>\n",
       "      <th>puntaje</th>\n",
       "      <td>0.738483</td>\n",
       "      <td>1.000000</td>\n",
       "    </tr>\n",
       "  </tbody>\n",
       "</table>\n",
       "</div>"
      ],
      "text/plain": [
       "            horas   puntaje\n",
       "horas    1.000000  0.738483\n",
       "puntaje  0.738483  1.000000"
      ]
     },
     "execution_count": 11,
     "metadata": {},
     "output_type": "execute_result"
    }
   ],
   "source": [
    "#Correlacion entre las variables\n",
    "correlacion=ejemplo.corr()\n",
    "correlacion"
   ]
  },
  {
   "cell_type": "code",
   "execution_count": 16,
   "id": "08df635d",
   "metadata": {},
   "outputs": [
    {
     "name": "stdout",
     "output_type": "stream",
     "text": [
      "                            OLS Regression Results                            \n",
      "==============================================================================\n",
      "Dep. Variable:                puntaje   R-squared:                       0.545\n",
      "Model:                            OLS   Adj. R-squared:                  0.520\n",
      "Method:                 Least Squares   F-statistic:                     21.59\n",
      "Date:                Fri, 18 Aug 2023   Prob (F-statistic):           0.000201\n",
      "Time:                        12:36:56   Log-Likelihood:                -69.956\n",
      "No. Observations:                  20   AIC:                             143.9\n",
      "Df Residuals:                      18   BIC:                             145.9\n",
      "Df Model:                           1                                         \n",
      "Covariance Type:            nonrobust                                         \n",
      "==============================================================================\n",
      "                 coef    std err          t      P>|t|      [0.025      0.975]\n",
      "------------------------------------------------------------------------------\n",
      "const         66.1376      3.402     19.439      0.000      58.990      73.285\n",
      "horas          1.8409      0.396      4.647      0.000       1.009       2.673\n",
      "==============================================================================\n",
      "Omnibus:                        7.857   Durbin-Watson:                   1.949\n",
      "Prob(Omnibus):                  0.020   Jarque-Bera (JB):                5.977\n",
      "Skew:                           0.775   Prob(JB):                       0.0504\n",
      "Kurtosis:                       5.184   Cond. No.                         15.7\n",
      "==============================================================================\n",
      "\n",
      "Notes:\n",
      "[1] Standard Errors assume that the covariance matrix of the errors is correctly specified.\n"
     ]
    }
   ],
   "source": [
    "#Definir la variable dependiente y la independiente\n",
    "y = ejemplo['puntaje']\n",
    "x = ejemplo['horas']\n",
    "\n",
    "#Añadimos una constante al modelo\n",
    "x = sm.add_constant(x)\n",
    "\n",
    "#print(x)\n",
    "\n",
    "#Ajustamos el modelo de MCO\n",
    "modelo = sm.OLS(y, x).fit()\n",
    "\n",
    "#print(modelo)\n",
    "\n",
    "#Observamos el resultado\n",
    "print(modelo.summary())"
   ]
  },
  {
   "cell_type": "code",
   "execution_count": 17,
   "id": "dcbcff5c",
   "metadata": {},
   "outputs": [
    {
     "data": {
      "text/plain": [
       "Text(0, 0.5, 'Puntaje del examen')"
      ]
     },
     "execution_count": 17,
     "metadata": {},
     "output_type": "execute_result"
    },
    {
     "data": {
      "image/png": "[encoded data removed]",
      "text/plain": [
       "<Figure size 640x480 with 1 Axes>"
      ]
     },
     "metadata": {},
     "output_type": "display_data"
    }
   ],
   "source": [
    "#Importamos la libreria para graficar\n",
    "import matplotlib.pyplot as plt\n",
    "import numpy as np\n",
    "\n",
    "#Encontramos la mejor linea\n",
    "a, b = np.polyfit(ejemplo['horas'], ejemplo['puntaje'], 1)\n",
    "\n",
    "#Añadimos puntos al gráfico\n",
    "plt.scatter(ejemplo['horas'], ejemplo['puntaje'], color='blue')\n",
    "\n",
    "#Añadimos la linea del modelo\n",
    "plt.plot(ejemplo['horas'], a*ejemplo['horas']+b)\n",
    "\n",
    "#Añadimos los nombres de los ejes\n",
    "plt.xlabel('Horas Estudiadas')\n",
    "plt.ylabel('Puntaje del examen')"
   ]
  },
  {
   "cell_type": "code",
   "execution_count": 21,
   "id": "6a055c7c",
   "metadata": {},
   "outputs": [
    {
     "data": {
      "text/plain": [
       "<Axes: xlabel='horas', ylabel='puntaje'>"
      ]
     },
     "execution_count": 21,
     "metadata": {},
     "output_type": "execute_result"
    },
    {
     "data": {
      "image/png": "[encoded data removed]",
      "text/plain": [
       "<Figure size 640x480 with 1 Axes>"
      ]
     },
     "metadata": {},
     "output_type": "display_data"
    }
   ],
   "source": [
    "#Otra alternativa para graficar\n",
    "\n",
    "#Importamos otra libreria\n",
    "import seaborn as sns\n",
    "\n",
    "#Graficamos\n",
    "sns.regplot(x='horas', y='puntaje', data=ejemplo, ci=False, line_kws={'color': 'red'})"
   ]
  },
  {
   "cell_type": "markdown",
   "id": "50d48c3f",
   "metadata": {},
   "source": [
    "## Regresión múltiple "
   ]
  },
  {
   "cell_type": "code",
   "execution_count": 22,
   "id": "7e4b7a07",
   "metadata": {},
   "outputs": [],
   "source": [
    "#Importamos una base de datos del internet\n",
    "url = 'https://archive.ics.uci.edu/ml/machine-learning-databases/auto-mpg/auto-mpg.data'\n",
    "\n",
    "#Creamos los nombres\n",
    "nombres_var = ['mpg', 'cilindros', 'cilindrada', 'caballos_fuerza', 'peso', 'aceleracion', 'modelo_anho', 'origen', 'nombre']\n",
    "\n",
    "#Le ponemos nombres a las variables\n",
    "ejemplo_2 = pd.read_csv(url, names=nombres_var, delim_whitespace=True)"
   ]
  },
  {
   "cell_type": "code",
   "execution_count": 24,
   "id": "841feaab",
   "metadata": {},
   "outputs": [
    {
     "data": {
      "text/html": [
       "<div>\n",
       "<style scoped>\n",
       "    .dataframe tbody tr th:only-of-type {\n",
       "        vertical-align: middle;\n",
       "    }\n",
       "\n",
       "    .dataframe tbody tr th {\n",
       "        vertical-align: top;\n",
       "    }\n",
       "\n",
       "    .dataframe thead th {\n",
       "        text-align: right;\n",
       "    }\n",
       "</style>\n",
       "<table border=\"1\" class=\"dataframe\">\n",
       "  <thead>\n",
       "    <tr style=\"text-align: right;\">\n",
       "      <th></th>\n",
       "      <th>mpg</th>\n",
       "      <th>cilindros</th>\n",
       "      <th>cilindrada</th>\n",
       "      <th>caballos_fuerza</th>\n",
       "      <th>peso</th>\n",
       "      <th>aceleracion</th>\n",
       "      <th>modelo_anho</th>\n",
       "      <th>origen</th>\n",
       "      <th>nombre</th>\n",
       "    </tr>\n",
       "  </thead>\n",
       "  <tbody>\n",
       "    <tr>\n",
       "      <th>0</th>\n",
       "      <td>18.0</td>\n",
       "      <td>8</td>\n",
       "      <td>307.0</td>\n",
       "      <td>130.0</td>\n",
       "      <td>3504.0</td>\n",
       "      <td>12.0</td>\n",
       "      <td>70</td>\n",
       "      <td>1</td>\n",
       "      <td>chevrolet chevelle malibu</td>\n",
       "    </tr>\n",
       "    <tr>\n",
       "      <th>1</th>\n",
       "      <td>15.0</td>\n",
       "      <td>8</td>\n",
       "      <td>350.0</td>\n",
       "      <td>165.0</td>\n",
       "      <td>3693.0</td>\n",
       "      <td>11.5</td>\n",
       "      <td>70</td>\n",
       "      <td>1</td>\n",
       "      <td>buick skylark 320</td>\n",
       "    </tr>\n",
       "    <tr>\n",
       "      <th>2</th>\n",
       "      <td>18.0</td>\n",
       "      <td>8</td>\n",
       "      <td>318.0</td>\n",
       "      <td>150.0</td>\n",
       "      <td>3436.0</td>\n",
       "      <td>11.0</td>\n",
       "      <td>70</td>\n",
       "      <td>1</td>\n",
       "      <td>plymouth satellite</td>\n",
       "    </tr>\n",
       "    <tr>\n",
       "      <th>3</th>\n",
       "      <td>16.0</td>\n",
       "      <td>8</td>\n",
       "      <td>304.0</td>\n",
       "      <td>150.0</td>\n",
       "      <td>3433.0</td>\n",
       "      <td>12.0</td>\n",
       "      <td>70</td>\n",
       "      <td>1</td>\n",
       "      <td>amc rebel sst</td>\n",
       "    </tr>\n",
       "    <tr>\n",
       "      <th>4</th>\n",
       "      <td>17.0</td>\n",
       "      <td>8</td>\n",
       "      <td>302.0</td>\n",
       "      <td>140.0</td>\n",
       "      <td>3449.0</td>\n",
       "      <td>10.5</td>\n",
       "      <td>70</td>\n",
       "      <td>1</td>\n",
       "      <td>ford torino</td>\n",
       "    </tr>\n",
       "    <tr>\n",
       "      <th>5</th>\n",
       "      <td>15.0</td>\n",
       "      <td>8</td>\n",
       "      <td>429.0</td>\n",
       "      <td>198.0</td>\n",
       "      <td>4341.0</td>\n",
       "      <td>10.0</td>\n",
       "      <td>70</td>\n",
       "      <td>1</td>\n",
       "      <td>ford galaxie 500</td>\n",
       "    </tr>\n",
       "    <tr>\n",
       "      <th>6</th>\n",
       "      <td>14.0</td>\n",
       "      <td>8</td>\n",
       "      <td>454.0</td>\n",
       "      <td>220.0</td>\n",
       "      <td>4354.0</td>\n",
       "      <td>9.0</td>\n",
       "      <td>70</td>\n",
       "      <td>1</td>\n",
       "      <td>chevrolet impala</td>\n",
       "    </tr>\n",
       "    <tr>\n",
       "      <th>7</th>\n",
       "      <td>14.0</td>\n",
       "      <td>8</td>\n",
       "      <td>440.0</td>\n",
       "      <td>215.0</td>\n",
       "      <td>4312.0</td>\n",
       "      <td>8.5</td>\n",
       "      <td>70</td>\n",
       "      <td>1</td>\n",
       "      <td>plymouth fury iii</td>\n",
       "    </tr>\n",
       "    <tr>\n",
       "      <th>8</th>\n",
       "      <td>14.0</td>\n",
       "      <td>8</td>\n",
       "      <td>455.0</td>\n",
       "      <td>225.0</td>\n",
       "      <td>4425.0</td>\n",
       "      <td>10.0</td>\n",
       "      <td>70</td>\n",
       "      <td>1</td>\n",
       "      <td>pontiac catalina</td>\n",
       "    </tr>\n",
       "    <tr>\n",
       "      <th>9</th>\n",
       "      <td>15.0</td>\n",
       "      <td>8</td>\n",
       "      <td>390.0</td>\n",
       "      <td>190.0</td>\n",
       "      <td>3850.0</td>\n",
       "      <td>8.5</td>\n",
       "      <td>70</td>\n",
       "      <td>1</td>\n",
       "      <td>amc ambassador dpl</td>\n",
       "    </tr>\n",
       "  </tbody>\n",
       "</table>\n",
       "</div>"
      ],
      "text/plain": [
       "    mpg  cilindros  cilindrada caballos_fuerza    peso  aceleracion  \\\n",
       "0  18.0          8       307.0           130.0  3504.0         12.0   \n",
       "1  15.0          8       350.0           165.0  3693.0         11.5   \n",
       "2  18.0          8       318.0           150.0  3436.0         11.0   \n",
       "3  16.0          8       304.0           150.0  3433.0         12.0   \n",
       "4  17.0          8       302.0           140.0  3449.0         10.5   \n",
       "5  15.0          8       429.0           198.0  4341.0         10.0   \n",
       "6  14.0          8       454.0           220.0  4354.0          9.0   \n",
       "7  14.0          8       440.0           215.0  4312.0          8.5   \n",
       "8  14.0          8       455.0           225.0  4425.0         10.0   \n",
       "9  15.0          8       390.0           190.0  3850.0          8.5   \n",
       "\n",
       "   modelo_anho  origen                     nombre  \n",
       "0           70       1  chevrolet chevelle malibu  \n",
       "1           70       1          buick skylark 320  \n",
       "2           70       1         plymouth satellite  \n",
       "3           70       1              amc rebel sst  \n",
       "4           70       1                ford torino  \n",
       "5           70       1           ford galaxie 500  \n",
       "6           70       1           chevrolet impala  \n",
       "7           70       1          plymouth fury iii  \n",
       "8           70       1           pontiac catalina  \n",
       "9           70       1         amc ambassador dpl  "
      ]
     },
     "execution_count": 24,
     "metadata": {},
     "output_type": "execute_result"
    }
   ],
   "source": [
    "#Observamos la base de datos\n",
    "ejemplo_2.head(10)"
   ]
  },
  {
   "cell_type": "code",
   "execution_count": 25,
   "id": "4d5b5ac8",
   "metadata": {},
   "outputs": [
    {
     "data": {
      "text/plain": [
       "mpg                0\n",
       "cilindros          0\n",
       "cilindrada         0\n",
       "caballos_fuerza    0\n",
       "peso               0\n",
       "aceleracion        0\n",
       "modelo_anho        0\n",
       "origen             0\n",
       "nombre             0\n",
       "dtype: int64"
      ]
     },
     "execution_count": 25,
     "metadata": {},
     "output_type": "execute_result"
    }
   ],
   "source": [
    "#Revisamos si existen valores nulos\n",
    "ejemplo_2.isnull().sum()"
   ]
  },
  {
   "cell_type": "code",
   "execution_count": 26,
   "id": "8359ce2f",
   "metadata": {},
   "outputs": [],
   "source": [
    "#Eliminamos aquellas variables que no nos sirven para el análisis\n",
    "ejemplo_2 = ejemplo_2.drop('nombre', axis=1)"
   ]
  },
  {
   "cell_type": "code",
   "execution_count": 27,
   "id": "92da8c92",
   "metadata": {},
   "outputs": [
    {
     "data": {
      "text/plain": [
       "mpg                float64\n",
       "cilindros            int64\n",
       "cilindrada         float64\n",
       "caballos_fuerza     object\n",
       "peso               float64\n",
       "aceleracion        float64\n",
       "modelo_anho          int64\n",
       "origen               int64\n",
       "dtype: object"
      ]
     },
     "execution_count": 27,
     "metadata": {},
     "output_type": "execute_result"
    }
   ],
   "source": [
    "#Analizamos el tipo de variables que vamos a usar\n",
    "ejemplo_2.dtypes"
   ]
  },
  {
   "cell_type": "code",
   "execution_count": 28,
   "id": "7446ee7b",
   "metadata": {},
   "outputs": [],
   "source": [
    "#Eliminamos los valores de caballos de fuerza con ?\n",
    "ejemplo_2 = ejemplo_2[ejemplo_2.caballos_fuerza != '?']"
   ]
  },
  {
   "cell_type": "code",
   "execution_count": 29,
   "id": "2363ac3f",
   "metadata": {},
   "outputs": [],
   "source": [
    "#Convertimos la variable de caballos de fuerza a un float64\n",
    "ejemplo_2['caballos_fuerza'] = ejemplo_2['caballos_fuerza'].astype('str').astype('float')"
   ]
  },
  {
   "cell_type": "code",
   "execution_count": 30,
   "id": "5b97fa14",
   "metadata": {},
   "outputs": [
    {
     "data": {
      "text/html": [
       "<div>\n",
       "<style scoped>\n",
       "    .dataframe tbody tr th:only-of-type {\n",
       "        vertical-align: middle;\n",
       "    }\n",
       "\n",
       "    .dataframe tbody tr th {\n",
       "        vertical-align: top;\n",
       "    }\n",
       "\n",
       "    .dataframe thead th {\n",
       "        text-align: right;\n",
       "    }\n",
       "</style>\n",
       "<table border=\"1\" class=\"dataframe\">\n",
       "  <thead>\n",
       "    <tr style=\"text-align: right;\">\n",
       "      <th></th>\n",
       "      <th>mpg</th>\n",
       "      <th>cilindros</th>\n",
       "      <th>cilindrada</th>\n",
       "      <th>caballos_fuerza</th>\n",
       "      <th>peso</th>\n",
       "      <th>aceleracion</th>\n",
       "      <th>modelo_anho</th>\n",
       "      <th>origen</th>\n",
       "    </tr>\n",
       "  </thead>\n",
       "  <tbody>\n",
       "    <tr>\n",
       "      <th>mpg</th>\n",
       "      <td>1.000000</td>\n",
       "      <td>-0.777618</td>\n",
       "      <td>-0.805127</td>\n",
       "      <td>-0.778427</td>\n",
       "      <td>-0.832244</td>\n",
       "      <td>0.423329</td>\n",
       "      <td>0.580541</td>\n",
       "      <td>0.565209</td>\n",
       "    </tr>\n",
       "    <tr>\n",
       "      <th>cilindros</th>\n",
       "      <td>-0.777618</td>\n",
       "      <td>1.000000</td>\n",
       "      <td>0.950823</td>\n",
       "      <td>0.842983</td>\n",
       "      <td>0.897527</td>\n",
       "      <td>-0.504683</td>\n",
       "      <td>-0.345647</td>\n",
       "      <td>-0.568932</td>\n",
       "    </tr>\n",
       "    <tr>\n",
       "      <th>cilindrada</th>\n",
       "      <td>-0.805127</td>\n",
       "      <td>0.950823</td>\n",
       "      <td>1.000000</td>\n",
       "      <td>0.897257</td>\n",
       "      <td>0.932994</td>\n",
       "      <td>-0.543800</td>\n",
       "      <td>-0.369855</td>\n",
       "      <td>-0.614535</td>\n",
       "    </tr>\n",
       "    <tr>\n",
       "      <th>caballos_fuerza</th>\n",
       "      <td>-0.778427</td>\n",
       "      <td>0.842983</td>\n",
       "      <td>0.897257</td>\n",
       "      <td>1.000000</td>\n",
       "      <td>0.864538</td>\n",
       "      <td>-0.689196</td>\n",
       "      <td>-0.416361</td>\n",
       "      <td>-0.455171</td>\n",
       "    </tr>\n",
       "    <tr>\n",
       "      <th>peso</th>\n",
       "      <td>-0.832244</td>\n",
       "      <td>0.897527</td>\n",
       "      <td>0.932994</td>\n",
       "      <td>0.864538</td>\n",
       "      <td>1.000000</td>\n",
       "      <td>-0.416839</td>\n",
       "      <td>-0.309120</td>\n",
       "      <td>-0.585005</td>\n",
       "    </tr>\n",
       "    <tr>\n",
       "      <th>aceleracion</th>\n",
       "      <td>0.423329</td>\n",
       "      <td>-0.504683</td>\n",
       "      <td>-0.543800</td>\n",
       "      <td>-0.689196</td>\n",
       "      <td>-0.416839</td>\n",
       "      <td>1.000000</td>\n",
       "      <td>0.290316</td>\n",
       "      <td>0.212746</td>\n",
       "    </tr>\n",
       "    <tr>\n",
       "      <th>modelo_anho</th>\n",
       "      <td>0.580541</td>\n",
       "      <td>-0.345647</td>\n",
       "      <td>-0.369855</td>\n",
       "      <td>-0.416361</td>\n",
       "      <td>-0.309120</td>\n",
       "      <td>0.290316</td>\n",
       "      <td>1.000000</td>\n",
       "      <td>0.181528</td>\n",
       "    </tr>\n",
       "    <tr>\n",
       "      <th>origen</th>\n",
       "      <td>0.565209</td>\n",
       "      <td>-0.568932</td>\n",
       "      <td>-0.614535</td>\n",
       "      <td>-0.455171</td>\n",
       "      <td>-0.585005</td>\n",
       "      <td>0.212746</td>\n",
       "      <td>0.181528</td>\n",
       "      <td>1.000000</td>\n",
       "    </tr>\n",
       "  </tbody>\n",
       "</table>\n",
       "</div>"
      ],
      "text/plain": [
       "                      mpg  cilindros  cilindrada  caballos_fuerza      peso  \\\n",
       "mpg              1.000000  -0.777618   -0.805127        -0.778427 -0.832244   \n",
       "cilindros       -0.777618   1.000000    0.950823         0.842983  0.897527   \n",
       "cilindrada      -0.805127   0.950823    1.000000         0.897257  0.932994   \n",
       "caballos_fuerza -0.778427   0.842983    0.897257         1.000000  0.864538   \n",
       "peso            -0.832244   0.897527    0.932994         0.864538  1.000000   \n",
       "aceleracion      0.423329  -0.504683   -0.543800        -0.689196 -0.416839   \n",
       "modelo_anho      0.580541  -0.345647   -0.369855        -0.416361 -0.309120   \n",
       "origen           0.565209  -0.568932   -0.614535        -0.455171 -0.585005   \n",
       "\n",
       "                 aceleracion  modelo_anho    origen  \n",
       "mpg                 0.423329     0.580541  0.565209  \n",
       "cilindros          -0.504683    -0.345647 -0.568932  \n",
       "cilindrada         -0.543800    -0.369855 -0.614535  \n",
       "caballos_fuerza    -0.689196    -0.416361 -0.455171  \n",
       "peso               -0.416839    -0.309120 -0.585005  \n",
       "aceleracion         1.000000     0.290316  0.212746  \n",
       "modelo_anho         0.290316     1.000000  0.181528  \n",
       "origen              0.212746     0.181528  1.000000  "
      ]
     },
     "execution_count": 30,
     "metadata": {},
     "output_type": "execute_result"
    }
   ],
   "source": [
    "#Correlacion entre las variables\n",
    "correlacion=ejemplo_2.corr()\n",
    "correlacion"
   ]
  },
  {
   "cell_type": "code",
   "execution_count": 31,
   "id": "17547880",
   "metadata": {},
   "outputs": [
    {
     "data": {
      "text/plain": [
       "<matplotlib.colorbar.Colorbar at 0x22db345b4f0>"
      ]
     },
     "execution_count": 31,
     "metadata": {},
     "output_type": "execute_result"
    },
    {
     "data": {
      "image/png": "[encoded data removed]",
      "text/plain": [
       "<Figure size 800x800 with 2 Axes>"
      ]
     },
     "metadata": {},
     "output_type": "display_data"
    }
   ],
   "source": [
    "#Graficamos la correlacion\n",
    "fig, ax = plt.subplots(figsize=(8,8))\n",
    "im = ax.imshow(correlacion, interpolation='nearest')\n",
    "fig.colorbar(im, orientation='vertical', fraction = 0.05)"
   ]
  },
  {
   "cell_type": "markdown",
   "id": "3f7d6580",
   "metadata": {},
   "source": [
    "### Metodología clásica "
   ]
  },
  {
   "cell_type": "code",
   "execution_count": 32,
   "id": "142dc2cd",
   "metadata": {},
   "outputs": [
    {
     "name": "stdout",
     "output_type": "stream",
     "text": [
      "                            OLS Regression Results                            \n",
      "==============================================================================\n",
      "Dep. Variable:                    mpg   R-squared:                       0.707\n",
      "Model:                            OLS   Adj. R-squared:                  0.704\n",
      "Method:                 Least Squares   F-statistic:                     233.4\n",
      "Date:                Fri, 18 Aug 2023   Prob (F-statistic):          9.63e-102\n",
      "Time:                        12:41:14   Log-Likelihood:                -1120.6\n",
      "No. Observations:                 392   AIC:                             2251.\n",
      "Df Residuals:                     387   BIC:                             2271.\n",
      "Df Model:                           4                                         \n",
      "Covariance Type:            nonrobust                                         \n",
      "===================================================================================\n",
      "                      coef    std err          t      P>|t|      [0.025      0.975]\n",
      "-----------------------------------------------------------------------------------\n",
      "const              45.2511      2.456     18.424      0.000      40.422      50.080\n",
      "cilindrada         -0.0060      0.007     -0.894      0.372      -0.019       0.007\n",
      "caballos_fuerza    -0.0436      0.017     -2.631      0.009      -0.076      -0.011\n",
      "peso               -0.0053      0.001     -6.512      0.000      -0.007      -0.004\n",
      "aceleracion        -0.0231      0.126     -0.184      0.854      -0.270       0.224\n",
      "==============================================================================\n",
      "Omnibus:                       38.359   Durbin-Watson:                   0.861\n",
      "Prob(Omnibus):                  0.000   Jarque-Bera (JB):               51.333\n",
      "Skew:                           0.715   Prob(JB):                     7.13e-12\n",
      "Kurtosis:                       4.049   Cond. No.                     3.56e+04\n",
      "==============================================================================\n",
      "\n",
      "Notes:\n",
      "[1] Standard Errors assume that the covariance matrix of the errors is correctly specified.\n",
      "[2] The condition number is large, 3.56e+04. This might indicate that there are\n",
      "strong multicollinearity or other numerical problems.\n"
     ]
    }
   ],
   "source": [
    "#Definir la variable dependiente y la independiente\n",
    "y = ejemplo_2['mpg']\n",
    "X = ejemplo_2[['cilindrada', 'caballos_fuerza', 'peso', 'aceleracion']]\n",
    "\n",
    "#Añadimos una constante al modelo\n",
    "X = sm.add_constant(X)\n",
    "\n",
    "#Ajustamos el modelo de MCO\n",
    "modelo_2 = sm.OLS(y, X).fit()\n",
    "\n",
    "#Observamos el resultado\n",
    "print(modelo_2.summary())"
   ]
  },
  {
   "cell_type": "markdown",
   "id": "83c47a6a",
   "metadata": {},
   "source": [
    "### Otra metodología"
   ]
  },
  {
   "cell_type": "code",
   "execution_count": 34,
   "id": "8d641f4d",
   "metadata": {},
   "outputs": [],
   "source": [
    "#Importamos una libreria para poder dividir nuestros datos en una parte de entrenamiento y otra de prueba\n",
    "from sklearn.model_selection import train_test_split\n",
    "\n",
    "#Realizamos la división como tal\n",
    "X_train, X_test, y_train, y_test = train_test_split(X, y, test_size=0.2, random_state=42)"
   ]
  },
  {
   "cell_type": "code",
   "execution_count": 35,
   "id": "6082dab2",
   "metadata": {},
   "outputs": [
    {
     "name": "stdout",
     "output_type": "stream",
     "text": [
      "                            OLS Regression Results                            \n",
      "==============================================================================\n",
      "Dep. Variable:                    mpg   R-squared:                       0.717\n",
      "Model:                            OLS   Adj. R-squared:                  0.713\n",
      "Method:                 Least Squares   F-statistic:                     194.6\n",
      "Date:                Fri, 18 Aug 2023   Prob (F-statistic):           5.45e-83\n",
      "Time:                        12:43:54   Log-Likelihood:                -895.49\n",
      "No. Observations:                 313   AIC:                             1801.\n",
      "Df Residuals:                     308   BIC:                             1820.\n",
      "Df Model:                           4                                         \n",
      "Covariance Type:            nonrobust                                         \n",
      "===================================================================================\n",
      "                      coef    std err          t      P>|t|      [0.025      0.975]\n",
      "-----------------------------------------------------------------------------------\n",
      "const              46.4211      2.734     16.982      0.000      41.042      51.800\n",
      "cilindrada         -0.0094      0.007     -1.273      0.204      -0.024       0.005\n",
      "caballos_fuerza    -0.0485      0.019     -2.590      0.010      -0.085      -0.012\n",
      "peso               -0.0050      0.001     -5.634      0.000      -0.007      -0.003\n",
      "aceleracion        -0.0594      0.140     -0.426      0.671      -0.334       0.215\n",
      "==============================================================================\n",
      "Omnibus:                       27.422   Durbin-Watson:                   2.168\n",
      "Prob(Omnibus):                  0.000   Jarque-Bera (JB):               34.677\n",
      "Skew:                           0.661   Prob(JB):                     2.95e-08\n",
      "Kurtosis:                       3.954   Cond. No.                     3.53e+04\n",
      "==============================================================================\n",
      "\n",
      "Notes:\n",
      "[1] Standard Errors assume that the covariance matrix of the errors is correctly specified.\n",
      "[2] The condition number is large, 3.53e+04. This might indicate that there are\n",
      "strong multicollinearity or other numerical problems.\n"
     ]
    }
   ],
   "source": [
    "#Creamos la constante\n",
    "X_train = sm.add_constant(X_train)\n",
    "\n",
    "#Desarrollamos el modelo\n",
    "modelo_3 = sm.OLS(y_train, X_train).fit()\n",
    "\n",
    "#Observamos los resultados de nuestro modelo\n",
    "print(modelo_3.summary())"
   ]
  },
  {
   "cell_type": "code",
   "execution_count": 36,
   "id": "a8adf817",
   "metadata": {},
   "outputs": [
    {
     "data": {
      "text/plain": [
       "0.6460478972647503"
      ]
     },
     "execution_count": 36,
     "metadata": {},
     "output_type": "execute_result"
    }
   ],
   "source": [
    "#Creamos datos de evaluación para la parte de prueba\n",
    "X_test = sm.add_constant(X_test)\n",
    "\n",
    "#Predecimos el valor de la variable dependiente para la parte de prueba\n",
    "y_pred = modelo_3.predict(X_test)\n",
    "\n",
    "#Importamos una libreria para medir el R2\n",
    "from sklearn.metrics import r2_score\n",
    "\n",
    "#Encontramos qué tan acertado fue nuestro modelo en la parte de prueba\n",
    "r2_score(y_test, y_pred)"
   ]
  },
  {
   "cell_type": "markdown",
   "id": "aefbbfee",
   "metadata": {},
   "source": [
    "## Tarea"
   ]
  },
  {
   "cell_type": "markdown",
   "id": "1fed53c6",
   "metadata": {},
   "source": [
    "### Ejercicio 1 "
   ]
  },
  {
   "cell_type": "code",
   "execution_count": 37,
   "id": "9124b3f8",
   "metadata": {},
   "outputs": [],
   "source": [
    "# Estos datos generan una secuencia de números aleatorios\n",
    "import random\n",
    "random.seed(42)\n",
    "exp = []\n",
    "for i in range(0,50):\n",
    "    n = random.randint(1, 30)\n",
    "    exp.append(n)\n",
    "\n",
    "#Estos datos generan otra secuencia de números aleatorios\n",
    "salario = []\n",
    "for i in range(0, 50):\n",
    "    n = random.randint(2000, 10000)\n",
    "    salario.append(n)\n",
    "    \n",
    "#Se crea una lista con nombres\n",
    "nombres = ['exp', 'salario']\n",
    "\n",
    "#Union de los dos datos\n",
    "union = list(zip(exp, salario))\n",
    "\n",
    "#Unimos las variables en una sola\n",
    "salario_exp = pd.DataFrame(union, index = None, columns = nombres)"
   ]
  },
  {
   "cell_type": "code",
   "execution_count": null,
   "id": "3e08a38d",
   "metadata": {},
   "outputs": [],
   "source": [
    "#Desean realizar una regresión del salario respecto a los años de experiencia\n",
    "\n",
    "#1.a) Creen variables simples para realizar el análisis\n",
    "x = salario_exp['XXXXX']\n",
    "y = salario_exp['XXXXX']\n",
    "\n",
    "#1.b) Añadan una constante el modelo\n",
    "x = sm.XXXXX(x)\n",
    "\n",
    "#1.c) Ajusten el modelo\n",
    "ejercicio_1 = sm.OLS(y, x).XXXXX()\n",
    "\n",
    "#1.d) Muestren los resultados del modelo\n",
    "print(ejercicio_1.XXXXX())"
   ]
  },
  {
   "cell_type": "code",
   "execution_count": null,
   "id": "00f24c98",
   "metadata": {},
   "outputs": [],
   "source": [
    "#1.e) Grafiquen los datos junto al modelo estimados\n",
    "\n",
    "sns.regplot(x='XXXXX', y='XXXXX', data=salario_exp, ci=False, line_kws={'color': 'red'}, scatter_kws={'s': 20, 'alpha': 0.7})"
   ]
  },
  {
   "cell_type": "markdown",
   "id": "c06a2ae0",
   "metadata": {},
   "source": [
    "### Ejercicio 2"
   ]
  },
  {
   "cell_type": "code",
   "execution_count": null,
   "id": "776fc586",
   "metadata": {},
   "outputs": [],
   "source": [
    "#Usen la base de datos importada de internet, se llama ejemplo_2, hagan una regresion de la aceleración con el peso, \n",
    "#año caballos de fuerza y cilindrada\n",
    "\n",
    "#2.a) Establezcan claramente las variables dependiente e independientes\n",
    "X = ejemplo_2[['XXXXX', 'XXXXX', 'XXXXX']]\n",
    "y = ejemplo_2['XXXXX']\n",
    "\n",
    "#2.b) Añadan la constante\n",
    "X = sm.XXXXX(X)\n",
    "\n",
    "#2.c) Ajusten el modelo\n",
    "ejercicio_2 = sm.OLS(XXXXX, XXXXX).XXXXX()\n",
    "\n",
    "#2.d) Muestren los resultados\n",
    "print(ejercicio_2.XXXXX())"
   ]
  },
  {
   "cell_type": "code",
   "execution_count": null,
   "id": "5f585836",
   "metadata": {},
   "outputs": [],
   "source": [
    "#Ahora usaremos la metodología de división en entrenamiento y prueba\n",
    "\n",
    "#2.e) Dividan la base de datos en entrenamiento y prueba\n",
    "X_train, X_test, y_train, y_test = train_test_split(XXXXX, XXXXX, test_size=0.2, random_state=42)\n",
    "\n",
    "#2.f) Desarrollen y encuentren el modelos correspondiente\n",
    "\n",
    "#Añadan la constante\n",
    "X_train = sm.XXXXX(X_train)\n",
    "\n",
    "#Ajusten el modelo\n",
    "ejercicio_2_e = sm.OLS(XXXXX, XXXXX).XXXXX()\n",
    "\n",
    "#Muestren los resultados\n",
    "print(ejercicio_2_e.XXXXX())"
   ]
  },
  {
   "cell_type": "code",
   "execution_count": null,
   "id": "53ae602b",
   "metadata": {},
   "outputs": [],
   "source": [
    "#2.g) Comparen los resultados predichos con la parte de prueba\n",
    "#Creamos datos de evaluación para la parte de prueba\n",
    "X_test = sm.XXXXX(X_test)\n",
    "\n",
    "#Predecimos el valor de la variable dependiente para la parte de prueba\n",
    "y_pred = ejercicio_2_e.XXXXX(X_test)\n",
    "\n",
    "#Encontramos qué tan acertado fue nuestro modelo en la parte de prueba\n",
    "XXXXX(y_test, y_pred)"
   ]
  },
  {
   "cell_type": "code",
   "execution_count": null,
   "id": "31c56366",
   "metadata": {},
   "outputs": [],
   "source": []
  }
 ],
 "metadata": {
  "kernelspec": {
   "display_name": "Python 3 (ipykernel)",
   "language": "python",
   "name": "python3"
  },
  "language_info": {
   "codemirror_mode": {
    "name": "ipython",
    "version": 3
   },
   "file_extension": ".py",
   "mimetype": "text/x-python",
   "name": "python",
   "nbconvert_exporter": "python",
   "pygments_lexer": "ipython3",
   "version": "3.10.11"
  }
 },
 "nbformat": 4,
 "nbformat_minor": 5
}
