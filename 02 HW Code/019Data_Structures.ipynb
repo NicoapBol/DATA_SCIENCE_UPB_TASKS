{
 "cells": [
  {
   "cell_type": "markdown",
   "metadata": {},
   "source": [
    "# Practica 1: Estructura de datos\n",
    "Por: Nicolas Acha Palacios.\n",
    "______________________________________________________________________________________________________________________\n"
   ]
  },
  {
   "cell_type": "code",
   "execution_count": 4,
   "metadata": {},
   "outputs": [
    {
     "name": "stdout",
     "output_type": "stream",
     "text": [
      "Fruit party:\n",
      "['Apple', 'Bananas', 'Orange', 'Pineapple']\n"
     ]
    }
   ],
   "source": [
    "### Genere una Pila. Añada en orden el nombre de las frutas que incluyó en su dibujo. \n",
    "\n",
    "# Lista\n",
    "frutas = []\n",
    "\n",
    "# Apilando frutas\n",
    "frutas.append('Apple')\n",
    "frutas.append('Bananas')\n",
    "frutas.append('Orange')\n",
    "frutas.append('Pineapple')\n",
    "\n",
    "# Ver pila de frutas: \n",
    "\n",
    "print('Fruit party:')\n",
    "print(frutas)"
   ]
  },
  {
   "cell_type": "code",
   "execution_count": 5,
   "metadata": {},
   "outputs": [
    {
     "name": "stdout",
     "output_type": "stream",
     "text": [
      "\n",
      "Frutas despues de funcion .pop():\n",
      "['Apple', 'Bananas', 'Orange']\n"
     ]
    }
   ],
   "source": [
    "### En líneas inferiores ilustre con una función pop el cómo la máquina quita el último elemento de su dibujo.\n",
    "\n",
    "# pop() function to pop\n",
    "frutas.pop()\n",
    "\n",
    "print('\\nFrutas despues de funcion .pop():')\n",
    "print(frutas)"
   ]
  },
  {
   "cell_type": "markdown",
   "metadata": {},
   "source": [
    "2. Estas personas están esperando una entrevista de trabajo <br> ![Alt text](image.png)<br> La asistente sentó al primero en llegar lado de la puerta del cuarto de entrevistas, para que los primeros en llegar tengan una mayor proximidad.<br>\n",
    "Cree una cola en Python, muestre cómo la cola “avanza” atendiendo a dos personas y obtenga el nombre del tercero a ser entrevistado.\n"
   ]
  },
  {
   "cell_type": "code",
   "execution_count": 6,
   "metadata": {},
   "outputs": [],
   "source": [
    "import queue"
   ]
  },
  {
   "cell_type": "code",
   "execution_count": 7,
   "metadata": {},
   "outputs": [
    {
     "name": "stdout",
     "output_type": "stream",
     "text": [
      "5\n"
     ]
    }
   ],
   "source": [
    "# Queue de trabajo\n",
    "entrevista = queue.Queue()\n",
    "\n",
    "#añadimos elementos\n",
    "entrevista.put(\"Tamara\")\n",
    "entrevista.put(\"Andrea\")\n",
    "entrevista.put(\"Sonia\")\n",
    "entrevista.put(\"Miguel\")\n",
    "entrevista.put(\"Jose\")\n",
    "\n",
    "medida=entrevista.qsize()\n",
    "print(medida)"
   ]
  },
  {
   "cell_type": "code",
   "execution_count": 8,
   "metadata": {},
   "outputs": [
    {
     "name": "stdout",
     "output_type": "stream",
     "text": [
      "El siguiente en ser entrevistado(a) es Sonia\n"
     ]
    }
   ],
   "source": [
    "#Avance de cola: \n",
    "\n",
    "#Atienden al primer entrevistado:\n",
    "entrevista.get()\n",
    "#Atienden al segundo entrevistado: \n",
    "entrevista.get()\n",
    "#Nombre del siguiente entrevistado: \n",
    "nombre_entrevista = entrevista.get()\n",
    "\n",
    "print(f\"El siguiente en ser entrevistado(a) es {nombre_entrevista}\")\n"
   ]
  },
  {
   "cell_type": "code",
   "execution_count": 9,
   "metadata": {},
   "outputs": [
    {
     "name": "stdout",
     "output_type": "stream",
     "text": [
      "|__Martin\n",
      "  |__Andrés\n",
      "    |__Mateo\n",
      "  |__Christian\n",
      "    |__Jose\n",
      "    |__Melanie\n",
      "  |__Estefany\n",
      "    |__Andrea\n"
     ]
    }
   ],
   "source": [
    "#3.\tCompletar el árbol de ejemplo de Python del material de curso, con los nietos faltantes.\n",
    "#Abuelo: Martin, Hijos: Andrés (nietos: Mateo), Christian (nietos: José, Melany) y Estefany (nietos: Andrea)\n",
    "\n",
    "class Nodo:\n",
    "    def __init__(self, valor, nombre):\n",
    "        self.valor = valor\n",
    "        self.hijos = []\n",
    "        self.nombre = nombre\n",
    "\n",
    "    def agregar_hijo(self, hijo):\n",
    "        self.hijos.append(hijo)\n",
    "\n",
    "def imprimir_arbol(nodo, nivel=0):\n",
    "    print(\"  \" * nivel + \"|__\" + nodo.nombre)\n",
    "    for hijo in nodo.hijos:\n",
    "        imprimir_arbol(hijo, nivel + 1)\n",
    "\n",
    "# Agregar raiz, hijos y nietos: \n",
    "# creamos los nodos del árbol con sus respectivos nombres\n",
    "raiz = Nodo(1, \"Martin\")\n",
    "hijo1 = Nodo(2, \"Andrés\")\n",
    "hijo2 = Nodo(3, \"Christian\")\n",
    "hijo3 = Nodo(4, \"Estefany\")\n",
    "nieto1 = Nodo(5, \"Mateo\")\n",
    "nieto2 = Nodo(6,\"Jose\")\n",
    "nieto3 = Nodo(7,\"Melanie\")\n",
    "nieto4 = Nodo(8,\"Andrea\")\n",
    "\n",
    "\n",
    "# establecemos las relaciones padre-hijo\n",
    "raiz.agregar_hijo(hijo1)\n",
    "raiz.agregar_hijo(hijo2)\n",
    "raiz.agregar_hijo(hijo3)\n",
    "hijo1.agregar_hijo(nieto1)\n",
    "hijo2.agregar_hijo(nieto2)\n",
    "hijo2.agregar_hijo(nieto3)\n",
    "hijo3.agregar_hijo(nieto4)\n",
    "\n",
    "# Imprimir el árbol\n",
    "imprimir_arbol(raiz)\n"
   ]
  },
  {
   "cell_type": "code",
   "execution_count": 10,
   "metadata": {},
   "outputs": [
    {
     "name": "stdout",
     "output_type": "stream",
     "text": [
      "Warning: When  cdn_resources is 'local' jupyter notebook has issues displaying graphics on chrome/safari. Use cdn_resources='in_line' or cdn_resources='remote' if you have issues viewing graphics in a notebook.\n"
     ]
    }
   ],
   "source": [
    "#4.\tGenera un grafo tomando en cuenta las siguientes relaciones:\n",
    "#   •\tJosé es amigo de Tamara y Tonia\n",
    "#   •\tTamara es amiga de Andrea\n",
    "\n",
    "import networkx as nx\n",
    "import pandas as pd\n",
    "import warnings\n",
    "import matplotlib.pyplot as plt\n",
    "from pyvis.network import Network\n",
    "\n",
    "# Create an empty graph\n",
    "G = nx.Graph()\n",
    "\n",
    "# Add multiple nodes\n",
    "G.add_nodes_from([\"Jose\",\"Tamara\",\"Tonia\",\"Andrea\"])\n",
    "\n",
    "# Add edges to connect nodes\n",
    "G.add_edge(\"Jose\", \"Tamara\")\n",
    "G.add_edge(\"Jose\", \"Tonia\")\n",
    "G.add_edge(\"Tamara\", \"Andrea\")  # New edge\n",
    "\n",
    "# Create a pyvis network instance\n",
    "nt = Network(notebook=True)\n",
    "\n",
    "# Add nodes and edges to the network\n",
    "for node in G.nodes:\n",
    "    nt.add_node(node)\n",
    "for edge in G.edges:\n",
    "    nt.add_edge(edge[0], edge[1])\n",
    "\n",
    "# Show the network\n",
    "#nt.show(\"amigos.html\")"
   ]
  },
  {
   "cell_type": "code",
   "execution_count": 11,
   "metadata": {},
   "outputs": [
    {
     "name": "stdout",
     "output_type": "stream",
     "text": [
      "Warning: When  cdn_resources is 'local' jupyter notebook has issues displaying graphics on chrome/safari. Use cdn_resources='in_line' or cdn_resources='remote' if you have issues viewing graphics in a notebook.\n"
     ]
    }
   ],
   "source": [
    "# 5.\tSuponga que es periodista y desea invitar a alguien que haya vivido la guerra del agua y la hiperinflación de los año 80 \n",
    "#       para conocer su opinión en un programa de televisión.\n",
    "\n",
    "#       Indagando, de diversas fuentes se recopilan las siguientes listas de nombres.\n",
    "\n",
    "# Personas que vivieron la guerra del agua:\n",
    "#                       Mariana Mariscal,Carla Martinez,Ursula Ibañez,Ana rosales,Andrés Cáceres\n",
    "\n",
    "#Personas que vivieron la hiperinflación:\n",
    "#                       Martin Arandia, Mariana Mariscal, Sergio Bonavide, Andrés Ibañez, Diego Almagro\n",
    "\n",
    "# Create an empty graph\n",
    "G = nx.Graph()\n",
    "\n",
    "# Add multiple nodes\n",
    "G.add_nodes_from([\"Guerra del Agua\",\"Hiperinflacion\",\"Mariana Mariscal\",\"Carla Martinez\",\"Ursula Ibanez\",\"Ana Rosales\",\"Andres Caceres\",\n",
    "                  \"Martin Arandia\",\"Sergio Bonavide\",\"Andres Ibanez\",\"Diego Almagro\"])\n",
    "\n",
    "# Add edges to connect nodes\n",
    "G.add_edge(\"Guerra del Agua\", \"Mariana Mariscal\")\n",
    "G.add_edge(\"Guerra del Agua\", \"Carla Martinez\")\n",
    "G.add_edge(\"Guerra del Agua\", \"Ursula Ibanez\")\n",
    "G.add_edge(\"Guerra del Agua\", \"Ana Rosales\")\n",
    "G.add_edge(\"Guerra del Agua\", \"Andres Caceres\")\n",
    "G.add_edge(\"Hiperinflacion\", \"Martin Arandia\")\n",
    "G.add_edge(\"Hiperinflacion\", \"Mariana Mariscal\")\n",
    "G.add_edge(\"Hiperinflacion\", \"Sergio Bonavide\")\n",
    "G.add_edge(\"Hiperinflacion\", \"Andres Ibanez\")\n",
    "G.add_edge(\"Hiperinflacion\", \"Diego Almagro\")\n",
    "\n",
    "# Create a pyvis network instance\n",
    "nt = Network(notebook=True)\n",
    "\n",
    "# Add nodes and edges to the network\n",
    "for node in G.nodes:\n",
    "    nt.add_node(node)\n",
    "for edge in G.edges:\n",
    "    nt.add_edge(edge[0], edge[1])\n",
    "\n",
    "# Show the network\n",
    "#nt.show(\"entrevista.html\")\n"
   ]
  },
  {
   "cell_type": "code",
   "execution_count": 2,
   "metadata": {},
   "outputs": [
    {
     "name": "stdout",
     "output_type": "stream",
     "text": [
      "{'Sucre': 'Chuquisaca', 'N. Senora de LPz': 'La Paz', 'El Alto': 'La Paz', 'Santa Cruz de la Sierra': 'Santa Cruz', 'Montero': 'Santa Cruz', 'La Guardia': 'Santa Cruz', 'Tarija': 'Tarija'}\n"
     ]
    }
   ],
   "source": [
    "# 6. Replica el ejemplo del mapeo para 6 ciudades en Bolivia y en qué departamento están ubicadas.\n",
    "\n",
    "Bolivia =\t{\n",
    "  \"Sucre\": \"Chuquisaca\",\n",
    "  \"N. Senora de LPz\": \"La Paz\",\n",
    "  \"El Alto\": \"La Paz\",\n",
    "  \"Santa Cruz de la Sierra\": \"Santa Cruz\",\n",
    "  \"Montero\": \"Santa Cruz\",\n",
    "  \"La Guardia\": \"Santa Cruz\",\n",
    "  \"Tarija\": \"Tarija\"\n",
    "}\n",
    "print(Bolivia)\n"
   ]
  },
  {
   "cell_type": "markdown",
   "metadata": {},
   "source": [
    "import folium\n",
    "\n",
    "# Coordinates for each city (you would need to have the actual coordinates for each city)\n",
    "coordinates = {\n",
    "    \"Sucre\": [-19.0333, -65.2627],\n",
    "    \"N. Senora de LPz\": [-16.5000, -68.1500],\n",
    "    \"El Alto\": [-16.5000, -68.1500],\n",
    "    \"Santa Cruz de la Sierra\": [-17.7833, -63.1833],\n",
    "    \"Montero\": [-17.3500, -63.2500],\n",
    "    \"La Guardia\": [-17.8500, -63.1167],\n",
    "    \"Tarija\": [-21.5167, -64.7333]\n",
    "}\n",
    "\n",
    "# Create a map centered around Bolivia\n",
    "bolivia_map = folium.Map(location=[-17.0568, -64.9916], zoom_start=6)\n",
    "\n",
    "# Add markers for each city\n",
    "for city, coord in coordinates.items():\n",
    "    folium.Marker(\n",
    "        location=coord,\n",
    "        popup=f'{city}, {Bolivia[city]}',\n",
    "        icon=folium.Icon(color='blue')\n",
    "    ).add_to(bolivia_map)\n",
    "\n",
    "# Display the map\n",
    "bolivia_map.save('bolivia_map.html')\n"
   ]
  }
 ],
 "metadata": {
  "kernelspec": {
   "display_name": "Python 3",
   "language": "python",
   "name": "python3"
  },
  "language_info": {
   "codemirror_mode": {
    "name": "ipython",
    "version": 3
   },
   "file_extension": ".py",
   "mimetype": "text/x-python",
   "name": "python",
   "nbconvert_exporter": "python",
   "pygments_lexer": "ipython3",
   "version": "3.10.11"
  },
  "orig_nbformat": 4
 },
 "nbformat": 4,
 "nbformat_minor": 2
}
