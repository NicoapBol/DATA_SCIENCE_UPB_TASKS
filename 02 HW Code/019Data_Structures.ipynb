{
 "cells": [
  {
   "cell_type": "markdown",
   "metadata": {},
   "source": [
    "# Practica 1: Estructura de datos\n",
    "Por: Nicolas Acha Palacios.\n",
    "______________________________________________________________________________________________________________________\n"
   ]
  },
  {
   "cell_type": "code",
   "execution_count": 2,
   "metadata": {},
   "outputs": [
    {
     "name": "stdout",
     "output_type": "stream",
     "text": [
      "Fruit party:\n",
      "['Apple', 'Bananas', 'Orange', 'Pineapple']\n"
     ]
    }
   ],
   "source": [
    "### Genere una Pila. Añada en orden el nombre de las frutas que incluyó en su dibujo. \n",
    "\n",
    "# Lista\n",
    "frutas = []\n",
    "\n",
    "# Apilando frutas\n",
    "frutas.append('Apple')\n",
    "frutas.append('Bananas')\n",
    "frutas.append('Orange')\n",
    "frutas.append('Pineapple')\n",
    "\n",
    "# Ver pila de frutas: \n",
    "\n",
    "print('Fruit party:')\n",
    "print(frutas)"
   ]
  },
  {
   "cell_type": "code",
   "execution_count": 3,
   "metadata": {},
   "outputs": [
    {
     "name": "stdout",
     "output_type": "stream",
     "text": [
      "\n",
      "Frutas despues de funcion .pop():\n",
      "['Apple', 'Bananas', 'Orange']\n"
     ]
    }
   ],
   "source": [
    "### En líneas inferiores ilustre con una función pop el cómo la máquina quita el último elemento de su dibujo.\n",
    "\n",
    "# pop() function to pop\n",
    "frutas.pop()\n",
    "\n",
    "print('\\nFrutas despues de funcion .pop():')\n",
    "print(frutas)"
   ]
  },
  {
   "cell_type": "markdown",
   "metadata": {},
   "source": [
    "2. Estas personas están esperando una entrevista de trabajo <br> ![Alt text](image.png)<br> La asistente sentó al primero en llegar lado de la puerta del cuarto de entrevistas, para que los primeros en llegar tengan una mayor proximidad.<br>\n",
    "Cree una cola en Python, muestre cómo la cola “avanza” atendiendo a dos personas y obtenga el nombre del tercero a ser entrevistado.\n"
   ]
  },
  {
   "cell_type": "code",
   "execution_count": 4,
   "metadata": {},
   "outputs": [],
   "source": [
    "import queue"
   ]
  },
  {
   "cell_type": "code",
   "execution_count": 5,
   "metadata": {},
   "outputs": [
    {
     "name": "stdout",
     "output_type": "stream",
     "text": [
      "5\n"
     ]
    }
   ],
   "source": [
    "# Queue de trabajo\n",
    "entrevista = queue.Queue()\n",
    "\n",
    "#añadimos elementos\n",
    "entrevista.put(\"Tamara\")\n",
    "entrevista.put(\"Andrea\")\n",
    "entrevista.put(\"Sonia\")\n",
    "entrevista.put(\"Miguel\")\n",
    "entrevista.put(\"Jose\")\n",
    "\n",
    "medida=entrevista.qsize()\n",
    "print(medida)"
   ]
  },
  {
   "cell_type": "code",
   "execution_count": 6,
   "metadata": {},
   "outputs": [
    {
     "name": "stdout",
     "output_type": "stream",
     "text": [
      "El siguiente en ser entrevistado(a) es Sonia\n"
     ]
    }
   ],
   "source": [
    "#Avance de cola: \n",
    "\n",
    "#Atienden al primer entrevistado:\n",
    "entrevista.get()\n",
    "#Atienden al segundo entrevistado: \n",
    "entrevista.get()\n",
    "#Nombre del siguiente entrevistado: \n",
    "nombre_entrevista = entrevista.get()\n",
    "\n",
    "print(f\"El siguiente en ser entrevistado(a) es {nombre_entrevista}\")\n"
   ]
  },
  {
   "cell_type": "code",
   "execution_count": 8,
   "metadata": {},
   "outputs": [
    {
     "name": "stdout",
     "output_type": "stream",
     "text": [
      "|__Martin\n",
      "  |__Andrés\n",
      "    |__Mateo\n",
      "  |__Christian\n",
      "    |__Jose\n",
      "    |__Melanie\n",
      "  |__Estefany\n",
      "    |__Andrea\n"
     ]
    }
   ],
   "source": [
    "#3.\tCompletar el árbol de ejemplo de Python del material de curso, con los nietos faltantes.\n",
    "#Abuelo: Martin, Hijos: Andrés (nietos: Mateo), Christian (nietos: José, Melany) y Estefany (nietos: Andrea)\n",
    "\n",
    "class Nodo:\n",
    "    def __init__(self, valor, nombre):\n",
    "        self.valor = valor\n",
    "        self.hijos = []\n",
    "        self.nombre = nombre\n",
    "\n",
    "    def agregar_hijo(self, hijo):\n",
    "        self.hijos.append(hijo)\n",
    "\n",
    "def imprimir_arbol(nodo, nivel=0):\n",
    "    print(\"  \" * nivel + \"|__\" + nodo.nombre)\n",
    "    for hijo in nodo.hijos:\n",
    "        imprimir_arbol(hijo, nivel + 1)\n",
    "\n",
    "# Agregar raiz, hijos y nietos: \n",
    "# creamos los nodos del árbol con sus respectivos nombres\n",
    "raiz = Nodo(1, \"Martin\")\n",
    "hijo1 = Nodo(2, \"Andrés\")\n",
    "hijo2 = Nodo(3, \"Christian\")\n",
    "hijo3 = Nodo(4, \"Estefany\")\n",
    "nieto1 = Nodo(5, \"Mateo\")\n",
    "nieto2 = Nodo(6,\"Jose\")\n",
    "nieto3 = Nodo(7,\"Melanie\")\n",
    "nieto4 = Nodo(8,\"Andrea\")\n",
    "\n",
    "\n",
    "# establecemos las relaciones padre-hijo\n",
    "raiz.agregar_hijo(hijo1)\n",
    "raiz.agregar_hijo(hijo2)\n",
    "raiz.agregar_hijo(hijo3)\n",
    "hijo1.agregar_hijo(nieto1)\n",
    "hijo2.agregar_hijo(nieto2)\n",
    "hijo2.agregar_hijo(nieto3)\n",
    "hijo3.agregar_hijo(nieto4)\n",
    "\n",
    "# Imprimir el árbol\n",
    "imprimir_arbol(raiz)\n"
   ]
  }
 ],
 "metadata": {
  "kernelspec": {
   "display_name": "Python 3",
   "language": "python",
   "name": "python3"
  },
  "language_info": {
   "codemirror_mode": {
    "name": "ipython",
    "version": 3
   },
   "file_extension": ".py",
   "mimetype": "text/x-python",
   "name": "python",
   "nbconvert_exporter": "python",
   "pygments_lexer": "ipython3",
   "version": "3.10.11"
  },
  "orig_nbformat": 4
 },
 "nbformat": 4,
 "nbformat_minor": 2
}
