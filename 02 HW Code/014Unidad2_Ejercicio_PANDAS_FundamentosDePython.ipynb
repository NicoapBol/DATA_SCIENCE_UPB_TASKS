{
  "cells": [
    {
      "cell_type": "markdown",
      "metadata": {
        "id": "_e29gOISto0l"
      },
      "source": [
        "# UNIDAD 2: FUNDAMENTOS DE PYTHON - PANDAS\n",
        "## Docente: MSc. Ruth Chirinos\n",
        "## Fecha Entrega: 09/Sept/2023 23:59\n",
        "\n",
        "### Practica\n"
      ]
    },
    {
      "cell_type": "code",
      "execution_count": 1,
      "metadata": {
        "id": "SEjMdjfKsbgZ"
      },
      "outputs": [],
      "source": [
        "import pandas as pd\n",
        "\n",
        "# Cargar los datos del archivo CSV\n",
        "data = pd.read_csv(r'C:\\Users\\nicol\\Documents\\DATA_SCIENCE_UPB_TASKS\\00 Data\\01_datasets\\titanic.csv')\n",
        "\n"
      ]
    },
    {
      "cell_type": "code",
      "execution_count": 2,
      "metadata": {
        "colab": {
          "base_uri": "https://localhost:8080/"
        },
        "id": "SsSB6l4bFLrD",
        "outputId": "68fad705-30a6-44ba-b802-7f32f9aa6787"
      },
      "outputs": [
        {
          "data": {
            "text/plain": [
              "pandas.core.frame.DataFrame"
            ]
          },
          "execution_count": 2,
          "metadata": {},
          "output_type": "execute_result"
        }
      ],
      "source": [
        "type(data)"
      ]
    },
    {
      "cell_type": "code",
      "execution_count": 3,
      "metadata": {
        "colab": {
          "base_uri": "https://localhost:8080/"
        },
        "id": "BgW5QlcRtcpL",
        "outputId": "a670712a-780e-4b1e-bd76-f4ce0b3db7d7"
      },
      "outputs": [
        {
          "name": "stdout",
          "output_type": "stream",
          "text": [
            "Información básica del conjunto de datos:\n",
            "<class 'pandas.core.frame.DataFrame'>\n",
            "RangeIndex: 891 entries, 0 to 890\n",
            "Data columns (total 12 columns):\n",
            " #   Column       Non-Null Count  Dtype  \n",
            "---  ------       --------------  -----  \n",
            " 0   PassengerId  891 non-null    int64  \n",
            " 1   Survived     891 non-null    int64  \n",
            " 2   Pclass       891 non-null    int64  \n",
            " 3   Name         891 non-null    object \n",
            " 4   Sex          891 non-null    object \n",
            " 5   Age          714 non-null    float64\n",
            " 6   SibSp        891 non-null    int64  \n",
            " 7   Parch        891 non-null    int64  \n",
            " 8   Ticket       891 non-null    object \n",
            " 9   Fare         891 non-null    float64\n",
            " 10  Cabin        204 non-null    object \n",
            " 11  Embarked     889 non-null    object \n",
            "dtypes: float64(2), int64(5), object(5)\n",
            "memory usage: 83.7+ KB\n"
          ]
        }
      ],
      "source": [
        "# Mostrar información básica del conjunto de datos\n",
        "print(\"Información básica del conjunto de datos:\")\n",
        "data.info()\n",
        "\n"
      ]
    },
    {
      "cell_type": "code",
      "execution_count": 4,
      "metadata": {
        "colab": {
          "base_uri": "https://localhost:8080/",
          "height": 242
        },
        "id": "D_IW6JyDtezU",
        "outputId": "8fdfd576-63e5-45a8-e91b-6e91ac1dc420"
      },
      "outputs": [
        {
          "name": "stdout",
          "output_type": "stream",
          "text": [
            "\n",
            "Primeras filas del conjunto de datos:\n"
          ]
        },
        {
          "data": {
            "text/html": [
              "<div>\n",
              "<style scoped>\n",
              "    .dataframe tbody tr th:only-of-type {\n",
              "        vertical-align: middle;\n",
              "    }\n",
              "\n",
              "    .dataframe tbody tr th {\n",
              "        vertical-align: top;\n",
              "    }\n",
              "\n",
              "    .dataframe thead th {\n",
              "        text-align: right;\n",
              "    }\n",
              "</style>\n",
              "<table border=\"1\" class=\"dataframe\">\n",
              "  <thead>\n",
              "    <tr style=\"text-align: right;\">\n",
              "      <th></th>\n",
              "      <th>PassengerId</th>\n",
              "      <th>Survived</th>\n",
              "      <th>Pclass</th>\n",
              "      <th>Name</th>\n",
              "      <th>Sex</th>\n",
              "      <th>Age</th>\n",
              "      <th>SibSp</th>\n",
              "      <th>Parch</th>\n",
              "      <th>Ticket</th>\n",
              "      <th>Fare</th>\n",
              "      <th>Cabin</th>\n",
              "      <th>Embarked</th>\n",
              "    </tr>\n",
              "  </thead>\n",
              "  <tbody>\n",
              "    <tr>\n",
              "      <th>0</th>\n",
              "      <td>1</td>\n",
              "      <td>0</td>\n",
              "      <td>3</td>\n",
              "      <td>Braund, Mr. Owen Harris</td>\n",
              "      <td>male</td>\n",
              "      <td>22.0</td>\n",
              "      <td>1</td>\n",
              "      <td>0</td>\n",
              "      <td>A/5 21171</td>\n",
              "      <td>7.2500</td>\n",
              "      <td>NaN</td>\n",
              "      <td>S</td>\n",
              "    </tr>\n",
              "    <tr>\n",
              "      <th>1</th>\n",
              "      <td>2</td>\n",
              "      <td>1</td>\n",
              "      <td>1</td>\n",
              "      <td>Cumings, Mrs. John Bradley (Florence Briggs Th...</td>\n",
              "      <td>female</td>\n",
              "      <td>38.0</td>\n",
              "      <td>1</td>\n",
              "      <td>0</td>\n",
              "      <td>PC 17599</td>\n",
              "      <td>71.2833</td>\n",
              "      <td>C85</td>\n",
              "      <td>C</td>\n",
              "    </tr>\n",
              "    <tr>\n",
              "      <th>2</th>\n",
              "      <td>3</td>\n",
              "      <td>1</td>\n",
              "      <td>3</td>\n",
              "      <td>Heikkinen, Miss. Laina</td>\n",
              "      <td>female</td>\n",
              "      <td>26.0</td>\n",
              "      <td>0</td>\n",
              "      <td>0</td>\n",
              "      <td>STON/O2. 3101282</td>\n",
              "      <td>7.9250</td>\n",
              "      <td>NaN</td>\n",
              "      <td>S</td>\n",
              "    </tr>\n",
              "    <tr>\n",
              "      <th>3</th>\n",
              "      <td>4</td>\n",
              "      <td>1</td>\n",
              "      <td>1</td>\n",
              "      <td>Futrelle, Mrs. Jacques Heath (Lily May Peel)</td>\n",
              "      <td>female</td>\n",
              "      <td>35.0</td>\n",
              "      <td>1</td>\n",
              "      <td>0</td>\n",
              "      <td>113803</td>\n",
              "      <td>53.1000</td>\n",
              "      <td>C123</td>\n",
              "      <td>S</td>\n",
              "    </tr>\n",
              "    <tr>\n",
              "      <th>4</th>\n",
              "      <td>5</td>\n",
              "      <td>0</td>\n",
              "      <td>3</td>\n",
              "      <td>Allen, Mr. William Henry</td>\n",
              "      <td>male</td>\n",
              "      <td>35.0</td>\n",
              "      <td>0</td>\n",
              "      <td>0</td>\n",
              "      <td>373450</td>\n",
              "      <td>8.0500</td>\n",
              "      <td>NaN</td>\n",
              "      <td>S</td>\n",
              "    </tr>\n",
              "  </tbody>\n",
              "</table>\n",
              "</div>"
            ],
            "text/plain": [
              "   PassengerId  Survived  Pclass  \\\n",
              "0            1         0       3   \n",
              "1            2         1       1   \n",
              "2            3         1       3   \n",
              "3            4         1       1   \n",
              "4            5         0       3   \n",
              "\n",
              "                                                Name     Sex   Age  SibSp  \\\n",
              "0                            Braund, Mr. Owen Harris    male  22.0      1   \n",
              "1  Cumings, Mrs. John Bradley (Florence Briggs Th...  female  38.0      1   \n",
              "2                             Heikkinen, Miss. Laina  female  26.0      0   \n",
              "3       Futrelle, Mrs. Jacques Heath (Lily May Peel)  female  35.0      1   \n",
              "4                           Allen, Mr. William Henry    male  35.0      0   \n",
              "\n",
              "   Parch            Ticket     Fare Cabin Embarked  \n",
              "0      0         A/5 21171   7.2500   NaN        S  \n",
              "1      0          PC 17599  71.2833   C85        C  \n",
              "2      0  STON/O2. 3101282   7.9250   NaN        S  \n",
              "3      0            113803  53.1000  C123        S  \n",
              "4      0            373450   8.0500   NaN        S  "
            ]
          },
          "execution_count": 4,
          "metadata": {},
          "output_type": "execute_result"
        }
      ],
      "source": [
        "# Mostrar las primeras filas del conjunto de datos\n",
        "print(\"\\nPrimeras filas del conjunto de datos:\")\n",
        "#print(data.head())\n",
        "\n",
        "data.head()\n"
      ]
    },
    {
      "cell_type": "code",
      "execution_count": 5,
      "metadata": {
        "colab": {
          "base_uri": "https://localhost:8080/"
        },
        "id": "BNeiGGa8tgPC",
        "outputId": "f513e044-8cfe-4804-a021-31ed73822d47"
      },
      "outputs": [
        {
          "name": "stdout",
          "output_type": "stream",
          "text": [
            "\n",
            "Cantidad total de pasajeros: 891\n"
          ]
        }
      ],
      "source": [
        "# Calcular la cantidad de pasajeros\n",
        "total_pasajeros = len(data)\n",
        "print(\"\\nCantidad total de pasajeros:\", total_pasajeros)\n",
        "\n"
      ]
    },
    {
      "cell_type": "code",
      "execution_count": 6,
      "metadata": {
        "colab": {
          "base_uri": "https://localhost:8080/"
        },
        "id": "DznNuP0nthhQ",
        "outputId": "b2aa80a8-837c-43cd-ba20-8e4dee24423d"
      },
      "outputs": [
        {
          "name": "stdout",
          "output_type": "stream",
          "text": [
            "\n",
            "Cantidad de pasajeros que sobrevivieron: 342\n",
            "Porcentaje de pasajeros que sobrevivieron: 38.38383838383838\n"
          ]
        }
      ],
      "source": [
        "# Calcular la cantidad de pasajeros que sobrevivieron\n",
        "sobrevivieron = data[   data['Survived']    == 1]\n",
        "total_sobrevivieron = len(sobrevivieron)\n",
        "porcentaje_sobrevivieron = (total_sobrevivieron / total_pasajeros) * 100\n",
        "print(\"\\nCantidad de pasajeros que sobrevivieron:\", total_sobrevivieron)\n",
        "print(\"Porcentaje de pasajeros que sobrevivieron:\", porcentaje_sobrevivieron)\n",
        "\n"
      ]
    },
    {
      "cell_type": "code",
      "execution_count": 7,
      "metadata": {
        "colab": {
          "base_uri": "https://localhost:8080/"
        },
        "id": "JifWRZw_tjAY",
        "outputId": "6e7cb2f3-a0c8-4c42-e430-e532b6cef25d"
      },
      "outputs": [
        {
          "name": "stdout",
          "output_type": "stream",
          "text": [
            "\n",
            "Edad promedio de los pasajeros: 29.69911764705882\n"
          ]
        }
      ],
      "source": [
        "# Calcular la edad promedio de los pasajeros\n",
        "edad_promedio = data['Age'].mean()\n",
        "print(\"\\nEdad promedio de los pasajeros:\", edad_promedio)\n",
        "\n"
      ]
    },
    {
      "cell_type": "code",
      "execution_count": 8,
      "metadata": {
        "colab": {
          "base_uri": "https://localhost:8080/"
        },
        "id": "M9C_Qrv6tkmm",
        "outputId": "7a9ef651-6344-4794-f586-07e1ef1e81b0"
      },
      "outputs": [
        {
          "name": "stdout",
          "output_type": "stream",
          "text": [
            "\n",
            "Cantidad de pasajeros en cada clase:\n",
            "3    491\n",
            "1    216\n",
            "2    184\n",
            "Name: Pclass, dtype: int64\n"
          ]
        }
      ],
      "source": [
        "# Calcular la cantidad de pasajeros en cada clase\n",
        "pasajeros_clase = data['Pclass'].value_counts()\n",
        "print(\"\\nCantidad de pasajeros en cada clase:\")\n",
        "print(pasajeros_clase)\n",
        "\n"
      ]
    },
    {
      "cell_type": "code",
      "execution_count": 9,
      "metadata": {
        "colab": {
          "base_uri": "https://localhost:8080/"
        },
        "id": "UlfUe0HOtmDm",
        "outputId": "59b1fa03-021e-4762-840d-51df4e1e7cd2"
      },
      "outputs": [
        {
          "name": "stdout",
          "output_type": "stream",
          "text": [
            "\n",
            "Cantidad de pasajeros por género:\n",
            "male      577\n",
            "female    314\n",
            "Name: Sex, dtype: int64\n"
          ]
        }
      ],
      "source": [
        "# Calcular la cantidad de pasajeros por género\n",
        "pasajeros_genero = data['Sex'].value_counts()\n",
        "print(\"\\nCantidad de pasajeros por género:\")\n",
        "print(pasajeros_genero)"
      ]
    },
    {
      "cell_type": "markdown",
      "metadata": {
        "id": "FcL1azfzvSyr"
      },
      "source": [
        "###Preguntas"
      ]
    },
    {
      "cell_type": "markdown",
      "metadata": {
        "id": "i6M2BZQ4vQeg"
      },
      "source": [
        "¿Cuál es el porcentaje de pasajeros que sobrevivieron en cada clase?"
      ]
    },
    {
      "cell_type": "code",
      "execution_count": 27,
      "metadata": {
        "id": "vl9JA1xgvVKr"
      },
      "outputs": [
        {
          "name": "stdout",
          "output_type": "stream",
          "text": [
            "CLASE    SOBREVIVIENTES  TOTAL DE PASAJEROS  % DE SUPERVIVENCIA\n",
            "1             136                 216           62.962963\n",
            "2              87                 184           47.282609\n",
            "3             119                 491           24.236253\n"
          ]
        }
      ],
      "source": [
        "# Escribe aqui tu respuesta\n",
        "pasajeros_class_survived = sobrevivieron['Pclass'].value_counts()\n",
        "survival_percentage_class = pasajeros_class_survived/pasajeros_clase * 100\n",
        "survival_df_chart = pd.DataFrame({'SOBREVIVIENTES':pasajeros_class_survived,'TOTAL DE PASAJEROS':pasajeros_clase,'% DE SUPERVIVENCIA':survival_percentage_class})\n",
        "\n",
        "print(f'CLASE {survival_df_chart}')"
      ]
    },
    {
      "cell_type": "markdown",
      "metadata": {
        "id": "UF-EhKeAvXdi"
      },
      "source": [
        "¿Cuál es la cantidad de pasajeros por puerto de embarque?"
      ]
    },
    {
      "cell_type": "code",
      "execution_count": 29,
      "metadata": {
        "id": "aH09zYY4vbOG"
      },
      "outputs": [
        {
          "name": "stdout",
          "output_type": "stream",
          "text": [
            "Cantidad de pasajeros segund el puerto de embarque:\n",
            "S    644\n",
            "C    168\n",
            "Q     77\n",
            "Name: Embarked, dtype: int64\n",
            "*C = Cherbourg, Q = Queenstown and S = Southhampton\n"
          ]
        }
      ],
      "source": [
        "# Escribe aqui tu respuesta\n",
        "pasajeros_port = data['Embarked'].value_counts()\n",
        "print('Cantidad de pasajeros segund el puerto de embarque:')\n",
        "print(pasajeros_port)\n",
        "print('*C = Cherbourg, Q = Queenstown and S = Southhampton')"
      ]
    },
    {
      "cell_type": "markdown",
      "metadata": {
        "id": "PY0kpCLIvbkg"
      },
      "source": [
        "¿Cuál es la cantidad de pasajeros con familiares a bordo (padres/hijos o hermanos/cónyuges)?"
      ]
    },
    {
      "cell_type": "code",
      "execution_count": 30,
      "metadata": {
        "id": "arw5XIZdvhpd"
      },
      "outputs": [
        {
          "name": "stdout",
          "output_type": "stream",
          "text": [
            "Un total de 283 pasajeros viajaban acompañados de sus familias a bordo del Titanic\n"
          ]
        }
      ],
      "source": [
        "# Escribe aqui tu respuesta\n",
        "familias = data[data['SibSp'] !=0]\n",
        "familias = len(familias)\n",
        "print(f'Un total de {familias} pasajeros viajaban acompañados de sus familias a bordo del Titanic')"
      ]
    },
    {
      "cell_type": "markdown",
      "metadata": {
        "id": "hBXSQSnLvg3X"
      },
      "source": [
        "¿Cuál es la cantidad de pasajeros que viajaban solos?"
      ]
    },
    {
      "cell_type": "code",
      "execution_count": 20,
      "metadata": {
        "id": "bpjEom-NvsOJ"
      },
      "outputs": [
        {
          "name": "stdout",
          "output_type": "stream",
          "text": [
            "Un total de 608 pasajeros viajaban NO acompañados a bordo del Titanic\n"
          ]
        }
      ],
      "source": [
        "# Escribe aqui tu respuesta\n",
        "solitarios = data[data['SibSp'] ==0 ]\n",
        "solitarios = len(solitarios)\n",
        "print(f'Un total de {solitarios} pasajeros viajaban NO acompañados a bordo del Titanic')"
      ]
    }
  ],
  "metadata": {
    "colab": {
      "provenance": []
    },
    "kernelspec": {
      "display_name": "Python 3",
      "name": "python3"
    },
    "language_info": {
      "codemirror_mode": {
        "name": "ipython",
        "version": 3
      },
      "file_extension": ".py",
      "mimetype": "text/x-python",
      "name": "python",
      "nbconvert_exporter": "python",
      "pygments_lexer": "ipython3",
      "version": "3.10.11"
    }
  },
  "nbformat": 4,
  "nbformat_minor": 0
}
