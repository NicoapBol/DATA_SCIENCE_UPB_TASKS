{
 "cells": [
  {
   "cell_type": "markdown",
   "metadata": {},
   "source": [
    "# <img style=\"float: left; padding-right: 20px; height: 70px\" src=\"https://i.imgur.com/cMzxwTN.jpg\"> Fundamentos  Básicos del Lenguaje Python   \n",
    "\n",
    "\n",
    "## **Trabajo final**\n",
    "\n",
    "\n",
    "**Universidad Privada Boliviana**<br/>\n",
    "**Diplomado en Machine Learning y Ciencia de Datos 2-2023**<br/>\n",
    "**Agosto 2023**<br/>"
   ]
  },
  {
   "cell_type": "markdown",
   "metadata": {},
   "source": [
    "## 🎵 Quiz de Spotify\n",
    "Responde las preguntas a continuación utilizando el conjunto de datos `spotify_artists.csv` proporcionado.\n",
    "\n",
    "NOTA: Todas las respuestas deben basarse en el conjunto de datos proporcionado."
   ]
  },
  {
   "cell_type": "code",
   "execution_count": 1,
   "metadata": {},
   "outputs": [],
   "source": [
    "#importa la biblioteca pandas\n",
    "\n",
    "import pandas as pd \n",
    "import matplotlib.pyplot as plt"
   ]
  },
  {
   "cell_type": "code",
   "execution_count": 2,
   "metadata": {},
   "outputs": [],
   "source": [
    "\n",
    "#lee el archivo spotify_artists.csv en un dataframe\n",
    "\n",
    "df = pd.read_csv(r'F:\\01 Ciencia de Datos - Python\\Modulo1 - DataScience\\Module_1\\DATA_SCIENCE_UPB_TASKS\\00 Data\\01_datasets\\spotify_artists.csv')"
   ]
  },
  {
   "cell_type": "code",
   "execution_count": 3,
   "metadata": {},
   "outputs": [
    {
     "data": {
      "text/html": [
       "<div>\n",
       "<style scoped>\n",
       "    .dataframe tbody tr th:only-of-type {\n",
       "        vertical-align: middle;\n",
       "    }\n",
       "\n",
       "    .dataframe tbody tr th {\n",
       "        vertical-align: top;\n",
       "    }\n",
       "\n",
       "    .dataframe thead th {\n",
       "        text-align: right;\n",
       "    }\n",
       "</style>\n",
       "<table border=\"1\" class=\"dataframe\">\n",
       "  <thead>\n",
       "    <tr style=\"text-align: right;\">\n",
       "      <th></th>\n",
       "      <th>name</th>\n",
       "      <th>artist</th>\n",
       "      <th>year</th>\n",
       "      <th>duration_ms</th>\n",
       "      <th>popularity</th>\n",
       "      <th>energy</th>\n",
       "      <th>danceability</th>\n",
       "      <th>tempo</th>\n",
       "    </tr>\n",
       "  </thead>\n",
       "  <tbody>\n",
       "    <tr>\n",
       "      <th>0</th>\n",
       "      <td>Singende Bataillone 1. Teil</td>\n",
       "      <td>Carl Woitschach</td>\n",
       "      <td>1928</td>\n",
       "      <td>158648</td>\n",
       "      <td>0</td>\n",
       "      <td>0.1950</td>\n",
       "      <td>0.708</td>\n",
       "      <td>118.469</td>\n",
       "    </tr>\n",
       "    <tr>\n",
       "      <th>1</th>\n",
       "      <td>Fantasiestücke, Op. 111: Più tosto lento</td>\n",
       "      <td>Robert Schumann</td>\n",
       "      <td>1928</td>\n",
       "      <td>282133</td>\n",
       "      <td>0</td>\n",
       "      <td>0.0135</td>\n",
       "      <td>0.379</td>\n",
       "      <td>83.972</td>\n",
       "    </tr>\n",
       "    <tr>\n",
       "      <th>2</th>\n",
       "      <td>Chapter 1.18 - Zamek kaniowski</td>\n",
       "      <td>Seweryn Goszczyński</td>\n",
       "      <td>1928</td>\n",
       "      <td>104300</td>\n",
       "      <td>0</td>\n",
       "      <td>0.2200</td>\n",
       "      <td>0.749</td>\n",
       "      <td>107.177</td>\n",
       "    </tr>\n",
       "    <tr>\n",
       "      <th>3</th>\n",
       "      <td>Bebamos Juntos - Instrumental (Remasterizado)</td>\n",
       "      <td>Francisco Canaro</td>\n",
       "      <td>1928</td>\n",
       "      <td>180760</td>\n",
       "      <td>0</td>\n",
       "      <td>0.1300</td>\n",
       "      <td>0.781</td>\n",
       "      <td>108.003</td>\n",
       "    </tr>\n",
       "    <tr>\n",
       "      <th>4</th>\n",
       "      <td>Polonaise-Fantaisie in A-Flat Major, Op. 61</td>\n",
       "      <td>NaN</td>\n",
       "      <td>1928</td>\n",
       "      <td>687733</td>\n",
       "      <td>1</td>\n",
       "      <td>0.2040</td>\n",
       "      <td>0.210</td>\n",
       "      <td>62.149</td>\n",
       "    </tr>\n",
       "  </tbody>\n",
       "</table>\n",
       "</div>"
      ],
      "text/plain": [
       "                                            name               artist  year  \\\n",
       "0                    Singende Bataillone 1. Teil      Carl Woitschach  1928   \n",
       "1       Fantasiestücke, Op. 111: Più tosto lento      Robert Schumann  1928   \n",
       "2                 Chapter 1.18 - Zamek kaniowski  Seweryn Goszczyński  1928   \n",
       "3  Bebamos Juntos - Instrumental (Remasterizado)     Francisco Canaro  1928   \n",
       "4    Polonaise-Fantaisie in A-Flat Major, Op. 61                  NaN  1928   \n",
       "\n",
       "   duration_ms  popularity  energy  danceability    tempo  \n",
       "0       158648           0  0.1950         0.708  118.469  \n",
       "1       282133           0  0.0135         0.379   83.972  \n",
       "2       104300           0  0.2200         0.749  107.177  \n",
       "3       180760           0  0.1300         0.781  108.003  \n",
       "4       687733           1  0.2040         0.210   62.149  "
      ]
     },
     "execution_count": 3,
     "metadata": {},
     "output_type": "execute_result"
    }
   ],
   "source": [
    "# echa un vistazo rápido a los datos con df.head()\n",
    "df.head()"
   ]
  },
  {
   "cell_type": "markdown",
   "metadata": {},
   "source": [
    "### 1. ¿Cuántas canciones se encuentran en el dataframe?\"\"\"\n"
   ]
  },
  {
   "cell_type": "code",
   "execution_count": 4,
   "metadata": {},
   "outputs": [
    {
     "name": "stdout",
     "output_type": "stream",
     "text": [
      "163661\n"
     ]
    }
   ],
   "source": [
    "# tu código aquí\n",
    "\n",
    "sngs_total = len(df.name)\n",
    "print(sngs_total)\n"
   ]
  },
  {
   "cell_type": "code",
   "execution_count": 5,
   "metadata": {},
   "outputs": [
    {
     "data": {
      "text/plain": [
       "(163661, 8)"
      ]
     },
     "execution_count": 5,
     "metadata": {},
     "output_type": "execute_result"
    }
   ],
   "source": [
    "\n",
    "#Echa un vistazo a tu respuesta para ver si tiene sentido\n",
    "\n",
    "df.shape"
   ]
  },
  {
   "cell_type": "markdown",
   "metadata": {},
   "source": [
    "### 2. ¿Cuántos días tomaría escuchar todas las canciones en este conjunto de datos?\n",
    "\n",
    "NOTA: Redondea la respuesta al número entero más cercano\n"
   ]
  },
  {
   "cell_type": "code",
   "execution_count": 6,
   "metadata": {},
   "outputs": [
    {
     "name": "stdout",
     "output_type": "stream",
     "text": [
      "Duracion en dias (float) = 437.21308711805557\n",
      "Duracion en dias (int) = 437\n"
     ]
    }
   ],
   "source": [
    "#tu código aquí\n",
    "ms_to_day= 86400000\n",
    "answer2 = df['duration_ms'].sum() / ms_to_day\n",
    "print(f'Duracion en dias (float) = {answer2}')\n",
    "int(answer2)\n",
    "print(f'Duracion en dias (int) = {int(answer2)}')\n",
    "\n"
   ]
  },
  {
   "cell_type": "code",
   "execution_count": 7,
   "metadata": {},
   "outputs": [
    {
     "name": "stdout",
     "output_type": "stream",
     "text": [
      "La duracion en dias de nuestra playlist de Spotify es de 437\n"
     ]
    }
   ],
   "source": [
    "#Echa un vistazo a tu respuesta para ver si tiene sentido\n",
    "print(f'La duracion en dias de nuestra playlist de Spotify es de {int(answer2)}')\n"
   ]
  },
  {
   "cell_type": "markdown",
   "metadata": {},
   "source": [
    "### 3. En el dataframe, ¿cuántas canciones tienen el título \"Love\" (coincidencia exacta)?\n"
   ]
  },
  {
   "cell_type": "code",
   "execution_count": 8,
   "metadata": {},
   "outputs": [
    {
     "data": {
      "text/plain": [
       "5648"
      ]
     },
     "execution_count": 8,
     "metadata": {},
     "output_type": "execute_result"
    }
   ],
   "source": [
    "Love = 'Love'\n",
    "love_songs = df[df['name'].str.contains(rf'\\b{Love}\\b', case=False, regex=True)]\n",
    "len(love_songs)"
   ]
  },
  {
   "cell_type": "code",
   "execution_count": 9,
   "metadata": {},
   "outputs": [
    {
     "name": "stdout",
     "output_type": "stream",
     "text": [
      "                                                     name  \\\n",
      "324                               Indian Love Call (Duet)   \n",
      "326                                      Indian Love Call   \n",
      "416     Wake up and Dream: What is this thing called l...   \n",
      "843     Don't Take Your Love from Me (with Paul Weston...   \n",
      "943      People Will Say We're in Love (From \"Oklahoma!\")   \n",
      "...                                                   ...   \n",
      "163515                     Used To Love (with Dean Lewis)   \n",
      "163528                                         LOVE AGAIN   \n",
      "163553                                        Love Affair   \n",
      "163590                                          Thug Love   \n",
      "163607                           How Long Will I Love You   \n",
      "\n",
      "                        artist  year  duration_ms  popularity  energy  \\\n",
      "324         Jeanette MacDonald  1936       152100           0  0.4090   \n",
      "326         Jeanette MacDonald  1936       205975           0  0.3500   \n",
      "416               Victor Arden  1940       188720           0  0.1260   \n",
      "843                  Doris Day  1948       203213           1  0.0677   \n",
      "943               Jay Blackton  1949       257107           1  0.1600   \n",
      "...                        ...   ...          ...         ...     ...   \n",
      "163515           Martin Garrix  2019       236765          76  0.6930   \n",
      "163528           Daniel Caesar  2019       214278          68  0.4410   \n",
      "163553                     UMI  2019       190960          66  0.4880   \n",
      "163590  A Boogie Wit da Hoodie  2020       181744          67  0.6430   \n",
      "163607          Ellie Goulding  2020       148689           1  0.3160   \n",
      "\n",
      "        danceability    tempo  \n",
      "324            0.264  130.649  \n",
      "326            0.217   90.883  \n",
      "416            0.713  103.274  \n",
      "843            0.413  137.511  \n",
      "943            0.270   78.000  \n",
      "...              ...      ...  \n",
      "163515         0.651  118.970  \n",
      "163528         0.553   76.988  \n",
      "163553         0.613  172.067  \n",
      "163590         0.540  178.125  \n",
      "163607         0.453  125.628  \n",
      "\n",
      "[5648 rows x 8 columns]\n"
     ]
    }
   ],
   "source": [
    "#Echa un vistazo a tu respuesta para ver si tiene sentido\n",
    "print(love_songs)\n"
   ]
  },
  {
   "cell_type": "markdown",
   "metadata": {},
   "source": [
    "### 4. ¿Qué artista creó la canción más popular titulada \"Love\"?"
   ]
  },
  {
   "cell_type": "markdown",
   "metadata": {},
   "source": [
    "Para ordenar una serie por valores hemos utilizado:\n",
    "`serie.sort_values()`\n",
    "\n",
    "Para un dataframe, df.sort_values() requiere ademas la columna especifica utilizar como argumento: \n",
    "\n",
    "`df.sort_values(by='Nombre de la columna')`\n",
    "\n",
    "Puedes ver la documentacion para obtener mas informacion [here](https://pandas.pydata.org/docs/reference/api/pandas.DataFrame.sort_values.html)\n"
   ]
  },
  {
   "cell_type": "code",
   "execution_count": 10,
   "metadata": {},
   "outputs": [
    {
     "data": {
      "text/html": [
       "<div>\n",
       "<style scoped>\n",
       "    .dataframe tbody tr th:only-of-type {\n",
       "        vertical-align: middle;\n",
       "    }\n",
       "\n",
       "    .dataframe tbody tr th {\n",
       "        vertical-align: top;\n",
       "    }\n",
       "\n",
       "    .dataframe thead th {\n",
       "        text-align: right;\n",
       "    }\n",
       "</style>\n",
       "<table border=\"1\" class=\"dataframe\">\n",
       "  <thead>\n",
       "    <tr style=\"text-align: right;\">\n",
       "      <th></th>\n",
       "      <th>name</th>\n",
       "      <th>artist</th>\n",
       "      <th>year</th>\n",
       "      <th>duration_ms</th>\n",
       "      <th>popularity</th>\n",
       "      <th>energy</th>\n",
       "      <th>danceability</th>\n",
       "      <th>tempo</th>\n",
       "    </tr>\n",
       "  </thead>\n",
       "  <tbody>\n",
       "    <tr>\n",
       "      <th>147418</th>\n",
       "      <td>Love</td>\n",
       "      <td>Lana Del Rey</td>\n",
       "      <td>2017</td>\n",
       "      <td>272743</td>\n",
       "      <td>70</td>\n",
       "      <td>0.366</td>\n",
       "      <td>0.527</td>\n",
       "      <td>98.994</td>\n",
       "    </tr>\n",
       "  </tbody>\n",
       "</table>\n",
       "</div>"
      ],
      "text/plain": [
       "        name        artist  year  duration_ms  popularity  energy  \\\n",
       "147418  Love  Lana Del Rey  2017       272743          70   0.366   \n",
       "\n",
       "        danceability   tempo  \n",
       "147418         0.527  98.994  "
      ]
     },
     "execution_count": 10,
     "metadata": {},
     "output_type": "execute_result"
    }
   ],
   "source": [
    "#tu código aquí\n",
    "answer4 = love_songs.sort_values(by='popularity',ascending=False)\n",
    "song_tittle_love = answer4[answer4['name'].str.lower()=='love'] \n",
    "song_tittle_love.head(1)"
   ]
  },
  {
   "cell_type": "code",
   "execution_count": 11,
   "metadata": {},
   "outputs": [
    {
     "name": "stdout",
     "output_type": "stream",
     "text": [
      "        name                  artist  year  duration_ms  popularity  energy  \\\n",
      "147418  Love            Lana Del Rey  2017       272743          70  0.3660   \n",
      "112124  Love                     Zoé  2003       203627          69  0.5120   \n",
      "147497  Love              Koe Wetzel  2017       223062          60  0.4750   \n",
      "37926   Love         Musiq Soulchild  2000       304667          50  0.3850   \n",
      "128251  Love        The Art Of Noise  1986       421093          43  0.3740   \n",
      "5962    Love                 Mos Def  1999       263200          43  0.6430   \n",
      "14875   Love              Matt White  2007       170040          43  0.6840   \n",
      "29984   Love             Nancy Adams  2000       112013          39  0.3530   \n",
      "135704  Love            Bill Withers  1978       297680          39  0.3290   \n",
      "153329  Love           Kenny Loggins  1994       305987          38  0.0573   \n",
      "5750    Love           Gods Property  1997       323067          37  0.5660   \n",
      "30003   Love           Roger Creager  2000       230747          36  0.3690   \n",
      "36420   Love                The Cult  1985       329773          33  0.8680   \n",
      "2793    Love  Country Joe & The Fish  1967       144000          27  0.5740   \n",
      "57052   Love        Augustin Lehfuss  1964       172000          17  0.5270   \n",
      "116431  Love              Chet Baker  1954       152827          13  0.5550   \n",
      "141662  Love            Judy Garland  1954       203600           8  0.4480   \n",
      "141743  Love       The Four Freshmen  1955       165000           5  0.4910   \n",
      "\n",
      "        danceability    tempo  \n",
      "147418         0.527   98.994  \n",
      "112124         0.692   79.003  \n",
      "147497         0.626  124.133  \n",
      "37926          0.569   99.738  \n",
      "128251         0.733  136.498  \n",
      "5962           0.695   94.895  \n",
      "14875          0.759  107.948  \n",
      "29984          0.175   77.958  \n",
      "135704         0.645  142.690  \n",
      "153329         0.245  167.939  \n",
      "5750           0.403  100.569  \n",
      "30003          0.692   96.826  \n",
      "36420          0.463   95.453  \n",
      "2793           0.561  118.868  \n",
      "57052          0.635  108.741  \n",
      "116431         0.550  126.903  \n",
      "141662         0.383  118.179  \n",
      "141743         0.552  128.582  \n"
     ]
    }
   ],
   "source": [
    "#Echa un vistazo a tu respuesta para ver si tiene sentido\n",
    "print(song_tittle_love)\n"
   ]
  },
  {
   "cell_type": "markdown",
   "metadata": {},
   "source": [
    "### 5. ¿En qué década se lanzaron la mayoría de las canciones?\n",
    "\n",
    "SUGERENCIA: Deberás encontrar el número total de canciones lanzadas en cada década y proceder a partir de ahí.\n",
    "\n",
    "NOTA: si tu respuesta es los 80, la respuesta debe ser 1980."
   ]
  },
  {
   "cell_type": "code",
   "execution_count": 12,
   "metadata": {},
   "outputs": [
    {
     "name": "stdout",
     "output_type": "stream",
     "text": [
      "year\n",
      "1990    19505\n",
      "2000    19409\n",
      "1950    19343\n",
      "1960    19338\n",
      "1980    19290\n",
      "2010    19196\n",
      "1970    19018\n",
      "1940    14186\n",
      "1930     8645\n",
      "1920     4127\n",
      "2020     1604\n",
      "Name: count, dtype: int64\n"
     ]
    }
   ],
   "source": [
    "# tu código aquí\n",
    "decades_df = df['year'].astype(str).apply(lambda x: int(x[:-1] + '0'))\n",
    "decades = decades_df.value_counts()\n",
    "print(decades)"
   ]
  },
  {
   "cell_type": "code",
   "execution_count": 13,
   "metadata": {},
   "outputs": [
    {
     "name": "stdout",
     "output_type": "stream",
     "text": [
      "year\n",
      "1990    19505\n",
      "2000    19409\n",
      "1950    19343\n",
      "1960    19338\n",
      "1980    19290\n",
      "2010    19196\n",
      "1970    19018\n",
      "1940    14186\n",
      "1930     8645\n",
      "1920     4127\n",
      "2020     1604\n",
      "Name: count, dtype: int64\n"
     ]
    }
   ],
   "source": [
    "#Echa un vistazo a tu respuesta para ver si tiene sentido\n",
    "print(decades)\n"
   ]
  },
  {
   "cell_type": "markdown",
   "metadata": {},
   "source": [
    "### 6. ¿Qué columna tiene datos faltantes?\n",
    "SUGERENCIA: Puedes revisar el metodo df.isnull() o df.isna()\n"
   ]
  },
  {
   "cell_type": "code",
   "execution_count": 14,
   "metadata": {},
   "outputs": [
    {
     "name": "stdout",
     "output_type": "stream",
     "text": [
      "<class 'pandas.core.frame.DataFrame'>\n",
      "RangeIndex: 163661 entries, 0 to 163660\n",
      "Data columns (total 8 columns):\n",
      " #   Column        Non-Null Count   Dtype  \n",
      "---  ------        --------------   -----  \n",
      " 0   name          163661 non-null  object \n",
      " 1   artist        162790 non-null  object \n",
      " 2   year          163661 non-null  int64  \n",
      " 3   duration_ms   163661 non-null  int64  \n",
      " 4   popularity    163661 non-null  int64  \n",
      " 5   energy        163661 non-null  float64\n",
      " 6   danceability  163661 non-null  float64\n",
      " 7   tempo         163661 non-null  float64\n",
      "dtypes: float64(3), int64(3), object(2)\n",
      "memory usage: 10.0+ MB\n",
      "None\n"
     ]
    }
   ],
   "source": [
    "#tu código aquí\n",
    "print(df.info())"
   ]
  },
  {
   "cell_type": "code",
   "execution_count": 15,
   "metadata": {},
   "outputs": [
    {
     "name": "stdout",
     "output_type": "stream",
     "text": [
      "(163661, 8)\n"
     ]
    }
   ],
   "source": [
    "#Echa un vistazo a tu respuesta para ver si tiene sentido\n",
    "print(___)\n"
   ]
  },
  {
   "cell_type": "markdown",
   "metadata": {},
   "source": [
    "#### Elimina todos los valores faltantes para responder al siguiente conjunto de preguntas.\n",
    "\n",
    "Si el dataframe contiene valores faltantes, puedes eliminarlos utilizando el siguiente método:\n",
    "\n",
    "`df.dropna(inplace=True)`\n",
    "\n",
    "Este método busca elementos faltantes en el dataframe y, si encuentra alguno, elimina toda la fila correspondiente a la celda faltante.\n",
    "\n",
    "Puedes encontrar más información en la documentación \n",
    "[here](https://pandas.pydata.org/docs/reference/api/pandas.DataFrame.dropna.html#pandas.DataFrame.dropna)"
   ]
  },
  {
   "cell_type": "code",
   "execution_count": 16,
   "metadata": {},
   "outputs": [
    {
     "name": "stdout",
     "output_type": "stream",
     "text": [
      "<class 'pandas.core.frame.DataFrame'>\n",
      "Index: 162790 entries, 0 to 163660\n",
      "Data columns (total 8 columns):\n",
      " #   Column        Non-Null Count   Dtype  \n",
      "---  ------        --------------   -----  \n",
      " 0   name          162790 non-null  object \n",
      " 1   artist        162790 non-null  object \n",
      " 2   year          162790 non-null  int64  \n",
      " 3   duration_ms   162790 non-null  int64  \n",
      " 4   popularity    162790 non-null  int64  \n",
      " 5   energy        162790 non-null  float64\n",
      " 6   danceability  162790 non-null  float64\n",
      " 7   tempo         162790 non-null  float64\n",
      "dtypes: float64(3), int64(3), object(2)\n",
      "memory usage: 11.2+ MB\n"
     ]
    }
   ],
   "source": [
    "# tu código aquí\n",
    "df.dropna(inplace=True)\n",
    "df.info()\n"
   ]
  },
  {
   "cell_type": "markdown",
   "metadata": {},
   "source": [
    "### 7. Analisis del tempo de las canciones\n",
    "\n",
    "Utilizar el comando `print(f\"...\")` donde corresponda para responder a las siguientes preguntas\n",
    "\n",
    "Para los artistas con una popularidad mayor a 90 y cuyas canciones han sido lanzadas despues del 2015, encontrar la siguiente informacion:\n",
    "\n",
    "- ¿Cuál es la canción más rápida en términos de tempo y en qué año fue lanzada?\n",
    "---*Stuck with U (with Justin Bieber) - 2020*---\n",
    "- ¿Cuál es la canción más lenta en términos de tempo y en qué año fue lanzada?---*Highest in the room - 2019*---\n",
    "- ¿Graficar el numero de canciones que fueron lanzadas por año y identificar cuál fue año con más canciones? ---*2019*---\n"
   ]
  },
  {
   "cell_type": "code",
   "execution_count": 17,
   "metadata": {},
   "outputs": [
    {
     "name": "stdout",
     "output_type": "stream",
     "text": [
      "CANCION MAS RAPIDA - TEMPO:\n",
      "------------------------------------------------------------------------\n",
      "name            Stuck with U (with Justin Bieber)\n",
      "artist                              Ariana Grande\n",
      "year                                         2020\n",
      "duration_ms                                228482\n",
      "popularity                                     94\n",
      "energy                                       0.45\n",
      "danceability                                0.597\n",
      "tempo                                     178.765\n",
      "Name: 86521, dtype: object\n",
      "------------------------------------------------------------------------\n",
      "////////////////////////////////////////////////////////////////////////\n",
      "------------------------------------------------------------------------\n",
      "CANCION MAS LENTA - TEMPO:\n",
      "------------------------------------------------------------------------\n",
      "name            HIGHEST IN THE ROOM\n",
      "artist                 Travis Scott\n",
      "year                           2019\n",
      "duration_ms                  175721\n",
      "popularity                       91\n",
      "energy                        0.427\n",
      "danceability                  0.598\n",
      "tempo                        76.469\n",
      "Name: 86423, dtype: object\n"
     ]
    }
   ],
   "source": [
    "songs_2015_analysis = df[(df['year']>= 2015) & (df['popularity']>90)]\n",
    "max_tempo= songs_2015_analysis['tempo'].idxmax()\n",
    "min_tempo = songs_2015_analysis['tempo'].idxmin()\n",
    "fastest_song_2015 = songs_2015_analysis.loc[max_tempo]\n",
    "slowest_song_2015 = songs_2015_analysis.loc[min_tempo]\n",
    "print('CANCION MAS RAPIDA - TEMPO:')\n",
    "print('--'*36)\n",
    "print(fastest_song_2015)\n",
    "print('--'*36)\n",
    "print('//'*36)\n",
    "print('--'*36)\n",
    "print('CANCION MAS LENTA - TEMPO:')\n",
    "print('--'*36)\n",
    "print(slowest_song_2015)\n"
   ]
  },
  {
   "cell_type": "code",
   "execution_count": 18,
   "metadata": {},
   "outputs": [
    {
     "data": {
      "text/plain": [
       "<function matplotlib.pyplot.show(close=None, block=None)>"
      ]
     },
     "execution_count": 18,
     "metadata": {},
     "output_type": "execute_result"
    },
    {
     "data": {
      "image/png": "[encoded data removed]",
      "text/plain": [
       "<Figure size 640x480 with 1 Axes>"
      ]
     },
     "metadata": {},
     "output_type": "display_data"
    }
   ],
   "source": [
    "songs_since_2015_counts = songs_2015_analysis['year'].value_counts()\n",
    "plt.pie(songs_since_2015_counts, labels=songs_since_2015_counts.index)\n",
    "plt.title('Canciones por año')\n",
    "plt.show"
   ]
  },
  {
   "cell_type": "code",
   "execution_count": 19,
   "metadata": {},
   "outputs": [
    {
     "data": {
      "text/plain": [
       "year\n",
       "2019    14\n",
       "2020    13\n",
       "2018     2\n",
       "2015     1\n",
       "2016     1\n",
       "Name: count, dtype: int64"
      ]
     },
     "execution_count": 19,
     "metadata": {},
     "output_type": "execute_result"
    }
   ],
   "source": [
    "songs_since_2015_counts.head(15)"
   ]
  },
  {
   "cell_type": "markdown",
   "metadata": {},
   "source": [
    "### 8. Analisis del tiempo de duracion de las canciones\n",
    "Utilizar el comando `print(f\"...\")` para responder a las siguientes preguntas\n",
    "\n",
    "- ¿Cuál es la canción más larga en términos de duración en milisegundos y quién es el artista que la interpreta?\n",
    "\n",
    "- ¿Cuál es la canción más popular en términos de valor de popularidad y en qué año fue lanzada?"
   ]
  },
  {
   "cell_type": "code",
   "execution_count": 20,
   "metadata": {},
   "outputs": [
    {
     "name": "stdout",
     "output_type": "stream",
     "text": [
      "CANCION DE MAYOR DURACION:\n",
      "------------------------------------------------------------------------\n",
      "name            Brown Noise - 90 Minutes\n",
      "artist                     Sound Dreamer\n",
      "year                                2013\n",
      "duration_ms                      5403500\n",
      "popularity                            50\n",
      "energy                          0.000099\n",
      "danceability                         0.0\n",
      "tempo                                0.0\n",
      "Name: 7385, dtype: object\n",
      "------------------------------------------------------------------------\n",
      "////////////////////////////////////////////////////////////////////////\n",
      "------------------------------------------------------------------------\n",
      "CANCION MAS POPULAR:\n",
      "------------------------------------------------------------------------\n",
      "name            death bed (coffee for your head) (feat. beabad...\n",
      "artist                                                      Powfu\n",
      "year                                                         2020\n",
      "duration_ms                                                173333\n",
      "popularity                                                     97\n",
      "energy                                                      0.431\n",
      "danceability                                                0.726\n",
      "tempo                                                     144.026\n",
      "Name: 86517, dtype: object\n"
     ]
    }
   ],
   "source": [
    "max_duration_id= df['duration_ms'].idxmax()\n",
    "max_popularity_id=df['popularity'].idxmax()\n",
    "song_w_most_duration=df.loc[max_duration_id]\n",
    "song_w_most_popularity=df.loc[max_popularity_id]\n",
    "\n",
    "print('CANCION DE MAYOR DURACION:')\n",
    "print('--'*36)\n",
    "print(song_w_most_duration)\n",
    "print('--'*36)\n",
    "print('//'*36)\n",
    "print('--'*36)\n",
    "print('CANCION MAS POPULAR:')\n",
    "print('--'*36)\n",
    "print(song_w_most_popularity)\n"
   ]
  },
  {
   "cell_type": "markdown",
   "metadata": {},
   "source": [
    "### 9. ¿Cuál es la canción más enérgica de Michael Jackson?"
   ]
  },
  {
   "cell_type": "code",
   "execution_count": 21,
   "metadata": {},
   "outputs": [
    {
     "name": "stdout",
     "output_type": "stream",
     "text": [
      "--------------------------------------------------------------------------------------------------------------\n",
      "TOP 5 MOST ENERGETIC SONGS FROM MICHAEL JACKSON\n",
      "--------------------------------------------------------------------------------------------------------------\n"
     ]
    },
    {
     "data": {
      "text/html": [
       "<div>\n",
       "<style scoped>\n",
       "    .dataframe tbody tr th:only-of-type {\n",
       "        vertical-align: middle;\n",
       "    }\n",
       "\n",
       "    .dataframe tbody tr th {\n",
       "        vertical-align: top;\n",
       "    }\n",
       "\n",
       "    .dataframe thead th {\n",
       "        text-align: right;\n",
       "    }\n",
       "</style>\n",
       "<table border=\"1\" class=\"dataframe\">\n",
       "  <thead>\n",
       "    <tr style=\"text-align: right;\">\n",
       "      <th></th>\n",
       "      <th>name</th>\n",
       "      <th>artist</th>\n",
       "      <th>year</th>\n",
       "      <th>duration_ms</th>\n",
       "      <th>popularity</th>\n",
       "      <th>energy</th>\n",
       "      <th>danceability</th>\n",
       "      <th>tempo</th>\n",
       "    </tr>\n",
       "  </thead>\n",
       "  <tbody>\n",
       "    <tr>\n",
       "      <th>83478</th>\n",
       "      <td>Smooth Criminal - 2012 Remaster</td>\n",
       "      <td>Michael Jackson</td>\n",
       "      <td>1987</td>\n",
       "      <td>257760</td>\n",
       "      <td>75</td>\n",
       "      <td>0.981</td>\n",
       "      <td>0.853</td>\n",
       "      <td>118.193</td>\n",
       "    </tr>\n",
       "    <tr>\n",
       "      <th>137010</th>\n",
       "      <td>Can't Let Her Get Away</td>\n",
       "      <td>Michael Jackson</td>\n",
       "      <td>1991</td>\n",
       "      <td>298400</td>\n",
       "      <td>45</td>\n",
       "      <td>0.973</td>\n",
       "      <td>0.873</td>\n",
       "      <td>108.488</td>\n",
       "    </tr>\n",
       "    <tr>\n",
       "      <th>93111</th>\n",
       "      <td>Jam</td>\n",
       "      <td>Michael Jackson</td>\n",
       "      <td>1991</td>\n",
       "      <td>338173</td>\n",
       "      <td>59</td>\n",
       "      <td>0.960</td>\n",
       "      <td>0.884</td>\n",
       "      <td>116.273</td>\n",
       "    </tr>\n",
       "    <tr>\n",
       "      <th>92683</th>\n",
       "      <td>Leave Me Alone - 2012 Remaster</td>\n",
       "      <td>Michael Jackson</td>\n",
       "      <td>1987</td>\n",
       "      <td>280360</td>\n",
       "      <td>58</td>\n",
       "      <td>0.957</td>\n",
       "      <td>0.850</td>\n",
       "      <td>123.589</td>\n",
       "    </tr>\n",
       "    <tr>\n",
       "      <th>38434</th>\n",
       "      <td>Smooth Criminal - Radio Edit</td>\n",
       "      <td>Michael Jackson</td>\n",
       "      <td>2005</td>\n",
       "      <td>257240</td>\n",
       "      <td>49</td>\n",
       "      <td>0.957</td>\n",
       "      <td>0.854</td>\n",
       "      <td>118.185</td>\n",
       "    </tr>\n",
       "  </tbody>\n",
       "</table>\n",
       "</div>"
      ],
      "text/plain": [
       "                                   name           artist  year  duration_ms  \\\n",
       "83478   Smooth Criminal - 2012 Remaster  Michael Jackson  1987       257760   \n",
       "137010           Can't Let Her Get Away  Michael Jackson  1991       298400   \n",
       "93111                               Jam  Michael Jackson  1991       338173   \n",
       "92683    Leave Me Alone - 2012 Remaster  Michael Jackson  1987       280360   \n",
       "38434      Smooth Criminal - Radio Edit  Michael Jackson  2005       257240   \n",
       "\n",
       "        popularity  energy  danceability    tempo  \n",
       "83478           75   0.981         0.853  118.193  \n",
       "137010          45   0.973         0.873  108.488  \n",
       "93111           59   0.960         0.884  116.273  \n",
       "92683           58   0.957         0.850  123.589  \n",
       "38434           49   0.957         0.854  118.185  "
      ]
     },
     "execution_count": 21,
     "metadata": {},
     "output_type": "execute_result"
    }
   ],
   "source": [
    "mj_songs = df[(df['artist']=='Michael Jackson')]\n",
    "mj_most_energetic_song= mj_songs.sort_values(by='energy',ascending=False)\n",
    "print('--'*55)\n",
    "print('TOP 5 MOST ENERGETIC SONGS FROM MICHAEL JACKSON')\n",
    "print('--'*55)\n",
    "mj_most_energetic_song.head(5)"
   ]
  },
  {
   "cell_type": "markdown",
   "metadata": {},
   "source": [
    "### 10 ¿Qué artista ha lanzado la mayor cantidad de canciones desde 1960?\n"
   ]
  },
  {
   "cell_type": "code",
   "execution_count": 22,
   "metadata": {},
   "outputs": [
    {
     "data": {
      "text/plain": [
       "artist\n",
       "Bob Dylan             550\n",
       "The Beach Boys        466\n",
       "The Rolling Stones    402\n",
       "Frank Sinatra         395\n",
       "Johnny Cash           393\n",
       "Name: count, dtype: int64"
      ]
     },
     "execution_count": 22,
     "metadata": {},
     "output_type": "execute_result"
    }
   ],
   "source": [
    "songs_since_1960 = df[df['year']>=1960]\n",
    "songs_since_1960_pv = songs_since_1960['artist'].value_counts()\n",
    "songs_since_1960_pv.head(5)"
   ]
  },
  {
   "cell_type": "markdown",
   "metadata": {},
   "source": [
    "### 11 Para el artista de la pregunta anterior, ¿cuál es la canción más popular?"
   ]
  },
  {
   "cell_type": "code",
   "execution_count": 23,
   "metadata": {},
   "outputs": [
    {
     "data": {
      "text/html": [
       "<div>\n",
       "<style scoped>\n",
       "    .dataframe tbody tr th:only-of-type {\n",
       "        vertical-align: middle;\n",
       "    }\n",
       "\n",
       "    .dataframe tbody tr th {\n",
       "        vertical-align: top;\n",
       "    }\n",
       "\n",
       "    .dataframe thead th {\n",
       "        text-align: right;\n",
       "    }\n",
       "</style>\n",
       "<table border=\"1\" class=\"dataframe\">\n",
       "  <thead>\n",
       "    <tr style=\"text-align: right;\">\n",
       "      <th></th>\n",
       "      <th>name</th>\n",
       "      <th>artist</th>\n",
       "      <th>year</th>\n",
       "      <th>duration_ms</th>\n",
       "      <th>popularity</th>\n",
       "      <th>energy</th>\n",
       "      <th>danceability</th>\n",
       "      <th>tempo</th>\n",
       "    </tr>\n",
       "  </thead>\n",
       "  <tbody>\n",
       "    <tr>\n",
       "      <th>82159</th>\n",
       "      <td>Knockin' On Heaven's Door</td>\n",
       "      <td>Bob Dylan</td>\n",
       "      <td>1973</td>\n",
       "      <td>149880</td>\n",
       "      <td>74</td>\n",
       "      <td>0.3960</td>\n",
       "      <td>0.513</td>\n",
       "      <td>140.208</td>\n",
       "    </tr>\n",
       "    <tr>\n",
       "      <th>81396</th>\n",
       "      <td>Like a Rolling Stone</td>\n",
       "      <td>Bob Dylan</td>\n",
       "      <td>1965</td>\n",
       "      <td>369600</td>\n",
       "      <td>72</td>\n",
       "      <td>0.7210</td>\n",
       "      <td>0.483</td>\n",
       "      <td>95.261</td>\n",
       "    </tr>\n",
       "    <tr>\n",
       "      <th>81203</th>\n",
       "      <td>Blowin' in the Wind</td>\n",
       "      <td>Bob Dylan</td>\n",
       "      <td>1963</td>\n",
       "      <td>165427</td>\n",
       "      <td>70</td>\n",
       "      <td>0.0993</td>\n",
       "      <td>0.380</td>\n",
       "      <td>174.874</td>\n",
       "    </tr>\n",
       "    <tr>\n",
       "      <th>82459</th>\n",
       "      <td>Hurricane</td>\n",
       "      <td>Bob Dylan</td>\n",
       "      <td>1976</td>\n",
       "      <td>512733</td>\n",
       "      <td>70</td>\n",
       "      <td>0.8270</td>\n",
       "      <td>0.509</td>\n",
       "      <td>135.601</td>\n",
       "    </tr>\n",
       "    <tr>\n",
       "      <th>81301</th>\n",
       "      <td>The Times They Are A-Changin'</td>\n",
       "      <td>Bob Dylan</td>\n",
       "      <td>1964</td>\n",
       "      <td>192053</td>\n",
       "      <td>70</td>\n",
       "      <td>0.3960</td>\n",
       "      <td>0.389</td>\n",
       "      <td>171.860</td>\n",
       "    </tr>\n",
       "  </tbody>\n",
       "</table>\n",
       "</div>"
      ],
      "text/plain": [
       "                                name     artist  year  duration_ms  \\\n",
       "82159      Knockin' On Heaven's Door  Bob Dylan  1973       149880   \n",
       "81396           Like a Rolling Stone  Bob Dylan  1965       369600   \n",
       "81203            Blowin' in the Wind  Bob Dylan  1963       165427   \n",
       "82459                      Hurricane  Bob Dylan  1976       512733   \n",
       "81301  The Times They Are A-Changin'  Bob Dylan  1964       192053   \n",
       "\n",
       "       popularity  energy  danceability    tempo  \n",
       "82159          74  0.3960         0.513  140.208  \n",
       "81396          72  0.7210         0.483   95.261  \n",
       "81203          70  0.0993         0.380  174.874  \n",
       "82459          70  0.8270         0.509  135.601  \n",
       "81301          70  0.3960         0.389  171.860  "
      ]
     },
     "execution_count": 23,
     "metadata": {},
     "output_type": "execute_result"
    }
   ],
   "source": [
    "bd_songs_since_1960 = songs_since_1960[songs_since_1960['artist']=='Bob Dylan']\n",
    "bd_songs_since_1960 = bd_songs_since_1960.sort_values(by='popularity',ascending=False) \n",
    "bd_songs_since_1960.head(5)"
   ]
  },
  {
   "cell_type": "markdown",
   "metadata": {},
   "source": [
    "### 12. Crear un playlist con las canciones mas populares\n",
    "\n",
    "Crea una `lista` de reproducción con la canción más popular de cada año desde 1980 hasta 2020.\n",
    "\n",
    "El resultado debe ser de tipo List con 41 valores de tipo str (una canción para cada año)\n",
    "p.ej. ['cancion1', 'cancion2', 'cancion3', ...]\n",
    "NOTA: En caso de empates, elige la canción con el valor más alto de energy."
   ]
  },
  {
   "cell_type": "code",
   "execution_count": 24,
   "metadata": {},
   "outputs": [],
   "source": [
    "# tu código aquí\n",
    "answer_12 = ___"
   ]
  },
  {
   "cell_type": "markdown",
   "metadata": {},
   "source": [
    "### 13 ¿Cómo se distribuye la popularidad de las canciones en forma de histograma?\n",
    "Crea un grafico para responder esta pregunta\n"
   ]
  },
  {
   "cell_type": "code",
   "execution_count": 38,
   "metadata": {},
   "outputs": [
    {
     "data": {
      "image/png": "[encoded data removed]",
      "text/plain": [
       "<Figure size 640x480 with 1 Axes>"
      ]
     },
     "metadata": {},
     "output_type": "display_data"
    }
   ],
   "source": [
    "# tu código aquí\n",
    "bins = [0,10,20,30,40,50,60,70,80,90,100]\n",
    "plt.hist(df['popularity'], bins=bins, edgecolor='black')\n",
    "plt.xlabel('Popularity')\n",
    "plt.ylabel('Frecuency')\n",
    "plt.title('Histograma de Popularidad de las Canciones')\n",
    "plt.show()"
   ]
  },
  {
   "cell_type": "markdown",
   "metadata": {},
   "source": [
    "### 14 ¿existe una correlación entre la duración de las canciones y su nivel de energía? Representa esta relación en un scatter plot.\n",
    "Crea un grafico para responder esta pregunta"
   ]
  },
  {
   "cell_type": "code",
   "execution_count": 41,
   "metadata": {},
   "outputs": [
    {
     "data": {
      "image/png": "[encoded data removed]",
      "text/plain": [
       "<Figure size 640x480 with 1 Axes>"
      ]
     },
     "metadata": {},
     "output_type": "display_data"
    }
   ],
   "source": [
    "# tu código aquí\n",
    "plt.scatter(df['duration_ms'], df['energy'])\n",
    "plt.xlabel('Duration')\n",
    "plt.ylabel('Energy')\n",
    "plt.title('Scatter Plot: Popularity vs Energy')\n",
    "plt.show()"
   ]
  },
  {
   "cell_type": "markdown",
   "metadata": {},
   "source": [
    "### 15 ¿Cuál es la distribución de la danceability de las canciones en función del año de lanzamiento? \n",
    "Crea un gráfico de barras para mostrar esta distribución."
   ]
  },
  {
   "cell_type": "code",
   "execution_count": null,
   "metadata": {},
   "outputs": [],
   "source": [
    "# tu código aquí\n",
    "..."
   ]
  },
  {
   "cell_type": "markdown",
   "metadata": {},
   "source": [
    "### 16 ¿Cómo varía el tempo de las canciones a lo largo de los años?\n",
    "Representa esta variación utilizando un gráfico de línea.\n"
   ]
  },
  {
   "cell_type": "code",
   "execution_count": null,
   "metadata": {},
   "outputs": [],
   "source": []
  },
  {
   "cell_type": "code",
   "execution_count": null,
   "metadata": {},
   "outputs": [],
   "source": [
    "# tu código aquí\n",
    "..."
   ]
  },
  {
   "cell_type": "markdown",
   "metadata": {},
   "source": [
    "### 17 ¿Cuál es la relación entre la popularidad y la energía de las canciones?\n",
    "Crea un scatter plot para visualizar esta relación.\n"
   ]
  },
  {
   "cell_type": "code",
   "execution_count": 39,
   "metadata": {},
   "outputs": [
    {
     "data": {
      "image/png": "[encoded data removed]",
      "text/plain": [
       "<Figure size 640x480 with 1 Axes>"
      ]
     },
     "metadata": {},
     "output_type": "display_data"
    }
   ],
   "source": [
    "plt.scatter(df['popularity'], df['energy'])\n",
    "plt.xlabel('Popularity')\n",
    "plt.ylabel('Energy')\n",
    "plt.title('Scatter Plot: Popularity vs Energy')\n",
    "plt.show()"
   ]
  },
  {
   "cell_type": "markdown",
   "metadata": {},
   "source": [
    "### 18 ¿Cuál es la tendencia de cambio en la duración de las canciones a lo largo de los años? \n",
    "Utiliza un gráfico de línea para mostrar esta tendencia."
   ]
  },
  {
   "cell_type": "code",
   "execution_count": 40,
   "metadata": {},
   "outputs": [
    {
     "data": {
      "image/png": "[encoded data removed]",
      "text/plain": [
       "<Figure size 640x480 with 1 Axes>"
      ]
     },
     "metadata": {},
     "output_type": "display_data"
    }
   ],
   "source": [
    "# tu código aquí\n",
    "plt.plot(df['year'],df['duration_ms'])\n",
    "plt.xlabel('Año')\n",
    "plt.ylabel('Duracion de la Cancion')\n",
    "plt.title('Evolucion de la duracion de las canciones sobre los años')\n",
    "plt.show()"
   ]
  },
  {
   "cell_type": "markdown",
   "metadata": {},
   "source": [
    "### 19  ¿Cuál es la energía promedio de todas las canciones de 'Michael Jackson'?\n",
    "Para obtener el promedio de los valores en una columna de tipo numerico, puede utilizar el metodo\n",
    "\n",
    "`df[\"nombre de la columna\"].mean()`"
   ]
  },
  {
   "cell_type": "code",
   "execution_count": null,
   "metadata": {},
   "outputs": [
    {
     "data": {
      "text/plain": [
       "0.6930836363636363"
      ]
     },
     "execution_count": 31,
     "metadata": {},
     "output_type": "execute_result"
    }
   ],
   "source": [
    "# tu código aquí\n",
    "mj_songs['energy'].mean()"
   ]
  },
  {
   "cell_type": "markdown",
   "metadata": {},
   "source": [
    "### 20 ¿Cuántos artistas únicos están representados en el dataframe?\n",
    "Para contar los elementos unicos en un dataframe puedes utilizar el metodo:\n",
    "\n",
    "`df[\"nombre de la columna\"].unique()`\n"
   ]
  },
  {
   "cell_type": "code",
   "execution_count": null,
   "metadata": {},
   "outputs": [
    {
     "name": "stdout",
     "output_type": "stream",
     "text": [
      "19695\n"
     ]
    }
   ],
   "source": [
    "# tu código aquí\n",
    "unique_artists = len(df['artist'].unique())\n",
    "print(unique_artists)"
   ]
  }
 ],
 "metadata": {
  "kernelspec": {
   "display_name": "Python 3.10.4 64-bit",
   "language": "python",
   "name": "python3"
  },
  "language_info": {
   "codemirror_mode": {
    "name": "ipython",
    "version": 3
   },
   "file_extension": ".py",
   "mimetype": "text/x-python",
   "name": "python",
   "nbconvert_exporter": "python",
   "pygments_lexer": "ipython3",
   "version": "3.10.11"
  },
  "orig_nbformat": 4,
  "vscode": {
   "interpreter": {
    "hash": "f66e3edf856e3e4a3652763ddb6c2ab1c25665e5b9e1fed087bb1a040433f3bb"
   }
  }
 },
 "nbformat": 4,
 "nbformat_minor": 2
}
